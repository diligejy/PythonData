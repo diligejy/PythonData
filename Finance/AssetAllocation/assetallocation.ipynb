{
  "nbformat": 4,
  "nbformat_minor": 0,
  "metadata": {
    "colab": {
      "name": "assetallocation.ipynb",
      "version": "0.3.2",
      "provenance": []
    },
    "kernelspec": {
      "name": "python3",
      "display_name": "Python 3"
    },
    "accelerator": "GPU"
  },
  "cells": [
    {
      "cell_type": "markdown",
      "metadata": {
        "id": "BxvutRuaXtSi",
        "colab_type": "text"
      },
      "source": [
        "KODEX_200.pkl - 코스피 지수를 추종하는 KODEX 200 ETF 상품의 일별 가격데이터 입니다.\n",
        "\n",
        "KODEX_10Y_KTB.pkl - 10년국채선물지수의 변동률을 따라 가격이 변동하는 KODEX 국채선물10년 ETF 상품의 일별 가격데이터 입니다.\n",
        "(http://blog.alphasquare.co.kr/221602425951?fbclid=IwAR1lAPJ50LyNIM2bMcUZYphXtpQfagZCZkWc4DTcwAcX6e8hT9U4zPvLJgY 참고)"
      ]
    },
    {
      "cell_type": "code",
      "metadata": {
        "id": "XycJzSBXTOxA",
        "colab_type": "code",
        "colab": {
          "base_uri": "https://localhost:8080/",
          "height": 125
        },
        "outputId": "02bda904-ff59-48ad-8a38-587d2e0554af"
      },
      "source": [
        "from google.colab import drive\n",
        "drive.mount('/content/drive')"
      ],
      "execution_count": 1,
      "outputs": [
        {
          "output_type": "stream",
          "text": [
            "Go to this URL in a browser: https://accounts.google.com/o/oauth2/auth?client_id=947318989803-6bn6qk8qdgf4n4g3pfee6491hc0brc4i.apps.googleusercontent.com&redirect_uri=urn%3Aietf%3Awg%3Aoauth%3A2.0%3Aoob&scope=email%20https%3A%2F%2Fwww.googleapis.com%2Fauth%2Fdocs.test%20https%3A%2F%2Fwww.googleapis.com%2Fauth%2Fdrive%20https%3A%2F%2Fwww.googleapis.com%2Fauth%2Fdrive.photos.readonly%20https%3A%2F%2Fwww.googleapis.com%2Fauth%2Fpeopleapi.readonly&response_type=code\n",
            "\n",
            "Enter your authorization code:\n",
            "··········\n",
            "Mounted at /content/drive\n"
          ],
          "name": "stdout"
        }
      ]
    },
    {
      "cell_type": "code",
      "metadata": {
        "id": "HDjJ6rydU3mr",
        "colab_type": "code",
        "colab": {}
      },
      "source": [
        "import pandas as pd \n",
        "import numpy as np \n",
        "import matplotlib.pyplot as plt \n",
        "%matplotlib inline "
      ],
      "execution_count": 0,
      "outputs": []
    },
    {
      "cell_type": "code",
      "metadata": {
        "id": "R2kHqWePVF4-",
        "colab_type": "code",
        "colab": {
          "base_uri": "https://localhost:8080/",
          "height": 225
        },
        "outputId": "b971aa12-3a50-4cbb-af9f-04a468652851"
      },
      "source": [
        "# KODEX 200 ETF 가격 데이터를 읽어와 데이터 프레임에 저장합니다. \n",
        "kospi_df = pd.read_pickle('/content/drive/My Drive/Python/finance/KODEX_200.pkl') \n",
        "kospi_df.head()"
      ],
      "execution_count": 5,
      "outputs": [
        {
          "output_type": "execute_result",
          "data": {
            "text/html": [
              "<div>\n",
              "<style scoped>\n",
              "    .dataframe tbody tr th:only-of-type {\n",
              "        vertical-align: middle;\n",
              "    }\n",
              "\n",
              "    .dataframe tbody tr th {\n",
              "        vertical-align: top;\n",
              "    }\n",
              "\n",
              "    .dataframe thead th {\n",
              "        text-align: right;\n",
              "    }\n",
              "</style>\n",
              "<table border=\"1\" class=\"dataframe\">\n",
              "  <thead>\n",
              "    <tr style=\"text-align: right;\">\n",
              "      <th></th>\n",
              "      <th>close</th>\n",
              "      <th>high</th>\n",
              "      <th>low</th>\n",
              "      <th>open</th>\n",
              "      <th>volume</th>\n",
              "    </tr>\n",
              "    <tr>\n",
              "      <th>dt</th>\n",
              "      <th></th>\n",
              "      <th></th>\n",
              "      <th></th>\n",
              "      <th></th>\n",
              "      <th></th>\n",
              "    </tr>\n",
              "  </thead>\n",
              "  <tbody>\n",
              "    <tr>\n",
              "      <th>2012-01-20</th>\n",
              "      <td>23197.4</td>\n",
              "      <td>23264.1</td>\n",
              "      <td>22801.9</td>\n",
              "      <td>22833.0</td>\n",
              "      <td>5205309.50</td>\n",
              "    </tr>\n",
              "    <tr>\n",
              "      <th>2012-01-25</th>\n",
              "      <td>23277.4</td>\n",
              "      <td>23539.6</td>\n",
              "      <td>23161.9</td>\n",
              "      <td>23197.4</td>\n",
              "      <td>7721437.00</td>\n",
              "    </tr>\n",
              "    <tr>\n",
              "      <th>2012-01-26</th>\n",
              "      <td>23299.6</td>\n",
              "      <td>23428.5</td>\n",
              "      <td>23237.4</td>\n",
              "      <td>23428.5</td>\n",
              "      <td>2162210.50</td>\n",
              "    </tr>\n",
              "    <tr>\n",
              "      <th>2012-01-27</th>\n",
              "      <td>23335.2</td>\n",
              "      <td>23419.6</td>\n",
              "      <td>23206.3</td>\n",
              "      <td>23419.6</td>\n",
              "      <td>3456417.50</td>\n",
              "    </tr>\n",
              "    <tr>\n",
              "      <th>2012-01-30</th>\n",
              "      <td>23073.0</td>\n",
              "      <td>23308.5</td>\n",
              "      <td>23050.8</td>\n",
              "      <td>23241.9</td>\n",
              "      <td>2899746.25</td>\n",
              "    </tr>\n",
              "  </tbody>\n",
              "</table>\n",
              "</div>"
            ],
            "text/plain": [
              "              close     high      low     open      volume\n",
              "dt                                                        \n",
              "2012-01-20  23197.4  23264.1  22801.9  22833.0  5205309.50\n",
              "2012-01-25  23277.4  23539.6  23161.9  23197.4  7721437.00\n",
              "2012-01-26  23299.6  23428.5  23237.4  23428.5  2162210.50\n",
              "2012-01-27  23335.2  23419.6  23206.3  23419.6  3456417.50\n",
              "2012-01-30  23073.0  23308.5  23050.8  23241.9  2899746.25"
            ]
          },
          "metadata": {
            "tags": []
          },
          "execution_count": 5
        }
      ]
    },
    {
      "cell_type": "code",
      "metadata": {
        "id": "Ajr6AGHEWlDb",
        "colab_type": "code",
        "colab": {
          "base_uri": "https://localhost:8080/",
          "height": 225
        },
        "outputId": "a2ea7e82-48d2-44e3-8b06-0d6ddc483bae"
      },
      "source": [
        "# KODEX 국채선물10년 ETF 가격 데이터를 읽어와 데이터 프레임에 저장합니다. \n",
        "ktb_df = pd.read_pickle('/content/drive/My Drive/Python/finance/KODEX_10Y_KTB.pkl') \n",
        "ktb_df.head()"
      ],
      "execution_count": 6,
      "outputs": [
        {
          "output_type": "execute_result",
          "data": {
            "text/html": [
              "<div>\n",
              "<style scoped>\n",
              "    .dataframe tbody tr th:only-of-type {\n",
              "        vertical-align: middle;\n",
              "    }\n",
              "\n",
              "    .dataframe tbody tr th {\n",
              "        vertical-align: top;\n",
              "    }\n",
              "\n",
              "    .dataframe thead th {\n",
              "        text-align: right;\n",
              "    }\n",
              "</style>\n",
              "<table border=\"1\" class=\"dataframe\">\n",
              "  <thead>\n",
              "    <tr style=\"text-align: right;\">\n",
              "      <th></th>\n",
              "      <th>close</th>\n",
              "      <th>high</th>\n",
              "      <th>low</th>\n",
              "      <th>open</th>\n",
              "      <th>volume</th>\n",
              "    </tr>\n",
              "    <tr>\n",
              "      <th>dt</th>\n",
              "      <th></th>\n",
              "      <th></th>\n",
              "      <th></th>\n",
              "      <th></th>\n",
              "      <th></th>\n",
              "    </tr>\n",
              "  </thead>\n",
              "  <tbody>\n",
              "    <tr>\n",
              "      <th>2012-01-20</th>\n",
              "      <td>49960.0</td>\n",
              "      <td>50040.0</td>\n",
              "      <td>49960.0</td>\n",
              "      <td>50040.0</td>\n",
              "      <td>3276.0</td>\n",
              "    </tr>\n",
              "    <tr>\n",
              "      <th>2012-01-25</th>\n",
              "      <td>49960.0</td>\n",
              "      <td>49960.0</td>\n",
              "      <td>49960.0</td>\n",
              "      <td>49960.0</td>\n",
              "      <td>100.0</td>\n",
              "    </tr>\n",
              "    <tr>\n",
              "      <th>2012-01-26</th>\n",
              "      <td>49930.0</td>\n",
              "      <td>49985.0</td>\n",
              "      <td>49925.0</td>\n",
              "      <td>49960.0</td>\n",
              "      <td>1161.0</td>\n",
              "    </tr>\n",
              "    <tr>\n",
              "      <th>2012-01-27</th>\n",
              "      <td>50000.0</td>\n",
              "      <td>57200.0</td>\n",
              "      <td>49810.0</td>\n",
              "      <td>57200.0</td>\n",
              "      <td>104.0</td>\n",
              "    </tr>\n",
              "    <tr>\n",
              "      <th>2012-01-30</th>\n",
              "      <td>50130.0</td>\n",
              "      <td>50130.0</td>\n",
              "      <td>50000.0</td>\n",
              "      <td>50000.0</td>\n",
              "      <td>1080.0</td>\n",
              "    </tr>\n",
              "  </tbody>\n",
              "</table>\n",
              "</div>"
            ],
            "text/plain": [
              "              close     high      low     open  volume\n",
              "dt                                                    \n",
              "2012-01-20  49960.0  50040.0  49960.0  50040.0  3276.0\n",
              "2012-01-25  49960.0  49960.0  49960.0  49960.0   100.0\n",
              "2012-01-26  49930.0  49985.0  49925.0  49960.0  1161.0\n",
              "2012-01-27  50000.0  57200.0  49810.0  57200.0   104.0\n",
              "2012-01-30  50130.0  50130.0  50000.0  50000.0  1080.0"
            ]
          },
          "metadata": {
            "tags": []
          },
          "execution_count": 6
        }
      ]
    },
    {
      "cell_type": "code",
      "metadata": {
        "id": "ze7gEFS4XcuM",
        "colab_type": "code",
        "colab": {}
      },
      "source": [
        ""
      ],
      "execution_count": 0,
      "outputs": []
    }
  ]
}