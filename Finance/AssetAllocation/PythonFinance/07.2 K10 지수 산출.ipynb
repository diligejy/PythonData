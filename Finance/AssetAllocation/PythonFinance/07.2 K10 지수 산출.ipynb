{
 "cells": [
  {
   "cell_type": "code",
   "execution_count": 1,
   "metadata": {},
   "outputs": [],
   "source": [
    "import bs4\n",
    "from urllib.request import urlopen"
   ]
  },
  {
   "cell_type": "code",
   "execution_count": 2,
   "metadata": {},
   "outputs": [
    {
     "data": {
      "text/plain": [
       "'http://companyinfo.stock.naver.com/v1/company/c1010001.aspx?cmp_cd=035420'"
      ]
     },
     "execution_count": 2,
     "metadata": {},
     "output_type": "execute_result"
    }
   ],
   "source": [
    "url_float = 'http://companyinfo.stock.naver.com/v1/company/c1010001.aspx?cmp_cd=035420'     \n",
    "# Floating ratio from Naver\n",
    "url_float"
   ]
  },
  {
   "cell_type": "code",
   "execution_count": 3,
   "metadata": {},
   "outputs": [],
   "source": [
    "source = urlopen(url_float).read()\n",
    "soup = bs4.BeautifulSoup(source, 'lxml')"
   ]
  },
  {
   "cell_type": "markdown",
   "metadata": {},
   "source": [
    "//*[@id=\"cTB11\"]/tbody/tr[7]/td"
   ]
  },
  {
   "cell_type": "code",
   "execution_count": 4,
   "metadata": {},
   "outputs": [
    {
     "data": {
      "text/plain": [
       "'\\r\\n\\t\\t\\t\\t\\t\\t\\t\\t\\t\\t\\t\\t\\t\\t\\t164,813,395주 / 78.70%\\r\\n\\t\\t\\t\\t\\t\\t\\t\\t\\t\\t\\t\\t\\t\\t'"
      ]
     },
     "execution_count": 4,
     "metadata": {},
     "output_type": "execute_result"
    }
   ],
   "source": [
    "soup.find(id='cTB11').find_all('tr')[6].td.text"
   ]
  },
  {
   "cell_type": "code",
   "execution_count": 5,
   "metadata": {},
   "outputs": [
    {
     "data": {
      "text/plain": [
       "'164,813,395주 / 78.70%'"
      ]
     },
     "execution_count": 5,
     "metadata": {},
     "output_type": "execute_result"
    }
   ],
   "source": [
    "tmp = soup.find(id='cTB11').find_all('tr')[6].td.text\n",
    "tmp = tmp.replace('\\r', '')\n",
    "tmp = tmp.replace('\\n', '')\n",
    "tmp = tmp.replace('\\t', '')\n",
    "tmp"
   ]
  },
  {
   "cell_type": "code",
   "execution_count": 6,
   "metadata": {},
   "outputs": [],
   "source": [
    "import re"
   ]
  },
  {
   "cell_type": "code",
   "execution_count": 7,
   "metadata": {},
   "outputs": [
    {
     "data": {
      "text/plain": [
       "['164,813,395주 ', ' 78.70%']"
      ]
     },
     "execution_count": 7,
     "metadata": {},
     "output_type": "execute_result"
    }
   ],
   "source": [
    "tmp = re.split('/', tmp)\n",
    "tmp"
   ]
  },
  {
   "cell_type": "code",
   "execution_count": 8,
   "metadata": {},
   "outputs": [
    {
     "data": {
      "text/plain": [
       "'164,813,395주 '"
      ]
     },
     "execution_count": 8,
     "metadata": {},
     "output_type": "execute_result"
    }
   ],
   "source": [
    "tmp[0]"
   ]
  },
  {
   "cell_type": "code",
   "execution_count": 9,
   "metadata": {
    "scrolled": false
   },
   "outputs": [
    {
     "data": {
      "text/plain": [
       "' 78.70%'"
      ]
     },
     "execution_count": 9,
     "metadata": {},
     "output_type": "execute_result"
    }
   ],
   "source": [
    "tmp[1]"
   ]
  },
  {
   "cell_type": "code",
   "execution_count": 10,
   "metadata": {},
   "outputs": [
    {
     "data": {
      "text/plain": [
       "'164813395'"
      ]
     },
     "execution_count": 10,
     "metadata": {},
     "output_type": "execute_result"
    }
   ],
   "source": [
    "outstanding = tmp[0].replace(',', '')\n",
    "outstanding = outstanding.replace('주', '')\n",
    "outstanding = outstanding.replace(' ', '')\n",
    "outstanding"
   ]
  },
  {
   "cell_type": "code",
   "execution_count": 11,
   "metadata": {},
   "outputs": [
    {
     "data": {
      "text/plain": [
       "'78.70'"
      ]
     },
     "execution_count": 11,
     "metadata": {},
     "output_type": "execute_result"
    }
   ],
   "source": [
    "floating = tmp[1].replace(' ', '')\n",
    "floating = floating.replace('%', '')\n",
    "floating"
   ]
  },
  {
   "cell_type": "code",
   "execution_count": 12,
   "metadata": {},
   "outputs": [
    {
     "data": {
      "text/plain": [
       "164813395"
      ]
     },
     "execution_count": 12,
     "metadata": {},
     "output_type": "execute_result"
    }
   ],
   "source": [
    "outstanding = int(outstanding)\n",
    "outstanding"
   ]
  },
  {
   "cell_type": "code",
   "execution_count": 13,
   "metadata": {},
   "outputs": [
    {
     "data": {
      "text/plain": [
       "78.7"
      ]
     },
     "execution_count": 13,
     "metadata": {},
     "output_type": "execute_result"
    }
   ],
   "source": [
    "floating = float(floating)\n",
    "floating"
   ]
  },
  {
   "cell_type": "code",
   "execution_count": 14,
   "metadata": {},
   "outputs": [],
   "source": [
    "# 구성종목 기본정보\n",
    "def stock_info(stock_cd):\n",
    "    url_float = 'http://companyinfo.stock.naver.com/v1/company/c1010001.aspx?cmp_cd=' + stock_cd\n",
    "    source = urlopen(url_float).read()\n",
    "    soup = bs4.BeautifulSoup(source, 'lxml')\n",
    "    \n",
    "    tmp = soup.find(id='cTB11').find_all('tr')[6].td.text\n",
    "    tmp = tmp.replace('\\r', '')\n",
    "    tmp = tmp.replace('\\n', '')\n",
    "    tmp = tmp.replace('\\t', '')\n",
    "    \n",
    "    tmp = re.split('/', tmp)\n",
    "\n",
    "    outstanding = tmp[0].replace(',', '')\n",
    "    outstanding = outstanding.replace('주', '')\n",
    "    outstanding = outstanding.replace(' ', '')\n",
    "    outstanding = int(outstanding)\n",
    "\n",
    "    floating = tmp[1].replace(' ', '')\n",
    "    floating = floating.replace('%', '')\n",
    "    floating = float(floating)\n",
    "    \n",
    "    name = soup.find(id='pArea').find('div').find('div').find('tr').find('td').find('span').text\n",
    "    \n",
    "    k10_outstanding[stock_cd] = outstanding\n",
    "    k10_floating[stock_cd] = floating\n",
    "    k10_name[stock_cd] = name"
   ]
  },
  {
   "cell_type": "code",
   "execution_count": 15,
   "metadata": {},
   "outputs": [],
   "source": [
    "'''\n",
    "한국거래소 시가총액 상위 10종목 (2019년1월 기준)\n",
    "005930\t삼성전자\n",
    "000660\tSK하이닉스\n",
    "068270\t셀트리온\n",
    "005380\t현대차\n",
    "207940\t삼성바이오로직스\n",
    "051910\tLG화학\n",
    "005490\tPOSCO\n",
    "035420\tNAVER\n",
    "017670\tSK텔레콤\n",
    "015760\t한국전력\n",
    "'''\n",
    "k10_component = ['005930', '000660', '068270', '005380', '207940',\\\n",
    "                 '051910', '005490', '035420', '017670', '015760']"
   ]
  },
  {
   "cell_type": "code",
   "execution_count": 16,
   "metadata": {},
   "outputs": [
    {
     "name": "stdout",
     "output_type": "stream",
     "text": [
      "005930\n",
      "000660\n",
      "068270\n",
      "005380\n",
      "207940\n",
      "051910\n",
      "005490\n",
      "035420\n",
      "017670\n",
      "015760\n"
     ]
    }
   ],
   "source": [
    "k10_outstanding = dict()\n",
    "k10_floating = dict()\n",
    "k10_name = dict()\n",
    "for stock_cd in k10_component:\n",
    "    print(stock_cd)\n",
    "    stock_info(stock_cd)"
   ]
  },
  {
   "cell_type": "code",
   "execution_count": 17,
   "metadata": {},
   "outputs": [
    {
     "data": {
      "text/plain": [
       "{'005930': 5969782550,\n",
       " '000660': 728002365,\n",
       " '068270': 127948184,\n",
       " '005380': 213668187,\n",
       " '207940': 66165000,\n",
       " '051910': 70592343,\n",
       " '005490': 87186835,\n",
       " '035420': 164813395,\n",
       " '017670': 80745711,\n",
       " '015760': 641964077}"
      ]
     },
     "execution_count": 17,
     "metadata": {},
     "output_type": "execute_result"
    }
   ],
   "source": [
    "k10_outstanding"
   ]
  },
  {
   "cell_type": "code",
   "execution_count": 18,
   "metadata": {},
   "outputs": [
    {
     "data": {
      "text/plain": [
       "{'005930': 78.75,\n",
       " '000660': 73.89,\n",
       " '068270': 66.35,\n",
       " '005380': 66.33,\n",
       " '207940': 24.76,\n",
       " '051910': 64.28,\n",
       " '005490': 79.6,\n",
       " '035420': 78.7,\n",
       " '017670': 62.23,\n",
       " '015760': 48.86}"
      ]
     },
     "execution_count": 18,
     "metadata": {},
     "output_type": "execute_result"
    }
   ],
   "source": [
    "k10_floating"
   ]
  },
  {
   "cell_type": "code",
   "execution_count": null,
   "metadata": {},
   "outputs": [],
   "source": []
  },
  {
   "cell_type": "markdown",
   "metadata": {
    "collapsed": true
   },
   "source": [
    "과거 주가 구하기 "
   ]
  },
  {
   "cell_type": "code",
   "execution_count": 19,
   "metadata": {},
   "outputs": [],
   "source": [
    "import datetime as dt\n",
    "import pandas as pd"
   ]
  },
  {
   "cell_type": "code",
   "execution_count": 20,
   "metadata": {},
   "outputs": [],
   "source": [
    "def date_format(d):\n",
    "    d = str(d).replace('-', '.')\n",
    "    \n",
    "    yyyy = int(d.split('.')[0]) \n",
    "    mm = int(d.split('.')[1])\n",
    "    dd = int(d.split('.')[2])\n",
    "\n",
    "    this_date= dt.date(yyyy, mm, dd)\n",
    "    return this_date"
   ]
  },
  {
   "cell_type": "code",
   "execution_count": 21,
   "metadata": {},
   "outputs": [],
   "source": [
    "def historical_stock_naver(stock_cd, start_date='', end_date='', page_n=1, last_page=0):\n",
    "    \n",
    "    if start_date:   # start_date가 있으면\n",
    "        start_date = date_format(start_date)   # date 포맷으로 변환\n",
    "    else:    # 없으면\n",
    "        start_date = dt.date.today()   # 오늘 날짜를 지정\n",
    "    if end_date:   # end_date가 없으면 \n",
    "        end_date = date_format(end_date)   # date 포맷으로 변환\n",
    "    else:   # end_date가 있으면\n",
    "        end_date = dt.date.today()   # 오늘 날짜를 end_date로 지정\n",
    "        \n",
    "    naver_stock = 'http://finance.naver.com/item/sise_day.nhn?code=' + stock_cd + '&page=' + str(page_n)\n",
    "    \n",
    "    source = urlopen(naver_stock).read()\n",
    "    source = bs4.BeautifulSoup(source, 'lxml')\n",
    "    \n",
    "    dates = source.find_all('span', class_='tah p10 gray03')   # 날짜 수집   \n",
    "    prices = source.find_all('td', class_='num')   # 종가 수집\n",
    "    \n",
    "    for n in range(len(dates)):\n",
    "    \n",
    "        if len(dates) > 0:\n",
    "            \n",
    "            # 날짜 처리\n",
    "            this_date = dates[n].text\n",
    "            this_date = date_format(this_date)\n",
    "            \n",
    "            if this_date <= end_date and this_date >= start_date:   \n",
    "            # start_date와 end_date 사이에서 데이터 저장\n",
    "                # 종가 처리\n",
    "                this_close = prices[n*6].text\n",
    "                this_close = this_close.replace(',', '')\n",
    "                this_close = float(this_close)\n",
    "\n",
    "                # 딕셔너리에 저장\n",
    "                historical_prices[this_date] = this_close\n",
    "                              \n",
    "            elif this_date < start_date:   \n",
    "            # start_date 이전이면 함수 종료\n",
    "                return historical_prices              \n",
    "            \n",
    "    # 페이지 네비게이션\n",
    "    if last_page == 0:\n",
    "        last_page = source.find_all('table')[1].find('td', class_='pgRR').find('a')['href']\n",
    "        last_page = last_page.split('&')[1]\n",
    "        last_page = last_page.split('=')[1]\n",
    "        last_page = float(last_page)\n",
    "        \n",
    "    # 다음 페이지 호출\n",
    "    if page_n < last_page:\n",
    "        page_n = page_n + 1\n",
    "        historical_stock_naver(stock_cd, start_date, end_date, page_n, last_page)   \n",
    "        \n",
    "    return historical_prices  "
   ]
  },
  {
   "cell_type": "code",
   "execution_count": 22,
   "metadata": {},
   "outputs": [],
   "source": [
    "k10_historical_prices = dict()\n",
    "\n",
    "for stock_cd in k10_component:\n",
    "    \n",
    "    historical_prices = dict()\n",
    "    start_date = '2017-1-1'\n",
    "    end_date = '2017-12-31'\n",
    "    historical_stock_naver(stock_cd, start_date, end_date)\n",
    "    \n",
    "    k10_historical_prices[stock_cd] = historical_prices"
   ]
  },
  {
   "cell_type": "code",
   "execution_count": 23,
   "metadata": {
    "scrolled": true
   },
   "outputs": [],
   "source": [
    "k10_historical_price = pd.DataFrame(k10_historical_prices)\n",
    "k10_historical_price.sort_index(axis=1, inplace=True) "
   ]
  },
  {
   "cell_type": "code",
   "execution_count": 24,
   "metadata": {
    "scrolled": true
   },
   "outputs": [
    {
     "data": {
      "text/html": [
       "<div>\n",
       "<style scoped>\n",
       "    .dataframe tbody tr th:only-of-type {\n",
       "        vertical-align: middle;\n",
       "    }\n",
       "\n",
       "    .dataframe tbody tr th {\n",
       "        vertical-align: top;\n",
       "    }\n",
       "\n",
       "    .dataframe thead th {\n",
       "        text-align: right;\n",
       "    }\n",
       "</style>\n",
       "<table border=\"1\" class=\"dataframe\">\n",
       "  <thead>\n",
       "    <tr style=\"text-align: right;\">\n",
       "      <th></th>\n",
       "      <th>000660</th>\n",
       "      <th>005380</th>\n",
       "      <th>005490</th>\n",
       "      <th>005930</th>\n",
       "      <th>015760</th>\n",
       "      <th>017670</th>\n",
       "      <th>035420</th>\n",
       "      <th>051910</th>\n",
       "      <th>068270</th>\n",
       "      <th>207940</th>\n",
       "    </tr>\n",
       "  </thead>\n",
       "  <tbody>\n",
       "    <tr>\n",
       "      <th>2017-01-02</th>\n",
       "      <td>45800.0</td>\n",
       "      <td>150000.0</td>\n",
       "      <td>260500.0</td>\n",
       "      <td>1805000.0</td>\n",
       "      <td>43900.0</td>\n",
       "      <td>225500.0</td>\n",
       "      <td>777000.0</td>\n",
       "      <td>253000.0</td>\n",
       "      <td>108200.0</td>\n",
       "      <td>156500.0</td>\n",
       "    </tr>\n",
       "    <tr>\n",
       "      <th>2017-01-03</th>\n",
       "      <td>47250.0</td>\n",
       "      <td>153000.0</td>\n",
       "      <td>256000.0</td>\n",
       "      <td>1824000.0</td>\n",
       "      <td>44100.0</td>\n",
       "      <td>223000.0</td>\n",
       "      <td>767000.0</td>\n",
       "      <td>262000.0</td>\n",
       "      <td>106600.0</td>\n",
       "      <td>158000.0</td>\n",
       "    </tr>\n",
       "    <tr>\n",
       "      <th>2017-01-04</th>\n",
       "      <td>46500.0</td>\n",
       "      <td>154000.0</td>\n",
       "      <td>254500.0</td>\n",
       "      <td>1808000.0</td>\n",
       "      <td>43900.0</td>\n",
       "      <td>223000.0</td>\n",
       "      <td>810000.0</td>\n",
       "      <td>268500.0</td>\n",
       "      <td>106100.0</td>\n",
       "      <td>154500.0</td>\n",
       "    </tr>\n",
       "  </tbody>\n",
       "</table>\n",
       "</div>"
      ],
      "text/plain": [
       "             000660    005380    005490     005930   015760    017670  \\\n",
       "2017-01-02  45800.0  150000.0  260500.0  1805000.0  43900.0  225500.0   \n",
       "2017-01-03  47250.0  153000.0  256000.0  1824000.0  44100.0  223000.0   \n",
       "2017-01-04  46500.0  154000.0  254500.0  1808000.0  43900.0  223000.0   \n",
       "\n",
       "              035420    051910    068270    207940  \n",
       "2017-01-02  777000.0  253000.0  108200.0  156500.0  \n",
       "2017-01-03  767000.0  262000.0  106600.0  158000.0  \n",
       "2017-01-04  810000.0  268500.0  106100.0  154500.0  "
      ]
     },
     "execution_count": 24,
     "metadata": {},
     "output_type": "execute_result"
    }
   ],
   "source": [
    "k10_historical_price = k10_historical_price.fillna(method='ffill')   # ffill로 구멍을 채우고\n",
    "if k10_historical_price.isnull().values.any():   # 그래도 구멍이 남아 있으면\n",
    "    k10_historical_price = k10_historical_price.fillna(method='bfill')   # bfill로 채워라\n",
    "k10_historical_price.head(3)"
   ]
  },
  {
   "cell_type": "code",
   "execution_count": 25,
   "metadata": {},
   "outputs": [
    {
     "data": {
      "text/html": [
       "<div>\n",
       "<style scoped>\n",
       "    .dataframe tbody tr th:only-of-type {\n",
       "        vertical-align: middle;\n",
       "    }\n",
       "\n",
       "    .dataframe tbody tr th {\n",
       "        vertical-align: top;\n",
       "    }\n",
       "\n",
       "    .dataframe thead th {\n",
       "        text-align: right;\n",
       "    }\n",
       "</style>\n",
       "<table border=\"1\" class=\"dataframe\">\n",
       "  <thead>\n",
       "    <tr style=\"text-align: right;\">\n",
       "      <th></th>\n",
       "      <th>000660</th>\n",
       "      <th>005380</th>\n",
       "      <th>005490</th>\n",
       "      <th>005930</th>\n",
       "      <th>015760</th>\n",
       "      <th>017670</th>\n",
       "      <th>035420</th>\n",
       "      <th>051910</th>\n",
       "      <th>068270</th>\n",
       "      <th>207940</th>\n",
       "    </tr>\n",
       "  </thead>\n",
       "  <tbody>\n",
       "    <tr>\n",
       "      <th>2017-01-02</th>\n",
       "      <td>45800.0</td>\n",
       "      <td>150000.0</td>\n",
       "      <td>260500.0</td>\n",
       "      <td>36100.0</td>\n",
       "      <td>43900.0</td>\n",
       "      <td>225500.0</td>\n",
       "      <td>777000.0</td>\n",
       "      <td>253000.0</td>\n",
       "      <td>108200.0</td>\n",
       "      <td>156500.0</td>\n",
       "    </tr>\n",
       "    <tr>\n",
       "      <th>2017-01-03</th>\n",
       "      <td>47250.0</td>\n",
       "      <td>153000.0</td>\n",
       "      <td>256000.0</td>\n",
       "      <td>36480.0</td>\n",
       "      <td>44100.0</td>\n",
       "      <td>223000.0</td>\n",
       "      <td>767000.0</td>\n",
       "      <td>262000.0</td>\n",
       "      <td>106600.0</td>\n",
       "      <td>158000.0</td>\n",
       "    </tr>\n",
       "    <tr>\n",
       "      <th>2017-01-04</th>\n",
       "      <td>46500.0</td>\n",
       "      <td>154000.0</td>\n",
       "      <td>254500.0</td>\n",
       "      <td>36160.0</td>\n",
       "      <td>43900.0</td>\n",
       "      <td>223000.0</td>\n",
       "      <td>810000.0</td>\n",
       "      <td>268500.0</td>\n",
       "      <td>106100.0</td>\n",
       "      <td>154500.0</td>\n",
       "    </tr>\n",
       "  </tbody>\n",
       "</table>\n",
       "</div>"
      ],
      "text/plain": [
       "             000660    005380    005490   005930   015760    017670    035420  \\\n",
       "2017-01-02  45800.0  150000.0  260500.0  36100.0  43900.0  225500.0  777000.0   \n",
       "2017-01-03  47250.0  153000.0  256000.0  36480.0  44100.0  223000.0  767000.0   \n",
       "2017-01-04  46500.0  154000.0  254500.0  36160.0  43900.0  223000.0  810000.0   \n",
       "\n",
       "              051910    068270    207940  \n",
       "2017-01-02  253000.0  108200.0  156500.0  \n",
       "2017-01-03  262000.0  106600.0  158000.0  \n",
       "2017-01-04  268500.0  106100.0  154500.0  "
      ]
     },
     "execution_count": 25,
     "metadata": {},
     "output_type": "execute_result"
    }
   ],
   "source": [
    "k10_historical_price['005930'] = k10_historical_price['005930'] / 50   # 삼성전자 액면분할에 따른 수정주가 계산\n",
    "k10_historical_price.head(3)"
   ]
  },
  {
   "cell_type": "markdown",
   "metadata": {},
   "source": [
    "지수 산출을 위한 계산"
   ]
  },
  {
   "cell_type": "code",
   "execution_count": 26,
   "metadata": {
    "scrolled": true
   },
   "outputs": [],
   "source": [
    "tmp = {'Outstanding' : k10_outstanding,\\\n",
    "       'Floating' : k10_floating,\\\n",
    "       'Price' : k10_historical_price.iloc[0],\\\n",
    "       'Name' : k10_name}\n",
    "k10_info = pd.DataFrame(tmp)"
   ]
  },
  {
   "cell_type": "code",
   "execution_count": 27,
   "metadata": {},
   "outputs": [
    {
     "data": {
      "text/html": [
       "<div>\n",
       "<style scoped>\n",
       "    .dataframe tbody tr th:only-of-type {\n",
       "        vertical-align: middle;\n",
       "    }\n",
       "\n",
       "    .dataframe tbody tr th {\n",
       "        vertical-align: top;\n",
       "    }\n",
       "\n",
       "    .dataframe thead th {\n",
       "        text-align: right;\n",
       "    }\n",
       "</style>\n",
       "<table border=\"1\" class=\"dataframe\">\n",
       "  <thead>\n",
       "    <tr style=\"text-align: right;\">\n",
       "      <th></th>\n",
       "      <th>Outstanding</th>\n",
       "      <th>Floating</th>\n",
       "      <th>Price</th>\n",
       "      <th>Name</th>\n",
       "      <th>f Market Cap</th>\n",
       "      <th>Market Cap</th>\n",
       "    </tr>\n",
       "  </thead>\n",
       "  <tbody>\n",
       "    <tr>\n",
       "      <th>000660</th>\n",
       "      <td>728002365</td>\n",
       "      <td>73.89</td>\n",
       "      <td>45800.0</td>\n",
       "      <td>SK하이닉스</td>\n",
       "      <td>2.463678e+13</td>\n",
       "      <td>3.334251e+11</td>\n",
       "    </tr>\n",
       "    <tr>\n",
       "      <th>005380</th>\n",
       "      <td>213668187</td>\n",
       "      <td>66.33</td>\n",
       "      <td>150000.0</td>\n",
       "      <td>현대차</td>\n",
       "      <td>2.125892e+13</td>\n",
       "      <td>3.205023e+11</td>\n",
       "    </tr>\n",
       "    <tr>\n",
       "      <th>005490</th>\n",
       "      <td>87186835</td>\n",
       "      <td>79.60</td>\n",
       "      <td>260500.0</td>\n",
       "      <td>POSCO</td>\n",
       "      <td>1.807889e+13</td>\n",
       "      <td>2.271217e+11</td>\n",
       "    </tr>\n",
       "    <tr>\n",
       "      <th>005930</th>\n",
       "      <td>5969782550</td>\n",
       "      <td>78.75</td>\n",
       "      <td>36100.0</td>\n",
       "      <td>삼성전자</td>\n",
       "      <td>1.697135e+14</td>\n",
       "      <td>2.155092e+12</td>\n",
       "    </tr>\n",
       "    <tr>\n",
       "      <th>015760</th>\n",
       "      <td>641964077</td>\n",
       "      <td>48.86</td>\n",
       "      <td>43900.0</td>\n",
       "      <td>한국전력</td>\n",
       "      <td>1.376983e+13</td>\n",
       "      <td>2.818222e+11</td>\n",
       "    </tr>\n",
       "    <tr>\n",
       "      <th>017670</th>\n",
       "      <td>80745711</td>\n",
       "      <td>62.23</td>\n",
       "      <td>225500.0</td>\n",
       "      <td>SK텔레콤</td>\n",
       "      <td>1.133094e+13</td>\n",
       "      <td>1.820816e+11</td>\n",
       "    </tr>\n",
       "    <tr>\n",
       "      <th>035420</th>\n",
       "      <td>164813395</td>\n",
       "      <td>78.70</td>\n",
       "      <td>777000.0</td>\n",
       "      <td>NAVER</td>\n",
       "      <td>1.007832e+14</td>\n",
       "      <td>1.280600e+12</td>\n",
       "    </tr>\n",
       "    <tr>\n",
       "      <th>051910</th>\n",
       "      <td>70592343</td>\n",
       "      <td>64.28</td>\n",
       "      <td>253000.0</td>\n",
       "      <td>LG화학</td>\n",
       "      <td>1.148032e+13</td>\n",
       "      <td>1.785986e+11</td>\n",
       "    </tr>\n",
       "    <tr>\n",
       "      <th>068270</th>\n",
       "      <td>127948184</td>\n",
       "      <td>66.35</td>\n",
       "      <td>108200.0</td>\n",
       "      <td>셀트리온</td>\n",
       "      <td>9.185490e+12</td>\n",
       "      <td>1.384399e+11</td>\n",
       "    </tr>\n",
       "    <tr>\n",
       "      <th>207940</th>\n",
       "      <td>66165000</td>\n",
       "      <td>24.76</td>\n",
       "      <td>156500.0</td>\n",
       "      <td>삼성바이오로직스</td>\n",
       "      <td>2.563854e+12</td>\n",
       "      <td>1.035482e+11</td>\n",
       "    </tr>\n",
       "  </tbody>\n",
       "</table>\n",
       "</div>"
      ],
      "text/plain": [
       "        Outstanding  Floating     Price      Name  f Market Cap    Market Cap\n",
       "000660    728002365     73.89   45800.0    SK하이닉스  2.463678e+13  3.334251e+11\n",
       "005380    213668187     66.33  150000.0       현대차  2.125892e+13  3.205023e+11\n",
       "005490     87186835     79.60  260500.0     POSCO  1.807889e+13  2.271217e+11\n",
       "005930   5969782550     78.75   36100.0      삼성전자  1.697135e+14  2.155092e+12\n",
       "015760    641964077     48.86   43900.0      한국전력  1.376983e+13  2.818222e+11\n",
       "017670     80745711     62.23  225500.0     SK텔레콤  1.133094e+13  1.820816e+11\n",
       "035420    164813395     78.70  777000.0     NAVER  1.007832e+14  1.280600e+12\n",
       "051910     70592343     64.28  253000.0      LG화학  1.148032e+13  1.785986e+11\n",
       "068270    127948184     66.35  108200.0      셀트리온  9.185490e+12  1.384399e+11\n",
       "207940     66165000     24.76  156500.0  삼성바이오로직스  2.563854e+12  1.035482e+11"
      ]
     },
     "execution_count": 27,
     "metadata": {},
     "output_type": "execute_result"
    }
   ],
   "source": [
    "k10_info['f Market Cap'] = k10_info['Outstanding'] * k10_info['Floating'] * k10_info['Price'] * 0.01\n",
    "k10_info['Market Cap'] = k10_info['Outstanding'] * k10_info['Price'] * 0.01\n",
    "k10_info"
   ]
  },
  {
   "cell_type": "code",
   "execution_count": 28,
   "metadata": {
    "scrolled": true
   },
   "outputs": [
    {
     "data": {
      "text/html": [
       "<div>\n",
       "<style scoped>\n",
       "    .dataframe tbody tr th:only-of-type {\n",
       "        vertical-align: middle;\n",
       "    }\n",
       "\n",
       "    .dataframe tbody tr th {\n",
       "        vertical-align: top;\n",
       "    }\n",
       "\n",
       "    .dataframe thead th {\n",
       "        text-align: right;\n",
       "    }\n",
       "</style>\n",
       "<table border=\"1\" class=\"dataframe\">\n",
       "  <thead>\n",
       "    <tr style=\"text-align: right;\">\n",
       "      <th></th>\n",
       "      <th>000660</th>\n",
       "      <th>005380</th>\n",
       "      <th>005490</th>\n",
       "      <th>005930</th>\n",
       "      <th>015760</th>\n",
       "      <th>017670</th>\n",
       "      <th>035420</th>\n",
       "      <th>051910</th>\n",
       "      <th>068270</th>\n",
       "      <th>207940</th>\n",
       "    </tr>\n",
       "  </thead>\n",
       "  <tbody>\n",
       "    <tr>\n",
       "      <th>2017-01-02</th>\n",
       "      <td>2.463678e+13</td>\n",
       "      <td>2.125892e+13</td>\n",
       "      <td>1.807889e+13</td>\n",
       "      <td>1.697135e+14</td>\n",
       "      <td>1.376983e+13</td>\n",
       "      <td>1.133094e+13</td>\n",
       "      <td>1.007832e+14</td>\n",
       "      <td>1.148032e+13</td>\n",
       "      <td>9.185490e+12</td>\n",
       "      <td>2.563854e+12</td>\n",
       "    </tr>\n",
       "    <tr>\n",
       "      <th>2017-01-03</th>\n",
       "      <td>2.541676e+13</td>\n",
       "      <td>2.168409e+13</td>\n",
       "      <td>1.776658e+13</td>\n",
       "      <td>1.714999e+14</td>\n",
       "      <td>1.383257e+13</td>\n",
       "      <td>1.120532e+13</td>\n",
       "      <td>9.948614e+13</td>\n",
       "      <td>1.188871e+13</td>\n",
       "      <td>9.049660e+12</td>\n",
       "      <td>2.588428e+12</td>\n",
       "    </tr>\n",
       "    <tr>\n",
       "      <th>2017-01-04</th>\n",
       "      <td>2.501332e+13</td>\n",
       "      <td>2.182582e+13</td>\n",
       "      <td>1.766248e+13</td>\n",
       "      <td>1.699955e+14</td>\n",
       "      <td>1.376983e+13</td>\n",
       "      <td>1.120532e+13</td>\n",
       "      <td>1.050636e+14</td>\n",
       "      <td>1.218366e+13</td>\n",
       "      <td>9.007213e+12</td>\n",
       "      <td>2.531089e+12</td>\n",
       "    </tr>\n",
       "  </tbody>\n",
       "</table>\n",
       "</div>"
      ],
      "text/plain": [
       "                  000660        005380        005490        005930  \\\n",
       "2017-01-02  2.463678e+13  2.125892e+13  1.807889e+13  1.697135e+14   \n",
       "2017-01-03  2.541676e+13  2.168409e+13  1.776658e+13  1.714999e+14   \n",
       "2017-01-04  2.501332e+13  2.182582e+13  1.766248e+13  1.699955e+14   \n",
       "\n",
       "                  015760        017670        035420        051910  \\\n",
       "2017-01-02  1.376983e+13  1.133094e+13  1.007832e+14  1.148032e+13   \n",
       "2017-01-03  1.383257e+13  1.120532e+13  9.948614e+13  1.188871e+13   \n",
       "2017-01-04  1.376983e+13  1.120532e+13  1.050636e+14  1.218366e+13   \n",
       "\n",
       "                  068270        207940  \n",
       "2017-01-02  9.185490e+12  2.563854e+12  \n",
       "2017-01-03  9.049660e+12  2.588428e+12  \n",
       "2017-01-04  9.007213e+12  2.531089e+12  "
      ]
     },
     "execution_count": 28,
     "metadata": {},
     "output_type": "execute_result"
    }
   ],
   "source": [
    "k10_historical_mc = k10_historical_price * k10_info['Outstanding'] * k10_info['Floating'] * 0.01\n",
    "k10_historical_mc.head(3)"
   ]
  },
  {
   "cell_type": "code",
   "execution_count": 29,
   "metadata": {
    "scrolled": true
   },
   "outputs": [
    {
     "data": {
      "text/plain": [
       "2017-01-02    3.828017e+14\n",
       "2017-01-03    3.844182e+14\n",
       "2017-01-04    3.882579e+14\n",
       "2017-01-05    3.830483e+14\n",
       "2017-01-06    3.872106e+14\n",
       "2017-01-09    3.891833e+14\n",
       "2017-01-10    3.914117e+14\n",
       "2017-01-11    3.997941e+14\n",
       "2017-01-12    4.025977e+14\n",
       "2017-01-13    3.948536e+14\n",
       "2017-01-16    3.907427e+14\n",
       "2017-01-17    3.924462e+14\n",
       "2017-01-18    3.909576e+14\n",
       "2017-01-19    3.957714e+14\n",
       "2017-01-20    3.914607e+14\n",
       "2017-01-23    3.938119e+14\n",
       "2017-01-24    3.932145e+14\n",
       "2017-01-25    3.983605e+14\n",
       "2017-01-26    4.014118e+14\n",
       "2017-01-31    3.988460e+14\n",
       "2017-02-01    3.999225e+14\n",
       "2017-02-02    3.997122e+14\n",
       "2017-02-03    4.008430e+14\n",
       "2017-02-06    4.015577e+14\n",
       "2017-02-07    4.013025e+14\n",
       "2017-02-08    3.988315e+14\n",
       "2017-02-09    3.970542e+14\n",
       "2017-02-10    3.978227e+14\n",
       "2017-02-13    3.964866e+14\n",
       "2017-02-14    3.901352e+14\n",
       "                  ...     \n",
       "2017-11-16    5.228721e+14\n",
       "2017-11-17    5.237160e+14\n",
       "2017-11-20    5.195293e+14\n",
       "2017-11-21    5.227476e+14\n",
       "2017-11-22    5.256822e+14\n",
       "2017-11-23    5.228240e+14\n",
       "2017-11-24    5.250647e+14\n",
       "2017-11-27    5.084167e+14\n",
       "2017-11-28    5.117092e+14\n",
       "2017-11-29    5.098170e+14\n",
       "2017-11-30    4.970341e+14\n",
       "2017-12-01    5.019347e+14\n",
       "2017-12-04    5.070094e+14\n",
       "2017-12-05    5.058102e+14\n",
       "2017-12-06    4.972250e+14\n",
       "2017-12-07    4.999547e+14\n",
       "2017-12-08    5.056680e+14\n",
       "2017-12-11    5.043442e+14\n",
       "2017-12-12    5.049247e+14\n",
       "2017-12-13    5.039020e+14\n",
       "2017-12-14    5.008266e+14\n",
       "2017-12-15    5.009790e+14\n",
       "2017-12-18    5.057710e+14\n",
       "2017-12-19    5.080259e+14\n",
       "2017-12-20    5.040916e+14\n",
       "2017-12-21    4.923138e+14\n",
       "2017-12-22    4.983918e+14\n",
       "2017-12-26    4.913754e+14\n",
       "2017-12-27    4.996577e+14\n",
       "2017-12-28    5.073633e+14\n",
       "Length: 243, dtype: float64"
      ]
     },
     "execution_count": 29,
     "metadata": {},
     "output_type": "execute_result"
    }
   ],
   "source": [
    "'''\n",
    "<데이터프레임>.sum() 은 각 열의 합 (세로방향)\n",
    "<데이터프레임>.sum(axis=1) 은 각 행의 합 (가로방향)\n",
    "'''\n",
    "k10_historical_mc.sum(axis=1)     # 일자별 시가총액 합"
   ]
  },
  {
   "cell_type": "code",
   "execution_count": 30,
   "metadata": {
    "scrolled": true
   },
   "outputs": [
    {
     "data": {
      "text/html": [
       "<div>\n",
       "<style scoped>\n",
       "    .dataframe tbody tr th:only-of-type {\n",
       "        vertical-align: middle;\n",
       "    }\n",
       "\n",
       "    .dataframe tbody tr th {\n",
       "        vertical-align: top;\n",
       "    }\n",
       "\n",
       "    .dataframe thead th {\n",
       "        text-align: right;\n",
       "    }\n",
       "</style>\n",
       "<table border=\"1\" class=\"dataframe\">\n",
       "  <thead>\n",
       "    <tr style=\"text-align: right;\">\n",
       "      <th></th>\n",
       "      <th>K10 Market Cap</th>\n",
       "    </tr>\n",
       "  </thead>\n",
       "  <tbody>\n",
       "    <tr>\n",
       "      <th>2017-01-02</th>\n",
       "      <td>3.828017e+14</td>\n",
       "    </tr>\n",
       "    <tr>\n",
       "      <th>2017-01-03</th>\n",
       "      <td>3.844182e+14</td>\n",
       "    </tr>\n",
       "    <tr>\n",
       "      <th>2017-01-04</th>\n",
       "      <td>3.882579e+14</td>\n",
       "    </tr>\n",
       "  </tbody>\n",
       "</table>\n",
       "</div>"
      ],
      "text/plain": [
       "            K10 Market Cap\n",
       "2017-01-02    3.828017e+14\n",
       "2017-01-03    3.844182e+14\n",
       "2017-01-04    3.882579e+14"
      ]
     },
     "execution_count": 30,
     "metadata": {},
     "output_type": "execute_result"
    }
   ],
   "source": [
    "k10 = pd.DataFrame()\n",
    "k10['K10 Market Cap'] = k10_historical_mc.sum(axis=1)\n",
    "k10.head(3)"
   ]
  },
  {
   "cell_type": "code",
   "execution_count": 31,
   "metadata": {
    "scrolled": true
   },
   "outputs": [
    {
     "data": {
      "text/html": [
       "<div>\n",
       "<style scoped>\n",
       "    .dataframe tbody tr th:only-of-type {\n",
       "        vertical-align: middle;\n",
       "    }\n",
       "\n",
       "    .dataframe tbody tr th {\n",
       "        vertical-align: top;\n",
       "    }\n",
       "\n",
       "    .dataframe thead th {\n",
       "        text-align: right;\n",
       "    }\n",
       "</style>\n",
       "<table border=\"1\" class=\"dataframe\">\n",
       "  <thead>\n",
       "    <tr style=\"text-align: right;\">\n",
       "      <th></th>\n",
       "      <th>K10 Market Cap</th>\n",
       "      <th>K10</th>\n",
       "    </tr>\n",
       "  </thead>\n",
       "  <tbody>\n",
       "    <tr>\n",
       "      <th>2017-01-02</th>\n",
       "      <td>3.828017e+14</td>\n",
       "      <td>100.000000</td>\n",
       "    </tr>\n",
       "    <tr>\n",
       "      <th>2017-01-03</th>\n",
       "      <td>3.844182e+14</td>\n",
       "      <td>100.422277</td>\n",
       "    </tr>\n",
       "    <tr>\n",
       "      <th>2017-01-04</th>\n",
       "      <td>3.882579e+14</td>\n",
       "      <td>101.425324</td>\n",
       "    </tr>\n",
       "  </tbody>\n",
       "</table>\n",
       "</div>"
      ],
      "text/plain": [
       "            K10 Market Cap         K10\n",
       "2017-01-02    3.828017e+14  100.000000\n",
       "2017-01-03    3.844182e+14  100.422277\n",
       "2017-01-04    3.882579e+14  101.425324"
      ]
     },
     "execution_count": 31,
     "metadata": {},
     "output_type": "execute_result"
    }
   ],
   "source": [
    "k10['K10'] = k10['K10 Market Cap'] / k10['K10 Market Cap'][0] * 100\n",
    "k10.head(3)"
   ]
  },
  {
   "cell_type": "code",
   "execution_count": null,
   "metadata": {},
   "outputs": [],
   "source": []
  },
  {
   "cell_type": "markdown",
   "metadata": {},
   "source": [
    "K10 지수 그래프 그리기"
   ]
  },
  {
   "cell_type": "code",
   "execution_count": 32,
   "metadata": {},
   "outputs": [],
   "source": [
    "import matplotlib.pyplot as plt\n",
    "%matplotlib inline"
   ]
  },
  {
   "cell_type": "code",
   "execution_count": 33,
   "metadata": {
    "scrolled": true
   },
   "outputs": [
    {
     "data": {
      "image/png": "[encoded data removed]",
      "text/plain": [
       "<Figure size 720x360 with 1 Axes>"
      ]
     },
     "metadata": {},
     "output_type": "display_data"
    }
   ],
   "source": [
    "plt.figure(figsize=(10, 5))\n",
    "plt.plot(k10['K10'])\n",
    "plt.legend(loc=0)\n",
    "plt.grid(True, color='0.7', linestyle=':', linewidth=1)"
   ]
  },
  {
   "cell_type": "markdown",
   "metadata": {},
   "source": [
    "KOSPI200과의 비교"
   ]
  },
  {
   "cell_type": "code",
   "execution_count": 34,
   "metadata": {},
   "outputs": [],
   "source": [
    "def historical_index_naver(index_cd, start_date='', end_date='', page_n=1, last_page=0):\n",
    "    \n",
    "    index_cd = index_cd   # 인덱스 코드 \n",
    "    page_n = page_n   # 페이지 번호 \n",
    "    \n",
    "    if start_date:   # start_date가 있으면\n",
    "        start_date = date_format(start_date)   # date 포맷으로 변환\n",
    "    else:    # 없으면\n",
    "        start_date = dt.date.today()   # 오늘 날짜를 지정\n",
    "    if not end_date:   # end_date가 없으면 \n",
    "        end_date = dt.date.today()   # 오늘 날짜를 end_date로 지정\n",
    "    else:   # end_date가 있으면\n",
    "        end_date = date_format(end_date)   # date 포맷으로 변환\n",
    "        \n",
    "    naver_index = 'http://finance.naver.com/sise/sise_index_day.nhn?code=' + index_cd + '&page=' + str(page_n)\n",
    "    \n",
    "    source = urlopen(naver_index).read()   # 지정한 페이지에서 코드 읽기\n",
    "    source = bs4.BeautifulSoup(source, 'lxml')   # 뷰티풀 스프로 태그별로 코드 분류\n",
    "    \n",
    "    dates = source.find_all('td', class_='date')   # <td class=\"date\">태그에서 날짜 수집   \n",
    "    prices = source.find_all('td', class_='number_1')   # <td class=\"number_1\">태그에서 지수 수집\n",
    "    \n",
    "    for n in range(len(dates)):\n",
    "    \n",
    "        if dates[n].text.split('.')[0].isdigit():\n",
    "            \n",
    "            # 날짜 처리\n",
    "            this_date = dates[n].text\n",
    "            this_date= date_format(this_date)\n",
    "            \n",
    "            if this_date <= end_date and this_date >= start_date:   \n",
    "            # start_date와 end_date 사이에서 데이터 저장\n",
    "                # 종가 처리\n",
    "                this_close = prices[n*4].text   # prices 중 종가지수인 0,4,8,...번째 데이터 추출\n",
    "                this_close = this_close.replace(',', '')\n",
    "                this_close = float(this_close)\n",
    "\n",
    "                # 딕셔너리에 저장\n",
    "                historical_prices[this_date] = this_close\n",
    "                \n",
    "            elif this_date < start_date:   \n",
    "            # start_date 이전이면 함수 종료\n",
    "                return historical_prices           \n",
    "            \n",
    "    # 페이지 네비게이션\n",
    "    if last_page == 0:\n",
    "        last_page = source.find('td', class_='pgRR').find('a')['href']\n",
    "        # 마지막페이지 주소 추출\n",
    "        last_page = last_page.split('&')[1]   # & 뒤의 page=506 부분 추출\n",
    "        last_page = last_page.split('=')[1]   # = 뒤의 페이지번호만 추출\n",
    "        last_page = int(last_page)   # 숫자형 변수로 변환\n",
    "        \n",
    "    # 다음 페이지 호출\n",
    "    if page_n < last_page:   \n",
    "        page_n = page_n + 1   \n",
    "        historical_index_naver(index_cd, start_date, end_date, page_n, last_page)   \n",
    "        \n",
    "    return historical_prices  "
   ]
  },
  {
   "cell_type": "code",
   "execution_count": 35,
   "metadata": {},
   "outputs": [
    {
     "data": {
      "text/plain": [
       "{datetime.date(2017, 12, 28): 324.74,\n",
       " datetime.date(2017, 12, 27): 320.25,\n",
       " datetime.date(2017, 12, 26): 318.89,\n",
       " datetime.date(2017, 12, 22): 321.21,\n",
       " datetime.date(2017, 12, 21): 319.72,\n",
       " datetime.date(2017, 12, 20): 325.79,\n",
       " datetime.date(2017, 12, 19): 326.76,\n",
       " datetime.date(2017, 12, 18): 326.6,\n",
       " datetime.date(2017, 12, 15): 326.23,\n",
       " datetime.date(2017, 12, 14): 324.74,\n",
       " datetime.date(2017, 12, 13): 326.18,\n",
       " datetime.date(2017, 12, 12): 324.07,\n",
       " datetime.date(2017, 12, 11): 325.09,\n",
       " datetime.date(2017, 12, 8): 324.68,\n",
       " datetime.date(2017, 12, 7): 323.59,\n",
       " datetime.date(2017, 12, 6): 324.52,\n",
       " datetime.date(2017, 12, 5): 329.61,\n",
       " datetime.date(2017, 12, 4): 328.77,\n",
       " datetime.date(2017, 12, 1): 324.78,\n",
       " datetime.date(2017, 11, 30): 325.25,\n",
       " datetime.date(2017, 11, 29): 330.68,\n",
       " datetime.date(2017, 11, 28): 330.99,\n",
       " datetime.date(2017, 11, 27): 329.53,\n",
       " datetime.date(2017, 11, 24): 335.44,\n",
       " datetime.date(2017, 11, 23): 334.51,\n",
       " datetime.date(2017, 11, 22): 335.49,\n",
       " datetime.date(2017, 11, 21): 333.51,\n",
       " datetime.date(2017, 11, 20): 332.92,\n",
       " datetime.date(2017, 11, 17): 334.18,\n",
       " datetime.date(2017, 11, 16): 334.36,\n",
       " datetime.date(2017, 11, 15): 332.17,\n",
       " datetime.date(2017, 11, 14): 333.62,\n",
       " datetime.date(2017, 11, 13): 334.33,\n",
       " datetime.date(2017, 11, 10): 335.96,\n",
       " datetime.date(2017, 11, 9): 337.14,\n",
       " datetime.date(2017, 11, 8): 337.8,\n",
       " datetime.date(2017, 11, 7): 336.76,\n",
       " datetime.date(2017, 11, 6): 337.4,\n",
       " datetime.date(2017, 11, 3): 338.83,\n",
       " datetime.date(2017, 11, 2): 337.53,\n",
       " datetime.date(2017, 11, 1): 338.76,\n",
       " datetime.date(2017, 10, 31): 333.57,\n",
       " datetime.date(2017, 10, 30): 330.38,\n",
       " datetime.date(2017, 10, 27): 329.23,\n",
       " datetime.date(2017, 10, 26): 326.99,\n",
       " datetime.date(2017, 10, 25): 329.31,\n",
       " datetime.date(2017, 10, 24): 328.96,\n",
       " datetime.date(2017, 10, 23): 329.45,\n",
       " datetime.date(2017, 10, 20): 328.89,\n",
       " datetime.date(2017, 10, 19): 326.47,\n",
       " datetime.date(2017, 10, 18): 328.4,\n",
       " datetime.date(2017, 10, 17): 328.51,\n",
       " datetime.date(2017, 10, 16): 327.82,\n",
       " datetime.date(2017, 10, 13): 327.35,\n",
       " datetime.date(2017, 10, 12): 328.11,\n",
       " datetime.date(2017, 10, 11): 326.12,\n",
       " datetime.date(2017, 10, 10): 322.49,\n",
       " datetime.date(2017, 9, 29): 316.27,\n",
       " datetime.date(2017, 9, 28): 313.85,\n",
       " datetime.date(2017, 9, 27): 313.82,\n",
       " datetime.date(2017, 9, 26): 314.29,\n",
       " datetime.date(2017, 9, 25): 316.4,\n",
       " datetime.date(2017, 9, 22): 316.71,\n",
       " datetime.date(2017, 9, 21): 318.25,\n",
       " datetime.date(2017, 9, 20): 318.48,\n",
       " datetime.date(2017, 9, 19): 318.51,\n",
       " datetime.date(2017, 9, 18): 318.93,\n",
       " datetime.date(2017, 9, 15): 313.69,\n",
       " datetime.date(2017, 9, 14): 312.52,\n",
       " datetime.date(2017, 9, 13): 310.0,\n",
       " datetime.date(2017, 9, 12): 310.42,\n",
       " datetime.date(2017, 9, 11): 309.83,\n",
       " datetime.date(2017, 9, 8): 307.43,\n",
       " datetime.date(2017, 9, 7): 306.97,\n",
       " datetime.date(2017, 9, 6): 303.18,\n",
       " datetime.date(2017, 9, 5): 304.06,\n",
       " datetime.date(2017, 9, 4): 304.19,\n",
       " datetime.date(2017, 9, 1): 307.78,\n",
       " datetime.date(2017, 8, 31): 308.28,\n",
       " datetime.date(2017, 8, 30): 309.65,\n",
       " datetime.date(2017, 8, 29): 308.64,\n",
       " datetime.date(2017, 8, 28): 309.53,\n",
       " datetime.date(2017, 8, 25): 311.21,\n",
       " datetime.date(2017, 8, 24): 310.73,\n",
       " datetime.date(2017, 8, 23): 309.71,\n",
       " datetime.date(2017, 8, 22): 309.34,\n",
       " datetime.date(2017, 8, 21): 308.14,\n",
       " datetime.date(2017, 8, 18): 308.39,\n",
       " datetime.date(2017, 8, 17): 309.02,\n",
       " datetime.date(2017, 8, 16): 307.16,\n",
       " datetime.date(2017, 8, 14): 304.93,\n",
       " datetime.date(2017, 8, 11): 302.72,\n",
       " datetime.date(2017, 8, 10): 308.37,\n",
       " datetime.date(2017, 8, 9): 309.52,\n",
       " datetime.date(2017, 8, 8): 313.4,\n",
       " datetime.date(2017, 8, 7): 313.96,\n",
       " datetime.date(2017, 8, 4): 313.46,\n",
       " datetime.date(2017, 8, 3): 312.29,\n",
       " datetime.date(2017, 8, 2): 317.69,\n",
       " datetime.date(2017, 8, 1): 317.04,\n",
       " datetime.date(2017, 7, 31): 314.6,\n",
       " datetime.date(2017, 7, 28): 314.13,\n",
       " datetime.date(2017, 7, 27): 320.51,\n",
       " datetime.date(2017, 7, 26): 319.46,\n",
       " datetime.date(2017, 7, 25): 320.15,\n",
       " datetime.date(2017, 7, 24): 322.01,\n",
       " datetime.date(2017, 7, 21): 321.79,\n",
       " datetime.date(2017, 7, 20): 320.61,\n",
       " datetime.date(2017, 7, 19): 318.91,\n",
       " datetime.date(2017, 7, 18): 318.65,\n",
       " datetime.date(2017, 7, 17): 318.52,\n",
       " datetime.date(2017, 7, 14): 317.35,\n",
       " datetime.date(2017, 7, 13): 316.35,\n",
       " datetime.date(2017, 7, 12): 313.58,\n",
       " datetime.date(2017, 7, 11): 313.59,\n",
       " datetime.date(2017, 7, 10): 311.46,\n",
       " datetime.date(2017, 7, 7): 310.66,\n",
       " datetime.date(2017, 7, 6): 311.88,\n",
       " datetime.date(2017, 7, 5): 311.77,\n",
       " datetime.date(2017, 7, 4): 310.46,\n",
       " datetime.date(2017, 7, 3): 312.39,\n",
       " datetime.date(2017, 6, 30): 311.76,\n",
       " datetime.date(2017, 6, 29): 312.56,\n",
       " datetime.date(2017, 6, 28): 310.84,\n",
       " datetime.date(2017, 6, 27): 312.12,\n",
       " datetime.date(2017, 6, 26): 311.89,\n",
       " datetime.date(2017, 6, 23): 310.26,\n",
       " datetime.date(2017, 6, 22): 309.47,\n",
       " datetime.date(2017, 6, 21): 307.52,\n",
       " datetime.date(2017, 6, 20): 309.31,\n",
       " datetime.date(2017, 6, 19): 308.61,\n",
       " datetime.date(2017, 6, 16): 306.79,\n",
       " datetime.date(2017, 6, 15): 306.69,\n",
       " datetime.date(2017, 6, 14): 307.95,\n",
       " datetime.date(2017, 6, 13): 308.02,\n",
       " datetime.date(2017, 6, 12): 306.24,\n",
       " datetime.date(2017, 6, 9): 309.38,\n",
       " datetime.date(2017, 6, 8): 306.25,\n",
       " datetime.date(2017, 6, 7): 305.68,\n",
       " datetime.date(2017, 6, 5): 307.33,\n",
       " datetime.date(2017, 6, 2): 307.83,\n",
       " datetime.date(2017, 6, 1): 304.03,\n",
       " datetime.date(2017, 5, 31): 304.67,\n",
       " datetime.date(2017, 5, 30): 304.59,\n",
       " datetime.date(2017, 5, 29): 306.52,\n",
       " datetime.date(2017, 5, 26): 306.96,\n",
       " datetime.date(2017, 5, 25): 305.22,\n",
       " datetime.date(2017, 5, 24): 301.71,\n",
       " datetime.date(2017, 5, 23): 301.36,\n",
       " datetime.date(2017, 5, 22): 300.63,\n",
       " datetime.date(2017, 5, 19): 298.08,\n",
       " datetime.date(2017, 5, 18): 298.47,\n",
       " datetime.date(2017, 5, 17): 299.34,\n",
       " datetime.date(2017, 5, 16): 299.67,\n",
       " datetime.date(2017, 5, 15): 298.87,\n",
       " datetime.date(2017, 5, 12): 298.25,\n",
       " datetime.date(2017, 5, 11): 299.75,\n",
       " datetime.date(2017, 5, 10): 296.19,\n",
       " datetime.date(2017, 5, 8): 299.86,\n",
       " datetime.date(2017, 5, 4): 292.47,\n",
       " datetime.date(2017, 5, 2): 289.65,\n",
       " datetime.date(2017, 4, 28): 287.21,\n",
       " datetime.date(2017, 4, 27): 287.34,\n",
       " datetime.date(2017, 4, 26): 286.78,\n",
       " datetime.date(2017, 4, 25): 285.41,\n",
       " datetime.date(2017, 4, 24): 281.96,\n",
       " datetime.date(2017, 4, 21): 280.05,\n",
       " datetime.date(2017, 4, 20): 277.76,\n",
       " datetime.date(2017, 4, 19): 276.49,\n",
       " datetime.date(2017, 4, 18): 278.23,\n",
       " datetime.date(2017, 4, 17): 278.1,\n",
       " datetime.date(2017, 4, 14): 277.31,\n",
       " datetime.date(2017, 4, 13): 279.12,\n",
       " datetime.date(2017, 4, 12): 276.21,\n",
       " datetime.date(2017, 4, 11): 275.49,\n",
       " datetime.date(2017, 4, 10): 277.21,\n",
       " datetime.date(2017, 4, 7): 279.01,\n",
       " datetime.date(2017, 4, 6): 279.47,\n",
       " datetime.date(2017, 4, 5): 280.74,\n",
       " datetime.date(2017, 4, 4): 280.92,\n",
       " datetime.date(2017, 4, 3): 281.6,\n",
       " datetime.date(2017, 3, 31): 280.64,\n",
       " datetime.date(2017, 3, 30): 281.66,\n",
       " datetime.date(2017, 3, 29): 281.86,\n",
       " datetime.date(2017, 3, 28): 281.25,\n",
       " datetime.date(2017, 3, 27): 280.36,\n",
       " datetime.date(2017, 3, 24): 282.31,\n",
       " datetime.date(2017, 3, 23): 282.81,\n",
       " datetime.date(2017, 3, 22): 282.63,\n",
       " datetime.date(2017, 3, 21): 283.84,\n",
       " datetime.date(2017, 3, 20): 280.75,\n",
       " datetime.date(2017, 3, 17): 281.86,\n",
       " datetime.date(2017, 3, 16): 280.11,\n",
       " datetime.date(2017, 3, 15): 277.89,\n",
       " datetime.date(2017, 3, 14): 277.89,\n",
       " datetime.date(2017, 3, 13): 275.41,\n",
       " datetime.date(2017, 3, 10): 272.29,\n",
       " datetime.date(2017, 3, 9): 271.62,\n",
       " datetime.date(2017, 3, 8): 272.29,\n",
       " datetime.date(2017, 3, 7): 271.87,\n",
       " datetime.date(2017, 3, 6): 270.41,\n",
       " datetime.date(2017, 3, 3): 269.77,\n",
       " datetime.date(2017, 3, 2): 272.65,\n",
       " datetime.date(2017, 2, 28): 270.06,\n",
       " datetime.date(2017, 2, 27): 268.97,\n",
       " datetime.date(2017, 2, 24): 270.38,\n",
       " datetime.date(2017, 2, 23): 272.89,\n",
       " datetime.date(2017, 2, 22): 272.85,\n",
       " datetime.date(2017, 2, 21): 272.11,\n",
       " datetime.date(2017, 2, 20): 269.73,\n",
       " datetime.date(2017, 2, 17): 268.84,\n",
       " datetime.date(2017, 2, 16): 268.93,\n",
       " datetime.date(2017, 2, 15): 268.81,\n",
       " datetime.date(2017, 2, 14): 267.9,\n",
       " datetime.date(2017, 2, 13): 268.81,\n",
       " datetime.date(2017, 2, 10): 268.66,\n",
       " datetime.date(2017, 2, 9): 267.69,\n",
       " datetime.date(2017, 2, 8): 267.72,\n",
       " datetime.date(2017, 2, 7): 268.97,\n",
       " datetime.date(2017, 2, 6): 269.49,\n",
       " datetime.date(2017, 2, 3): 268.85,\n",
       " datetime.date(2017, 2, 2): 268.49,\n",
       " datetime.date(2017, 2, 1): 269.56,\n",
       " datetime.date(2017, 1, 31): 268.09,\n",
       " datetime.date(2017, 1, 26): 270.48,\n",
       " datetime.date(2017, 1, 25): 268.15,\n",
       " datetime.date(2017, 1, 24): 267.3,\n",
       " datetime.date(2017, 1, 23): 267.12,\n",
       " datetime.date(2017, 1, 20): 266.52,\n",
       " datetime.date(2017, 1, 19): 267.7,\n",
       " datetime.date(2017, 1, 18): 267.08,\n",
       " datetime.date(2017, 1, 17): 267.37,\n",
       " datetime.date(2017, 1, 16): 266.15,\n",
       " datetime.date(2017, 1, 13): 267.91,\n",
       " datetime.date(2017, 1, 12): 269.95,\n",
       " datetime.date(2017, 1, 11): 268.15,\n",
       " datetime.date(2017, 1, 10): 263.73,\n",
       " datetime.date(2017, 1, 9): 263.74,\n",
       " datetime.date(2017, 1, 6): 263.2,\n",
       " datetime.date(2017, 1, 5): 261.98,\n",
       " datetime.date(2017, 1, 4): 263.12,\n",
       " datetime.date(2017, 1, 3): 262.97,\n",
       " datetime.date(2017, 1, 2): 260.36}"
      ]
     },
     "execution_count": 35,
     "metadata": {},
     "output_type": "execute_result"
    }
   ],
   "source": [
    "historical_prices = dict()     # 딕셔너리 초기화\n",
    "kospi200 = historical_index_naver('KPI200', '2017-1-1', '2017-12-31')\n",
    "kospi200"
   ]
  },
  {
   "cell_type": "code",
   "execution_count": 36,
   "metadata": {
    "scrolled": true
   },
   "outputs": [
    {
     "data": {
      "text/html": [
       "<div>\n",
       "<style scoped>\n",
       "    .dataframe tbody tr th:only-of-type {\n",
       "        vertical-align: middle;\n",
       "    }\n",
       "\n",
       "    .dataframe tbody tr th {\n",
       "        vertical-align: top;\n",
       "    }\n",
       "\n",
       "    .dataframe thead th {\n",
       "        text-align: right;\n",
       "    }\n",
       "</style>\n",
       "<table border=\"1\" class=\"dataframe\">\n",
       "  <thead>\n",
       "    <tr style=\"text-align: right;\">\n",
       "      <th></th>\n",
       "      <th>K200</th>\n",
       "    </tr>\n",
       "  </thead>\n",
       "  <tbody>\n",
       "    <tr>\n",
       "      <th>2017-01-02</th>\n",
       "      <td>260.36</td>\n",
       "    </tr>\n",
       "    <tr>\n",
       "      <th>2017-01-03</th>\n",
       "      <td>262.97</td>\n",
       "    </tr>\n",
       "    <tr>\n",
       "      <th>2017-01-04</th>\n",
       "      <td>263.12</td>\n",
       "    </tr>\n",
       "  </tbody>\n",
       "</table>\n",
       "</div>"
      ],
      "text/plain": [
       "              K200\n",
       "2017-01-02  260.36\n",
       "2017-01-03  262.97\n",
       "2017-01-04  263.12"
      ]
     },
     "execution_count": 36,
     "metadata": {},
     "output_type": "execute_result"
    }
   ],
   "source": [
    "k200 = pd.DataFrame({'K200' : kospi200})\n",
    "k200.head(3)"
   ]
  },
  {
   "cell_type": "code",
   "execution_count": 37,
   "metadata": {
    "scrolled": true
   },
   "outputs": [
    {
     "data": {
      "image/png": "[encoded data removed]",
      "text/plain": [
       "<Figure size 720x360 with 1 Axes>"
      ]
     },
     "metadata": {},
     "output_type": "display_data"
    }
   ],
   "source": [
    "plt.figure(figsize=(10, 5))\n",
    "plt.plot(k10['K10'] / k10['K10'][0] * 100)\n",
    "plt.plot(k200['K200'] / k200['K200'][0] * 100)\n",
    "plt.legend(loc=0)\n",
    "plt.grid(True, color='0.7', linestyle=':', linewidth=1)"
   ]
  },
  {
   "cell_type": "code",
   "execution_count": null,
   "metadata": {},
   "outputs": [],
   "source": []
  },
  {
   "cell_type": "markdown",
   "metadata": {
    "collapsed": true
   },
   "source": [
    "# K10 선물가격 산출"
   ]
  },
  {
   "cell_type": "code",
   "execution_count": 38,
   "metadata": {},
   "outputs": [],
   "source": [
    "import math"
   ]
  },
  {
   "cell_type": "markdown",
   "metadata": {},
   "source": [
    "F = Se^(r-d)t"
   ]
  },
  {
   "cell_type": "code",
   "execution_count": 39,
   "metadata": {},
   "outputs": [],
   "source": [
    "def futures_price (S, r, d, T, t0):\n",
    "    t = (T - t0).days / 252\n",
    "    F = S * math.exp((r-d)*t)\n",
    "    return F"
   ]
  },
  {
   "cell_type": "code",
   "execution_count": 40,
   "metadata": {},
   "outputs": [
    {
     "data": {
      "text/plain": [
       "100.36176390281524"
      ]
     },
     "execution_count": 40,
     "metadata": {},
     "output_type": "execute_result"
    }
   ],
   "source": [
    "T = dt.date(2018, 12, 14)     # 만기일\n",
    "t0 = dt.date(2018, 6, 15)     # 현재일\n",
    "\n",
    "futures_price (100.0, 0.02, 0.015, T, t0)"
   ]
  },
  {
   "cell_type": "code",
   "execution_count": 41,
   "metadata": {},
   "outputs": [
    {
     "data": {
      "text/plain": [
       "100.00793682288563"
      ]
     },
     "execution_count": 41,
     "metadata": {},
     "output_type": "execute_result"
    }
   ],
   "source": [
    "T = dt.date(2018, 12, 14)     # 만기일\n",
    "t0 = dt.date(2018, 12, 10)     # 현재일\n",
    "\n",
    "futures_price (100.0, 0.02, 0.015, T, t0)"
   ]
  },
  {
   "cell_type": "code",
   "execution_count": null,
   "metadata": {},
   "outputs": [],
   "source": []
  }
 ],
 "metadata": {
  "kernelspec": {
   "display_name": "Python 3",
   "language": "python",
   "name": "python3"
  },
  "language_info": {
   "codemirror_mode": {
    "name": "ipython",
    "version": 3
   },
   "file_extension": ".py",
   "mimetype": "text/x-python",
   "name": "python",
   "nbconvert_exporter": "python",
   "pygments_lexer": "ipython3",
   "version": "3.7.0"
  }
 },
 "nbformat": 4,
 "nbformat_minor": 2
}
