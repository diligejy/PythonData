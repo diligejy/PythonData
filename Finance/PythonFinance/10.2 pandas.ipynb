{
 "cells": [
  {
   "cell_type": "code",
   "execution_count": 1,
   "metadata": {},
   "outputs": [],
   "source": [
    "import pandas as pd     # pandas 라이브러리를 pd 이름으로 호출"
   ]
  },
  {
   "cell_type": "markdown",
   "metadata": {},
   "source": [
    "# Series"
   ]
  },
  {
   "cell_type": "code",
   "execution_count": 2,
   "metadata": {},
   "outputs": [],
   "source": [
    "prices = [1000, 1010, 1020]     # 주가를 담아놓은 리스트 생성"
   ]
  },
  {
   "cell_type": "code",
   "execution_count": 3,
   "metadata": {},
   "outputs": [
    {
     "data": {
      "text/plain": [
       "DatetimeIndex(['2018-12-01', '2018-12-02', '2018-12-03'], dtype='datetime64[ns]', freq='D')"
      ]
     },
     "execution_count": 3,
     "metadata": {},
     "output_type": "execute_result"
    }
   ],
   "source": [
    "dates = pd.date_range('20181201', periods=3)     # date_range 함수를 이용해 날짜 생성\n",
    "dates"
   ]
  },
  {
   "cell_type": "code",
   "execution_count": 4,
   "metadata": {},
   "outputs": [
    {
     "data": {
      "text/plain": [
       "DatetimeIndex(['2018-12-02', '2018-12-09', '2018-12-16', '2018-12-23',\n",
       "               '2018-12-30'],\n",
       "              dtype='datetime64[ns]', freq='W-SUN')"
      ]
     },
     "execution_count": 4,
     "metadata": {},
     "output_type": "execute_result"
    }
   ],
   "source": [
    "pd.date_range('20181201', '20181231', freq='W')"
   ]
  },
  {
   "cell_type": "code",
   "execution_count": 5,
   "metadata": {},
   "outputs": [
    {
     "data": {
      "text/plain": [
       "2018-12-01    1000\n",
       "2018-12-02    1010\n",
       "2018-12-03    1020\n",
       "Freq: D, dtype: int64"
      ]
     },
     "execution_count": 5,
     "metadata": {},
     "output_type": "execute_result"
    }
   ],
   "source": [
    "s = pd.Series(prices, index=dates)     # 주가를 데이터로, 날짜를 인덱스로 하는 Series 생성\n",
    "s"
   ]
  },
  {
   "cell_type": "code",
   "execution_count": 6,
   "metadata": {},
   "outputs": [
    {
     "data": {
      "text/plain": [
       "0    1000\n",
       "1    1010\n",
       "2    1020\n",
       "dtype: int64"
      ]
     },
     "execution_count": 6,
     "metadata": {},
     "output_type": "execute_result"
    }
   ],
   "source": [
    "s2 = pd.Series(prices)     # 인덱스를 지정하지 않은 Series\n",
    "s2"
   ]
  },
  {
   "cell_type": "code",
   "execution_count": 7,
   "metadata": {},
   "outputs": [
    {
     "data": {
      "text/plain": [
       "0    1000\n",
       "1    1010\n",
       "2    1020\n",
       "3    1030\n",
       "dtype: int64"
      ]
     },
     "execution_count": 7,
     "metadata": {},
     "output_type": "execute_result"
    }
   ],
   "source": [
    "s2[3] = 1030     # Series에 데이터 추가\n",
    "s2"
   ]
  },
  {
   "cell_type": "code",
   "execution_count": 8,
   "metadata": {},
   "outputs": [
    {
     "name": "stdout",
     "output_type": "stream",
     "text": [
      "123123\n",
      "246\n"
     ]
    }
   ],
   "source": [
    "print('123' + '123')\n",
    "print(123 + 123)"
   ]
  },
  {
   "cell_type": "code",
   "execution_count": 9,
   "metadata": {},
   "outputs": [
    {
     "data": {
      "text/plain": [
       "2018-12-01    1000\n",
       "2018-12-02    1010\n",
       "2018-12-03    1020\n",
       "2018-12-04    1030\n",
       "Freq: D, dtype: int64"
      ]
     },
     "execution_count": 9,
     "metadata": {},
     "output_type": "execute_result"
    }
   ],
   "source": [
    "s[pd.to_datetime('2018-12-04')] = 1030     # 인덱스를 이용한 데이터 추가\n",
    "s"
   ]
  },
  {
   "cell_type": "markdown",
   "metadata": {},
   "source": [
    "Series 데이터 조회"
   ]
  },
  {
   "cell_type": "code",
   "execution_count": 10,
   "metadata": {},
   "outputs": [
    {
     "data": {
      "text/plain": [
       "1020"
      ]
     },
     "execution_count": 10,
     "metadata": {},
     "output_type": "execute_result"
    }
   ],
   "source": [
    "s[2]     # 배열 스타일로 데이터 추출"
   ]
  },
  {
   "cell_type": "code",
   "execution_count": 11,
   "metadata": {},
   "outputs": [
    {
     "data": {
      "text/plain": [
       "1020"
      ]
     },
     "execution_count": 11,
     "metadata": {},
     "output_type": "execute_result"
    }
   ],
   "source": [
    "s['2018-12-03']     # 인덱스를 이용한 데이터 추출"
   ]
  },
  {
   "cell_type": "markdown",
   "metadata": {},
   "source": [
    "# DataFrame "
   ]
  },
  {
   "cell_type": "code",
   "execution_count": 12,
   "metadata": {},
   "outputs": [
    {
     "data": {
      "text/html": [
       "<div>\n",
       "<style scoped>\n",
       "    .dataframe tbody tr th:only-of-type {\n",
       "        vertical-align: middle;\n",
       "    }\n",
       "\n",
       "    .dataframe tbody tr th {\n",
       "        vertical-align: top;\n",
       "    }\n",
       "\n",
       "    .dataframe thead th {\n",
       "        text-align: right;\n",
       "    }\n",
       "</style>\n",
       "<table border=\"1\" class=\"dataframe\">\n",
       "  <thead>\n",
       "    <tr style=\"text-align: right;\">\n",
       "      <th></th>\n",
       "      <th>A전자</th>\n",
       "      <th>B화학</th>\n",
       "      <th>C금융</th>\n",
       "    </tr>\n",
       "  </thead>\n",
       "  <tbody>\n",
       "    <tr>\n",
       "      <th>0</th>\n",
       "      <td>1000</td>\n",
       "      <td>2000</td>\n",
       "      <td>3000</td>\n",
       "    </tr>\n",
       "    <tr>\n",
       "      <th>1</th>\n",
       "      <td>1010</td>\n",
       "      <td>2010</td>\n",
       "      <td>3010</td>\n",
       "    </tr>\n",
       "    <tr>\n",
       "      <th>2</th>\n",
       "      <td>1020</td>\n",
       "      <td>2020</td>\n",
       "      <td>3020</td>\n",
       "    </tr>\n",
       "  </tbody>\n",
       "</table>\n",
       "</div>"
      ],
      "text/plain": [
       "    A전자   B화학   C금융\n",
       "0  1000  2000  3000\n",
       "1  1010  2010  3010\n",
       "2  1020  2020  3020"
      ]
     },
     "execution_count": 12,
     "metadata": {},
     "output_type": "execute_result"
    }
   ],
   "source": [
    "prices = {'A전자' : [1000, 1010, 1020],\n",
    "          'B화학' : [2000, 2010, 2020],\n",
    "          'C금융' : [3000, 3010, 3020]}\n",
    "df1 = pd.DataFrame(prices)\n",
    "df1"
   ]
  },
  {
   "cell_type": "code",
   "execution_count": 13,
   "metadata": {},
   "outputs": [
    {
     "data": {
      "text/html": [
       "<div>\n",
       "<style scoped>\n",
       "    .dataframe tbody tr th:only-of-type {\n",
       "        vertical-align: middle;\n",
       "    }\n",
       "\n",
       "    .dataframe tbody tr th {\n",
       "        vertical-align: top;\n",
       "    }\n",
       "\n",
       "    .dataframe thead th {\n",
       "        text-align: right;\n",
       "    }\n",
       "</style>\n",
       "<table border=\"1\" class=\"dataframe\">\n",
       "  <thead>\n",
       "    <tr style=\"text-align: right;\">\n",
       "      <th></th>\n",
       "      <th>A전자</th>\n",
       "      <th>B화학</th>\n",
       "      <th>C금융</th>\n",
       "    </tr>\n",
       "  </thead>\n",
       "  <tbody>\n",
       "    <tr>\n",
       "      <th>2018-12-01</th>\n",
       "      <td>1000</td>\n",
       "      <td>2000</td>\n",
       "      <td>3000</td>\n",
       "    </tr>\n",
       "    <tr>\n",
       "      <th>2018-12-02</th>\n",
       "      <td>1010</td>\n",
       "      <td>2010</td>\n",
       "      <td>3010</td>\n",
       "    </tr>\n",
       "    <tr>\n",
       "      <th>2018-12-03</th>\n",
       "      <td>1020</td>\n",
       "      <td>2020</td>\n",
       "      <td>3020</td>\n",
       "    </tr>\n",
       "  </tbody>\n",
       "</table>\n",
       "</div>"
      ],
      "text/plain": [
       "             A전자   B화학   C금융\n",
       "2018-12-01  1000  2000  3000\n",
       "2018-12-02  1010  2010  3010\n",
       "2018-12-03  1020  2020  3020"
      ]
     },
     "execution_count": 13,
     "metadata": {},
     "output_type": "execute_result"
    }
   ],
   "source": [
    "df2 = pd.DataFrame(prices, index=dates)     # 인덱스가 있는 DataFrame\n",
    "df2"
   ]
  },
  {
   "cell_type": "markdown",
   "metadata": {},
   "source": [
    "데이터 선택"
   ]
  },
  {
   "cell_type": "code",
   "execution_count": 14,
   "metadata": {},
   "outputs": [
    {
     "data": {
      "text/plain": [
       "A전자    1000\n",
       "B화학    2000\n",
       "C금융    3000\n",
       "Name: 2018-12-01 00:00:00, dtype: int64"
      ]
     },
     "execution_count": 14,
     "metadata": {},
     "output_type": "execute_result"
    }
   ],
   "source": [
    "df2.iloc[0]     # 행 선택"
   ]
  },
  {
   "cell_type": "code",
   "execution_count": 15,
   "metadata": {},
   "outputs": [
    {
     "data": {
      "text/plain": [
       "2018-12-01    1000\n",
       "2018-12-02    1010\n",
       "2018-12-03    1020\n",
       "Freq: D, Name: A전자, dtype: int64"
      ]
     },
     "execution_count": 15,
     "metadata": {},
     "output_type": "execute_result"
    }
   ],
   "source": [
    "df2.iloc[:, 0]     # 열 선택"
   ]
  },
  {
   "cell_type": "code",
   "execution_count": 16,
   "metadata": {},
   "outputs": [
    {
     "data": {
      "text/plain": [
       "1000"
      ]
     },
     "execution_count": 16,
     "metadata": {},
     "output_type": "execute_result"
    }
   ],
   "source": [
    "df2.iloc[0, 0]     # 행, 열 지정"
   ]
  },
  {
   "cell_type": "code",
   "execution_count": 17,
   "metadata": {},
   "outputs": [
    {
     "data": {
      "text/plain": [
       "A전자    1000\n",
       "B화학    2000\n",
       "C금융    3000\n",
       "Name: 2018-12-01 00:00:00, dtype: int64"
      ]
     },
     "execution_count": 17,
     "metadata": {},
     "output_type": "execute_result"
    }
   ],
   "source": [
    "df2.loc['2018-12-01']"
   ]
  },
  {
   "cell_type": "code",
   "execution_count": 18,
   "metadata": {},
   "outputs": [
    {
     "data": {
      "text/plain": [
       "2018-12-01    1000\n",
       "2018-12-02    1010\n",
       "2018-12-03    1020\n",
       "Freq: D, Name: A전자, dtype: int64"
      ]
     },
     "execution_count": 18,
     "metadata": {},
     "output_type": "execute_result"
    }
   ],
   "source": [
    "df2.loc[:, 'A전자']"
   ]
  },
  {
   "cell_type": "code",
   "execution_count": 19,
   "metadata": {},
   "outputs": [
    {
     "data": {
      "text/plain": [
       "1000"
      ]
     },
     "execution_count": 19,
     "metadata": {},
     "output_type": "execute_result"
    }
   ],
   "source": [
    "df2.loc['2018-12-01', 'A전자']"
   ]
  },
  {
   "cell_type": "code",
   "execution_count": 20,
   "metadata": {},
   "outputs": [
    {
     "data": {
      "text/plain": [
       "2018-12-01    1000\n",
       "2018-12-02    1010\n",
       "2018-12-03    1020\n",
       "Freq: D, Name: A전자, dtype: int64"
      ]
     },
     "execution_count": 20,
     "metadata": {},
     "output_type": "execute_result"
    }
   ],
   "source": [
    "df2['A전자']     # 열 선택"
   ]
  },
  {
   "cell_type": "code",
   "execution_count": 21,
   "metadata": {},
   "outputs": [
    {
     "data": {
      "text/plain": [
       "2018-12-01    1000\n",
       "2018-12-02    1010\n",
       "2018-12-03    1020\n",
       "Freq: D, Name: A전자, dtype: int64"
      ]
     },
     "execution_count": 21,
     "metadata": {},
     "output_type": "execute_result"
    }
   ],
   "source": [
    "df2.A전자     # df2['A전자']  와 동일"
   ]
  },
  {
   "cell_type": "code",
   "execution_count": 22,
   "metadata": {},
   "outputs": [
    {
     "data": {
      "text/plain": [
       "1000"
      ]
     },
     "execution_count": 22,
     "metadata": {},
     "output_type": "execute_result"
    }
   ],
   "source": [
    "df2['A전자']['2018-12-01']"
   ]
  },
  {
   "cell_type": "code",
   "execution_count": 23,
   "metadata": {},
   "outputs": [
    {
     "data": {
      "text/plain": [
       "1000"
      ]
     },
     "execution_count": 23,
     "metadata": {},
     "output_type": "execute_result"
    }
   ],
   "source": [
    "df2.loc[:, 'A전자']['2018-12-01']"
   ]
  },
  {
   "cell_type": "markdown",
   "metadata": {},
   "source": [
    "데이터 추가"
   ]
  },
  {
   "cell_type": "code",
   "execution_count": 24,
   "metadata": {},
   "outputs": [
    {
     "data": {
      "text/html": [
       "<div>\n",
       "<style scoped>\n",
       "    .dataframe tbody tr th:only-of-type {\n",
       "        vertical-align: middle;\n",
       "    }\n",
       "\n",
       "    .dataframe tbody tr th {\n",
       "        vertical-align: top;\n",
       "    }\n",
       "\n",
       "    .dataframe thead th {\n",
       "        text-align: right;\n",
       "    }\n",
       "</style>\n",
       "<table border=\"1\" class=\"dataframe\">\n",
       "  <thead>\n",
       "    <tr style=\"text-align: right;\">\n",
       "      <th></th>\n",
       "      <th>A전자</th>\n",
       "      <th>B화학</th>\n",
       "      <th>C금융</th>\n",
       "      <th>D엔터</th>\n",
       "    </tr>\n",
       "  </thead>\n",
       "  <tbody>\n",
       "    <tr>\n",
       "      <th>2018-12-01</th>\n",
       "      <td>1000</td>\n",
       "      <td>2000</td>\n",
       "      <td>3000</td>\n",
       "      <td>4000</td>\n",
       "    </tr>\n",
       "    <tr>\n",
       "      <th>2018-12-02</th>\n",
       "      <td>1010</td>\n",
       "      <td>2010</td>\n",
       "      <td>3010</td>\n",
       "      <td>4010</td>\n",
       "    </tr>\n",
       "    <tr>\n",
       "      <th>2018-12-03</th>\n",
       "      <td>1020</td>\n",
       "      <td>2020</td>\n",
       "      <td>3020</td>\n",
       "      <td>4020</td>\n",
       "    </tr>\n",
       "  </tbody>\n",
       "</table>\n",
       "</div>"
      ],
      "text/plain": [
       "             A전자   B화학   C금융   D엔터\n",
       "2018-12-01  1000  2000  3000  4000\n",
       "2018-12-02  1010  2010  3010  4010\n",
       "2018-12-03  1020  2020  3020  4020"
      ]
     },
     "execution_count": 24,
     "metadata": {},
     "output_type": "execute_result"
    }
   ],
   "source": [
    "df2['D엔터'] = [4000, 4010, 4020]     # DataFrame에 열 추가\n",
    "df2"
   ]
  },
  {
   "cell_type": "code",
   "execution_count": 25,
   "metadata": {},
   "outputs": [
    {
     "data": {
      "text/html": [
       "<div>\n",
       "<style scoped>\n",
       "    .dataframe tbody tr th:only-of-type {\n",
       "        vertical-align: middle;\n",
       "    }\n",
       "\n",
       "    .dataframe tbody tr th {\n",
       "        vertical-align: top;\n",
       "    }\n",
       "\n",
       "    .dataframe thead th {\n",
       "        text-align: right;\n",
       "    }\n",
       "</style>\n",
       "<table border=\"1\" class=\"dataframe\">\n",
       "  <thead>\n",
       "    <tr style=\"text-align: right;\">\n",
       "      <th></th>\n",
       "      <th>A전자</th>\n",
       "      <th>B화학</th>\n",
       "      <th>C금융</th>\n",
       "      <th>D엔터</th>\n",
       "      <th>E텔레콤</th>\n",
       "    </tr>\n",
       "  </thead>\n",
       "  <tbody>\n",
       "    <tr>\n",
       "      <th>2018-12-01</th>\n",
       "      <td>1000</td>\n",
       "      <td>2000</td>\n",
       "      <td>3000</td>\n",
       "      <td>4000</td>\n",
       "      <td>1000</td>\n",
       "    </tr>\n",
       "    <tr>\n",
       "      <th>2018-12-02</th>\n",
       "      <td>1010</td>\n",
       "      <td>2010</td>\n",
       "      <td>3010</td>\n",
       "      <td>4010</td>\n",
       "      <td>1010</td>\n",
       "    </tr>\n",
       "    <tr>\n",
       "      <th>2018-12-03</th>\n",
       "      <td>1020</td>\n",
       "      <td>2020</td>\n",
       "      <td>3020</td>\n",
       "      <td>4020</td>\n",
       "      <td>1020</td>\n",
       "    </tr>\n",
       "  </tbody>\n",
       "</table>\n",
       "</div>"
      ],
      "text/plain": [
       "             A전자   B화학   C금융   D엔터  E텔레콤\n",
       "2018-12-01  1000  2000  3000  4000  1000\n",
       "2018-12-02  1010  2010  3010  4010  1010\n",
       "2018-12-03  1020  2020  3020  4020  1020"
      ]
     },
     "execution_count": 25,
     "metadata": {},
     "output_type": "execute_result"
    }
   ],
   "source": [
    "df2['E텔레콤'] = s     # Series로 부터 DataFrame 열 추가\n",
    "df2"
   ]
  },
  {
   "cell_type": "markdown",
   "metadata": {},
   "source": [
    "데이터프레임 확장"
   ]
  },
  {
   "cell_type": "code",
   "execution_count": 26,
   "metadata": {},
   "outputs": [
    {
     "data": {
      "text/plain": [
       "2018-12-01    1000\n",
       "2018-12-02    1010\n",
       "2018-12-03    1020\n",
       "2018-12-04    1030\n",
       "Freq: D, Name: F소프트, dtype: int64"
      ]
     },
     "execution_count": 26,
     "metadata": {},
     "output_type": "execute_result"
    }
   ],
   "source": [
    "s.name = 'F소프트'\n",
    "s"
   ]
  },
  {
   "cell_type": "code",
   "execution_count": 27,
   "metadata": {},
   "outputs": [
    {
     "data": {
      "text/html": [
       "<div>\n",
       "<style scoped>\n",
       "    .dataframe tbody tr th:only-of-type {\n",
       "        vertical-align: middle;\n",
       "    }\n",
       "\n",
       "    .dataframe tbody tr th {\n",
       "        vertical-align: top;\n",
       "    }\n",
       "\n",
       "    .dataframe thead th {\n",
       "        text-align: right;\n",
       "    }\n",
       "</style>\n",
       "<table border=\"1\" class=\"dataframe\">\n",
       "  <thead>\n",
       "    <tr style=\"text-align: right;\">\n",
       "      <th></th>\n",
       "      <th>A전자</th>\n",
       "      <th>B화학</th>\n",
       "      <th>C금융</th>\n",
       "      <th>D엔터</th>\n",
       "      <th>E텔레콤</th>\n",
       "      <th>F소프트</th>\n",
       "    </tr>\n",
       "  </thead>\n",
       "  <tbody>\n",
       "    <tr>\n",
       "      <th>2018-12-01</th>\n",
       "      <td>1000.0</td>\n",
       "      <td>2000.0</td>\n",
       "      <td>3000.0</td>\n",
       "      <td>4000.0</td>\n",
       "      <td>1000.0</td>\n",
       "      <td>1000</td>\n",
       "    </tr>\n",
       "    <tr>\n",
       "      <th>2018-12-02</th>\n",
       "      <td>1010.0</td>\n",
       "      <td>2010.0</td>\n",
       "      <td>3010.0</td>\n",
       "      <td>4010.0</td>\n",
       "      <td>1010.0</td>\n",
       "      <td>1010</td>\n",
       "    </tr>\n",
       "    <tr>\n",
       "      <th>2018-12-03</th>\n",
       "      <td>1020.0</td>\n",
       "      <td>2020.0</td>\n",
       "      <td>3020.0</td>\n",
       "      <td>4020.0</td>\n",
       "      <td>1020.0</td>\n",
       "      <td>1020</td>\n",
       "    </tr>\n",
       "    <tr>\n",
       "      <th>2018-12-04</th>\n",
       "      <td>NaN</td>\n",
       "      <td>NaN</td>\n",
       "      <td>NaN</td>\n",
       "      <td>NaN</td>\n",
       "      <td>NaN</td>\n",
       "      <td>1030</td>\n",
       "    </tr>\n",
       "  </tbody>\n",
       "</table>\n",
       "</div>"
      ],
      "text/plain": [
       "               A전자     B화학     C금융     D엔터    E텔레콤  F소프트\n",
       "2018-12-01  1000.0  2000.0  3000.0  4000.0  1000.0  1000\n",
       "2018-12-02  1010.0  2010.0  3010.0  4010.0  1010.0  1010\n",
       "2018-12-03  1020.0  2020.0  3020.0  4020.0  1020.0  1020\n",
       "2018-12-04     NaN     NaN     NaN     NaN     NaN  1030"
      ]
     },
     "execution_count": 27,
     "metadata": {},
     "output_type": "execute_result"
    }
   ],
   "source": [
    "df2 = pd.concat([df2, s], axis=1)\n",
    "df2"
   ]
  },
  {
   "cell_type": "code",
   "execution_count": 28,
   "metadata": {},
   "outputs": [
    {
     "data": {
      "text/plain": [
       "A전자     1060.0\n",
       "B화학     2060.0\n",
       "C금융     3060.0\n",
       "D엔터     4060.0\n",
       "E텔레콤    1060.0\n",
       "F소프트    1060.0\n",
       "Name: 2018-12-07 00:00:00, dtype: float64"
      ]
     },
     "execution_count": 28,
     "metadata": {},
     "output_type": "execute_result"
    }
   ],
   "source": [
    "df3 = df2.iloc[0]\n",
    "df3 = df3 + 60\n",
    "df3.name = pd.to_datetime('20181207')\n",
    "df3"
   ]
  },
  {
   "cell_type": "code",
   "execution_count": 29,
   "metadata": {},
   "outputs": [
    {
     "data": {
      "text/html": [
       "<div>\n",
       "<style scoped>\n",
       "    .dataframe tbody tr th:only-of-type {\n",
       "        vertical-align: middle;\n",
       "    }\n",
       "\n",
       "    .dataframe tbody tr th {\n",
       "        vertical-align: top;\n",
       "    }\n",
       "\n",
       "    .dataframe thead th {\n",
       "        text-align: right;\n",
       "    }\n",
       "</style>\n",
       "<table border=\"1\" class=\"dataframe\">\n",
       "  <thead>\n",
       "    <tr style=\"text-align: right;\">\n",
       "      <th></th>\n",
       "      <th>A전자</th>\n",
       "      <th>B화학</th>\n",
       "      <th>C금융</th>\n",
       "      <th>D엔터</th>\n",
       "      <th>E텔레콤</th>\n",
       "      <th>F소프트</th>\n",
       "    </tr>\n",
       "  </thead>\n",
       "  <tbody>\n",
       "    <tr>\n",
       "      <th>2018-12-01</th>\n",
       "      <td>1000.0</td>\n",
       "      <td>2000.0</td>\n",
       "      <td>3000.0</td>\n",
       "      <td>4000.0</td>\n",
       "      <td>1000.0</td>\n",
       "      <td>1000.0</td>\n",
       "    </tr>\n",
       "    <tr>\n",
       "      <th>2018-12-02</th>\n",
       "      <td>1010.0</td>\n",
       "      <td>2010.0</td>\n",
       "      <td>3010.0</td>\n",
       "      <td>4010.0</td>\n",
       "      <td>1010.0</td>\n",
       "      <td>1010.0</td>\n",
       "    </tr>\n",
       "    <tr>\n",
       "      <th>2018-12-03</th>\n",
       "      <td>1020.0</td>\n",
       "      <td>2020.0</td>\n",
       "      <td>3020.0</td>\n",
       "      <td>4020.0</td>\n",
       "      <td>1020.0</td>\n",
       "      <td>1020.0</td>\n",
       "    </tr>\n",
       "    <tr>\n",
       "      <th>2018-12-04</th>\n",
       "      <td>NaN</td>\n",
       "      <td>NaN</td>\n",
       "      <td>NaN</td>\n",
       "      <td>NaN</td>\n",
       "      <td>NaN</td>\n",
       "      <td>1030.0</td>\n",
       "    </tr>\n",
       "    <tr>\n",
       "      <th>2018-12-07</th>\n",
       "      <td>1060.0</td>\n",
       "      <td>2060.0</td>\n",
       "      <td>3060.0</td>\n",
       "      <td>4060.0</td>\n",
       "      <td>1060.0</td>\n",
       "      <td>1060.0</td>\n",
       "    </tr>\n",
       "  </tbody>\n",
       "</table>\n",
       "</div>"
      ],
      "text/plain": [
       "               A전자     B화학     C금융     D엔터    E텔레콤    F소프트\n",
       "2018-12-01  1000.0  2000.0  3000.0  4000.0  1000.0  1000.0\n",
       "2018-12-02  1010.0  2010.0  3010.0  4010.0  1010.0  1010.0\n",
       "2018-12-03  1020.0  2020.0  3020.0  4020.0  1020.0  1020.0\n",
       "2018-12-04     NaN     NaN     NaN     NaN     NaN  1030.0\n",
       "2018-12-07  1060.0  2060.0  3060.0  4060.0  1060.0  1060.0"
      ]
     },
     "execution_count": 29,
     "metadata": {},
     "output_type": "execute_result"
    }
   ],
   "source": [
    "df2 = df2.append(df3)\n",
    "df2"
   ]
  },
  {
   "cell_type": "code",
   "execution_count": 30,
   "metadata": {},
   "outputs": [
    {
     "data": {
      "text/html": [
       "<div>\n",
       "<style scoped>\n",
       "    .dataframe tbody tr th:only-of-type {\n",
       "        vertical-align: middle;\n",
       "    }\n",
       "\n",
       "    .dataframe tbody tr th {\n",
       "        vertical-align: top;\n",
       "    }\n",
       "\n",
       "    .dataframe thead th {\n",
       "        text-align: right;\n",
       "    }\n",
       "</style>\n",
       "<table border=\"1\" class=\"dataframe\">\n",
       "  <thead>\n",
       "    <tr style=\"text-align: right;\">\n",
       "      <th></th>\n",
       "      <th>A전자</th>\n",
       "      <th>B화학</th>\n",
       "      <th>C금융</th>\n",
       "      <th>D엔터</th>\n",
       "      <th>E텔레콤</th>\n",
       "      <th>F소프트</th>\n",
       "    </tr>\n",
       "  </thead>\n",
       "  <tbody>\n",
       "    <tr>\n",
       "      <th>2018-12-01</th>\n",
       "      <td>1000.0</td>\n",
       "      <td>2000.0</td>\n",
       "      <td>3000.0</td>\n",
       "      <td>4000.0</td>\n",
       "      <td>1000.0</td>\n",
       "      <td>1000.0</td>\n",
       "    </tr>\n",
       "    <tr>\n",
       "      <th>2018-12-02</th>\n",
       "      <td>1010.0</td>\n",
       "      <td>2010.0</td>\n",
       "      <td>3010.0</td>\n",
       "      <td>4010.0</td>\n",
       "      <td>1010.0</td>\n",
       "      <td>1010.0</td>\n",
       "    </tr>\n",
       "    <tr>\n",
       "      <th>2018-12-03</th>\n",
       "      <td>1020.0</td>\n",
       "      <td>2020.0</td>\n",
       "      <td>3020.0</td>\n",
       "      <td>4020.0</td>\n",
       "      <td>1020.0</td>\n",
       "      <td>1020.0</td>\n",
       "    </tr>\n",
       "    <tr>\n",
       "      <th>2018-12-04</th>\n",
       "      <td>NaN</td>\n",
       "      <td>NaN</td>\n",
       "      <td>NaN</td>\n",
       "      <td>NaN</td>\n",
       "      <td>NaN</td>\n",
       "      <td>1030.0</td>\n",
       "    </tr>\n",
       "    <tr>\n",
       "      <th>2018-12-07</th>\n",
       "      <td>1060.0</td>\n",
       "      <td>2060.0</td>\n",
       "      <td>3060.0</td>\n",
       "      <td>4060.0</td>\n",
       "      <td>1060.0</td>\n",
       "      <td>1060.0</td>\n",
       "    </tr>\n",
       "    <tr>\n",
       "      <th>2018-12-06</th>\n",
       "      <td>1050.0</td>\n",
       "      <td>2050.0</td>\n",
       "      <td>3050.0</td>\n",
       "      <td>4050.0</td>\n",
       "      <td>1050.0</td>\n",
       "      <td>1050.0</td>\n",
       "    </tr>\n",
       "  </tbody>\n",
       "</table>\n",
       "</div>"
      ],
      "text/plain": [
       "               A전자     B화학     C금융     D엔터    E텔레콤    F소프트\n",
       "2018-12-01  1000.0  2000.0  3000.0  4000.0  1000.0  1000.0\n",
       "2018-12-02  1010.0  2010.0  3010.0  4010.0  1010.0  1010.0\n",
       "2018-12-03  1020.0  2020.0  3020.0  4020.0  1020.0  1020.0\n",
       "2018-12-04     NaN     NaN     NaN     NaN     NaN  1030.0\n",
       "2018-12-07  1060.0  2060.0  3060.0  4060.0  1060.0  1060.0\n",
       "2018-12-06  1050.0  2050.0  3050.0  4050.0  1050.0  1050.0"
      ]
     },
     "execution_count": 30,
     "metadata": {},
     "output_type": "execute_result"
    }
   ],
   "source": [
    "df3 = df2.iloc[0] + 50\n",
    "df3.name = pd.to_datetime('20181206')\n",
    "df2 = df2.append(df3)\n",
    "df2"
   ]
  },
  {
   "cell_type": "code",
   "execution_count": 31,
   "metadata": {},
   "outputs": [
    {
     "data": {
      "text/html": [
       "<div>\n",
       "<style scoped>\n",
       "    .dataframe tbody tr th:only-of-type {\n",
       "        vertical-align: middle;\n",
       "    }\n",
       "\n",
       "    .dataframe tbody tr th {\n",
       "        vertical-align: top;\n",
       "    }\n",
       "\n",
       "    .dataframe thead th {\n",
       "        text-align: right;\n",
       "    }\n",
       "</style>\n",
       "<table border=\"1\" class=\"dataframe\">\n",
       "  <thead>\n",
       "    <tr style=\"text-align: right;\">\n",
       "      <th></th>\n",
       "      <th>A전자</th>\n",
       "      <th>B화학</th>\n",
       "      <th>C금융</th>\n",
       "      <th>D엔터</th>\n",
       "      <th>E텔레콤</th>\n",
       "      <th>F소프트</th>\n",
       "    </tr>\n",
       "  </thead>\n",
       "  <tbody>\n",
       "    <tr>\n",
       "      <th>2018-12-01</th>\n",
       "      <td>1000.0</td>\n",
       "      <td>2000.0</td>\n",
       "      <td>3000.0</td>\n",
       "      <td>4000.0</td>\n",
       "      <td>1000.0</td>\n",
       "      <td>1000.0</td>\n",
       "    </tr>\n",
       "    <tr>\n",
       "      <th>2018-12-02</th>\n",
       "      <td>1010.0</td>\n",
       "      <td>2010.0</td>\n",
       "      <td>3010.0</td>\n",
       "      <td>4010.0</td>\n",
       "      <td>1010.0</td>\n",
       "      <td>1010.0</td>\n",
       "    </tr>\n",
       "    <tr>\n",
       "      <th>2018-12-03</th>\n",
       "      <td>1020.0</td>\n",
       "      <td>2020.0</td>\n",
       "      <td>3020.0</td>\n",
       "      <td>4020.0</td>\n",
       "      <td>1020.0</td>\n",
       "      <td>1020.0</td>\n",
       "    </tr>\n",
       "    <tr>\n",
       "      <th>2018-12-04</th>\n",
       "      <td>NaN</td>\n",
       "      <td>NaN</td>\n",
       "      <td>NaN</td>\n",
       "      <td>NaN</td>\n",
       "      <td>NaN</td>\n",
       "      <td>1030.0</td>\n",
       "    </tr>\n",
       "    <tr>\n",
       "      <th>2018-12-06</th>\n",
       "      <td>1050.0</td>\n",
       "      <td>2050.0</td>\n",
       "      <td>3050.0</td>\n",
       "      <td>4050.0</td>\n",
       "      <td>1050.0</td>\n",
       "      <td>1050.0</td>\n",
       "    </tr>\n",
       "    <tr>\n",
       "      <th>2018-12-07</th>\n",
       "      <td>1060.0</td>\n",
       "      <td>2060.0</td>\n",
       "      <td>3060.0</td>\n",
       "      <td>4060.0</td>\n",
       "      <td>1060.0</td>\n",
       "      <td>1060.0</td>\n",
       "    </tr>\n",
       "  </tbody>\n",
       "</table>\n",
       "</div>"
      ],
      "text/plain": [
       "               A전자     B화학     C금융     D엔터    E텔레콤    F소프트\n",
       "2018-12-01  1000.0  2000.0  3000.0  4000.0  1000.0  1000.0\n",
       "2018-12-02  1010.0  2010.0  3010.0  4010.0  1010.0  1010.0\n",
       "2018-12-03  1020.0  2020.0  3020.0  4020.0  1020.0  1020.0\n",
       "2018-12-04     NaN     NaN     NaN     NaN     NaN  1030.0\n",
       "2018-12-06  1050.0  2050.0  3050.0  4050.0  1050.0  1050.0\n",
       "2018-12-07  1060.0  2060.0  3060.0  4060.0  1060.0  1060.0"
      ]
     },
     "execution_count": 31,
     "metadata": {},
     "output_type": "execute_result"
    }
   ],
   "source": [
    "df2 = df2.sort_index(axis=0)     # 날짜 순으로 인덱스 재정렬\n",
    "df2"
   ]
  },
  {
   "cell_type": "markdown",
   "metadata": {},
   "source": [
    "데이터 삭제"
   ]
  },
  {
   "cell_type": "code",
   "execution_count": 32,
   "metadata": {},
   "outputs": [
    {
     "name": "stdout",
     "output_type": "stream",
     "text": [
      "Help on function drop in module pandas.core.frame:\n",
      "\n",
      "drop(self, labels=None, axis=0, index=None, columns=None, level=None, inplace=False, errors='raise')\n",
      "    Drop specified labels from rows or columns.\n",
      "    \n",
      "    Remove rows or columns by specifying label names and corresponding\n",
      "    axis, or by specifying directly index or column names. When using a\n",
      "    multi-index, labels on different levels can be removed by specifying\n",
      "    the level.\n",
      "    \n",
      "    Parameters\n",
      "    ----------\n",
      "    labels : single label or list-like\n",
      "        Index or column labels to drop.\n",
      "    axis : {0 or 'index', 1 or 'columns'}, default 0\n",
      "        Whether to drop labels from the index (0 or 'index') or\n",
      "        columns (1 or 'columns').\n",
      "    index, columns : single label or list-like\n",
      "        Alternative to specifying axis (``labels, axis=1``\n",
      "        is equivalent to ``columns=labels``).\n",
      "    \n",
      "        .. versionadded:: 0.21.0\n",
      "    level : int or level name, optional\n",
      "        For MultiIndex, level from which the labels will be removed.\n",
      "    inplace : bool, default False\n",
      "        If True, do operation inplace and return None.\n",
      "    errors : {'ignore', 'raise'}, default 'raise'\n",
      "        If 'ignore', suppress error and only existing labels are\n",
      "        dropped.\n",
      "    \n",
      "    Returns\n",
      "    -------\n",
      "    dropped : pandas.DataFrame\n",
      "    \n",
      "    See Also\n",
      "    --------\n",
      "    DataFrame.loc : Label-location based indexer for selection by label.\n",
      "    DataFrame.dropna : Return DataFrame with labels on given axis omitted\n",
      "        where (all or any) data are missing\n",
      "    DataFrame.drop_duplicates : Return DataFrame with duplicate rows\n",
      "        removed, optionally only considering certain columns\n",
      "    Series.drop : Return Series with specified index labels removed.\n",
      "    \n",
      "    Raises\n",
      "    ------\n",
      "    KeyError\n",
      "        If none of the labels are found in the selected axis\n",
      "    \n",
      "    Examples\n",
      "    --------\n",
      "    >>> df = pd.DataFrame(np.arange(12).reshape(3,4),\n",
      "    ...                   columns=['A', 'B', 'C', 'D'])\n",
      "    >>> df\n",
      "       A  B   C   D\n",
      "    0  0  1   2   3\n",
      "    1  4  5   6   7\n",
      "    2  8  9  10  11\n",
      "    \n",
      "    Drop columns\n",
      "    \n",
      "    >>> df.drop(['B', 'C'], axis=1)\n",
      "       A   D\n",
      "    0  0   3\n",
      "    1  4   7\n",
      "    2  8  11\n",
      "    \n",
      "    >>> df.drop(columns=['B', 'C'])\n",
      "       A   D\n",
      "    0  0   3\n",
      "    1  4   7\n",
      "    2  8  11\n",
      "    \n",
      "    Drop a row by index\n",
      "    \n",
      "    >>> df.drop([0, 1])\n",
      "       A  B   C   D\n",
      "    2  8  9  10  11\n",
      "    \n",
      "    Drop columns and/or rows of MultiIndex DataFrame\n",
      "    \n",
      "    >>> midx = pd.MultiIndex(levels=[['lama', 'cow', 'falcon'],\n",
      "    ...                              ['speed', 'weight', 'length']],\n",
      "    ...                      labels=[[0, 0, 0, 1, 1, 1, 2, 2, 2],\n",
      "    ...                              [0, 1, 2, 0, 1, 2, 0, 1, 2]])\n",
      "    >>> df = pd.DataFrame(index=midx, columns=['big', 'small'],\n",
      "    ...                   data=[[45, 30], [200, 100], [1.5, 1], [30, 20],\n",
      "    ...                         [250, 150], [1.5, 0.8], [320, 250],\n",
      "    ...                         [1, 0.8], [0.3,0.2]])\n",
      "    >>> df\n",
      "                    big     small\n",
      "    lama    speed   45.0    30.0\n",
      "            weight  200.0   100.0\n",
      "            length  1.5     1.0\n",
      "    cow     speed   30.0    20.0\n",
      "            weight  250.0   150.0\n",
      "            length  1.5     0.8\n",
      "    falcon  speed   320.0   250.0\n",
      "            weight  1.0     0.8\n",
      "            length  0.3     0.2\n",
      "    \n",
      "    >>> df.drop(index='cow', columns='small')\n",
      "                    big\n",
      "    lama    speed   45.0\n",
      "            weight  200.0\n",
      "            length  1.5\n",
      "    falcon  speed   320.0\n",
      "            weight  1.0\n",
      "            length  0.3\n",
      "    \n",
      "    >>> df.drop(index='length', level=1)\n",
      "                    big     small\n",
      "    lama    speed   45.0    30.0\n",
      "            weight  200.0   100.0\n",
      "    cow     speed   30.0    20.0\n",
      "            weight  250.0   150.0\n",
      "    falcon  speed   320.0   250.0\n",
      "            weight  1.0     0.8\n",
      "\n"
     ]
    }
   ],
   "source": [
    "help(pd.DataFrame.drop)"
   ]
  },
  {
   "cell_type": "code",
   "execution_count": 33,
   "metadata": {},
   "outputs": [
    {
     "data": {
      "text/html": [
       "<div>\n",
       "<style scoped>\n",
       "    .dataframe tbody tr th:only-of-type {\n",
       "        vertical-align: middle;\n",
       "    }\n",
       "\n",
       "    .dataframe tbody tr th {\n",
       "        vertical-align: top;\n",
       "    }\n",
       "\n",
       "    .dataframe thead th {\n",
       "        text-align: right;\n",
       "    }\n",
       "</style>\n",
       "<table border=\"1\" class=\"dataframe\">\n",
       "  <thead>\n",
       "    <tr style=\"text-align: right;\">\n",
       "      <th></th>\n",
       "      <th>A전자</th>\n",
       "      <th>B화학</th>\n",
       "      <th>C금융</th>\n",
       "      <th>D엔터</th>\n",
       "      <th>E텔레콤</th>\n",
       "      <th>F소프트</th>\n",
       "    </tr>\n",
       "  </thead>\n",
       "  <tbody>\n",
       "    <tr>\n",
       "      <th>2018-12-01</th>\n",
       "      <td>1000.0</td>\n",
       "      <td>2000.0</td>\n",
       "      <td>3000.0</td>\n",
       "      <td>4000.0</td>\n",
       "      <td>1000.0</td>\n",
       "      <td>1000.0</td>\n",
       "    </tr>\n",
       "    <tr>\n",
       "      <th>2018-12-02</th>\n",
       "      <td>1010.0</td>\n",
       "      <td>2010.0</td>\n",
       "      <td>3010.0</td>\n",
       "      <td>4010.0</td>\n",
       "      <td>1010.0</td>\n",
       "      <td>1010.0</td>\n",
       "    </tr>\n",
       "    <tr>\n",
       "      <th>2018-12-03</th>\n",
       "      <td>1020.0</td>\n",
       "      <td>2020.0</td>\n",
       "      <td>3020.0</td>\n",
       "      <td>4020.0</td>\n",
       "      <td>1020.0</td>\n",
       "      <td>1020.0</td>\n",
       "    </tr>\n",
       "    <tr>\n",
       "      <th>2018-12-04</th>\n",
       "      <td>NaN</td>\n",
       "      <td>NaN</td>\n",
       "      <td>NaN</td>\n",
       "      <td>NaN</td>\n",
       "      <td>NaN</td>\n",
       "      <td>1030.0</td>\n",
       "    </tr>\n",
       "    <tr>\n",
       "      <th>2018-12-07</th>\n",
       "      <td>1060.0</td>\n",
       "      <td>2060.0</td>\n",
       "      <td>3060.0</td>\n",
       "      <td>4060.0</td>\n",
       "      <td>1060.0</td>\n",
       "      <td>1060.0</td>\n",
       "    </tr>\n",
       "  </tbody>\n",
       "</table>\n",
       "</div>"
      ],
      "text/plain": [
       "               A전자     B화학     C금융     D엔터    E텔레콤    F소프트\n",
       "2018-12-01  1000.0  2000.0  3000.0  4000.0  1000.0  1000.0\n",
       "2018-12-02  1010.0  2010.0  3010.0  4010.0  1010.0  1010.0\n",
       "2018-12-03  1020.0  2020.0  3020.0  4020.0  1020.0  1020.0\n",
       "2018-12-04     NaN     NaN     NaN     NaN     NaN  1030.0\n",
       "2018-12-07  1060.0  2060.0  3060.0  4060.0  1060.0  1060.0"
      ]
     },
     "execution_count": 33,
     "metadata": {},
     "output_type": "execute_result"
    }
   ],
   "source": [
    "'''\n",
    "    삭제한 DataFrame을 저장하지 않으므로\n",
    "    현재 결과값에서는 삭제된것처럼 보이나\n",
    "    df2에 삭제한 결과가 저장되지 않음에 주의\n",
    "'''\n",
    "df2.drop(pd.to_datetime('2018-12-06'))     # 행 삭제"
   ]
  },
  {
   "cell_type": "code",
   "execution_count": 34,
   "metadata": {},
   "outputs": [
    {
     "data": {
      "text/html": [
       "<div>\n",
       "<style scoped>\n",
       "    .dataframe tbody tr th:only-of-type {\n",
       "        vertical-align: middle;\n",
       "    }\n",
       "\n",
       "    .dataframe tbody tr th {\n",
       "        vertical-align: top;\n",
       "    }\n",
       "\n",
       "    .dataframe thead th {\n",
       "        text-align: right;\n",
       "    }\n",
       "</style>\n",
       "<table border=\"1\" class=\"dataframe\">\n",
       "  <thead>\n",
       "    <tr style=\"text-align: right;\">\n",
       "      <th></th>\n",
       "      <th>A전자</th>\n",
       "      <th>B화학</th>\n",
       "      <th>C금융</th>\n",
       "      <th>D엔터</th>\n",
       "      <th>E텔레콤</th>\n",
       "      <th>F소프트</th>\n",
       "    </tr>\n",
       "  </thead>\n",
       "  <tbody>\n",
       "    <tr>\n",
       "      <th>2018-12-01</th>\n",
       "      <td>1000.0</td>\n",
       "      <td>2000.0</td>\n",
       "      <td>3000.0</td>\n",
       "      <td>4000.0</td>\n",
       "      <td>1000.0</td>\n",
       "      <td>1000.0</td>\n",
       "    </tr>\n",
       "    <tr>\n",
       "      <th>2018-12-03</th>\n",
       "      <td>1020.0</td>\n",
       "      <td>2020.0</td>\n",
       "      <td>3020.0</td>\n",
       "      <td>4020.0</td>\n",
       "      <td>1020.0</td>\n",
       "      <td>1020.0</td>\n",
       "    </tr>\n",
       "    <tr>\n",
       "      <th>2018-12-04</th>\n",
       "      <td>NaN</td>\n",
       "      <td>NaN</td>\n",
       "      <td>NaN</td>\n",
       "      <td>NaN</td>\n",
       "      <td>NaN</td>\n",
       "      <td>1030.0</td>\n",
       "    </tr>\n",
       "    <tr>\n",
       "      <th>2018-12-07</th>\n",
       "      <td>1060.0</td>\n",
       "      <td>2060.0</td>\n",
       "      <td>3060.0</td>\n",
       "      <td>4060.0</td>\n",
       "      <td>1060.0</td>\n",
       "      <td>1060.0</td>\n",
       "    </tr>\n",
       "  </tbody>\n",
       "</table>\n",
       "</div>"
      ],
      "text/plain": [
       "               A전자     B화학     C금융     D엔터    E텔레콤    F소프트\n",
       "2018-12-01  1000.0  2000.0  3000.0  4000.0  1000.0  1000.0\n",
       "2018-12-03  1020.0  2020.0  3020.0  4020.0  1020.0  1020.0\n",
       "2018-12-04     NaN     NaN     NaN     NaN     NaN  1030.0\n",
       "2018-12-07  1060.0  2060.0  3060.0  4060.0  1060.0  1060.0"
      ]
     },
     "execution_count": 34,
     "metadata": {},
     "output_type": "execute_result"
    }
   ],
   "source": [
    "df2.drop([pd.to_datetime('2018-12-02'), pd.to_datetime('2018-12-06')])     # 여러 행 삭제"
   ]
  },
  {
   "cell_type": "code",
   "execution_count": 35,
   "metadata": {},
   "outputs": [
    {
     "data": {
      "text/html": [
       "<div>\n",
       "<style scoped>\n",
       "    .dataframe tbody tr th:only-of-type {\n",
       "        vertical-align: middle;\n",
       "    }\n",
       "\n",
       "    .dataframe tbody tr th {\n",
       "        vertical-align: top;\n",
       "    }\n",
       "\n",
       "    .dataframe thead th {\n",
       "        text-align: right;\n",
       "    }\n",
       "</style>\n",
       "<table border=\"1\" class=\"dataframe\">\n",
       "  <thead>\n",
       "    <tr style=\"text-align: right;\">\n",
       "      <th></th>\n",
       "      <th>A전자</th>\n",
       "      <th>B화학</th>\n",
       "      <th>C금융</th>\n",
       "      <th>E텔레콤</th>\n",
       "      <th>F소프트</th>\n",
       "    </tr>\n",
       "  </thead>\n",
       "  <tbody>\n",
       "    <tr>\n",
       "      <th>2018-12-01</th>\n",
       "      <td>1000.0</td>\n",
       "      <td>2000.0</td>\n",
       "      <td>3000.0</td>\n",
       "      <td>1000.0</td>\n",
       "      <td>1000.0</td>\n",
       "    </tr>\n",
       "    <tr>\n",
       "      <th>2018-12-02</th>\n",
       "      <td>1010.0</td>\n",
       "      <td>2010.0</td>\n",
       "      <td>3010.0</td>\n",
       "      <td>1010.0</td>\n",
       "      <td>1010.0</td>\n",
       "    </tr>\n",
       "    <tr>\n",
       "      <th>2018-12-03</th>\n",
       "      <td>1020.0</td>\n",
       "      <td>2020.0</td>\n",
       "      <td>3020.0</td>\n",
       "      <td>1020.0</td>\n",
       "      <td>1020.0</td>\n",
       "    </tr>\n",
       "    <tr>\n",
       "      <th>2018-12-04</th>\n",
       "      <td>NaN</td>\n",
       "      <td>NaN</td>\n",
       "      <td>NaN</td>\n",
       "      <td>NaN</td>\n",
       "      <td>1030.0</td>\n",
       "    </tr>\n",
       "    <tr>\n",
       "      <th>2018-12-06</th>\n",
       "      <td>1050.0</td>\n",
       "      <td>2050.0</td>\n",
       "      <td>3050.0</td>\n",
       "      <td>1050.0</td>\n",
       "      <td>1050.0</td>\n",
       "    </tr>\n",
       "    <tr>\n",
       "      <th>2018-12-07</th>\n",
       "      <td>1060.0</td>\n",
       "      <td>2060.0</td>\n",
       "      <td>3060.0</td>\n",
       "      <td>1060.0</td>\n",
       "      <td>1060.0</td>\n",
       "    </tr>\n",
       "  </tbody>\n",
       "</table>\n",
       "</div>"
      ],
      "text/plain": [
       "               A전자     B화학     C금융    E텔레콤    F소프트\n",
       "2018-12-01  1000.0  2000.0  3000.0  1000.0  1000.0\n",
       "2018-12-02  1010.0  2010.0  3010.0  1010.0  1010.0\n",
       "2018-12-03  1020.0  2020.0  3020.0  1020.0  1020.0\n",
       "2018-12-04     NaN     NaN     NaN     NaN  1030.0\n",
       "2018-12-06  1050.0  2050.0  3050.0  1050.0  1050.0\n",
       "2018-12-07  1060.0  2060.0  3060.0  1060.0  1060.0"
      ]
     },
     "execution_count": 35,
     "metadata": {},
     "output_type": "execute_result"
    }
   ],
   "source": [
    "df2.drop('D엔터', axis=1)     # 열 삭제"
   ]
  },
  {
   "cell_type": "code",
   "execution_count": 36,
   "metadata": {},
   "outputs": [
    {
     "data": {
      "text/html": [
       "<div>\n",
       "<style scoped>\n",
       "    .dataframe tbody tr th:only-of-type {\n",
       "        vertical-align: middle;\n",
       "    }\n",
       "\n",
       "    .dataframe tbody tr th {\n",
       "        vertical-align: top;\n",
       "    }\n",
       "\n",
       "    .dataframe thead th {\n",
       "        text-align: right;\n",
       "    }\n",
       "</style>\n",
       "<table border=\"1\" class=\"dataframe\">\n",
       "  <thead>\n",
       "    <tr style=\"text-align: right;\">\n",
       "      <th></th>\n",
       "      <th>A전자</th>\n",
       "      <th>B화학</th>\n",
       "      <th>D엔터</th>\n",
       "      <th>F소프트</th>\n",
       "    </tr>\n",
       "  </thead>\n",
       "  <tbody>\n",
       "    <tr>\n",
       "      <th>2018-12-01</th>\n",
       "      <td>1000.0</td>\n",
       "      <td>2000.0</td>\n",
       "      <td>4000.0</td>\n",
       "      <td>1000.0</td>\n",
       "    </tr>\n",
       "    <tr>\n",
       "      <th>2018-12-02</th>\n",
       "      <td>1010.0</td>\n",
       "      <td>2010.0</td>\n",
       "      <td>4010.0</td>\n",
       "      <td>1010.0</td>\n",
       "    </tr>\n",
       "    <tr>\n",
       "      <th>2018-12-03</th>\n",
       "      <td>1020.0</td>\n",
       "      <td>2020.0</td>\n",
       "      <td>4020.0</td>\n",
       "      <td>1020.0</td>\n",
       "    </tr>\n",
       "    <tr>\n",
       "      <th>2018-12-04</th>\n",
       "      <td>NaN</td>\n",
       "      <td>NaN</td>\n",
       "      <td>NaN</td>\n",
       "      <td>1030.0</td>\n",
       "    </tr>\n",
       "    <tr>\n",
       "      <th>2018-12-06</th>\n",
       "      <td>1050.0</td>\n",
       "      <td>2050.0</td>\n",
       "      <td>4050.0</td>\n",
       "      <td>1050.0</td>\n",
       "    </tr>\n",
       "    <tr>\n",
       "      <th>2018-12-07</th>\n",
       "      <td>1060.0</td>\n",
       "      <td>2060.0</td>\n",
       "      <td>4060.0</td>\n",
       "      <td>1060.0</td>\n",
       "    </tr>\n",
       "  </tbody>\n",
       "</table>\n",
       "</div>"
      ],
      "text/plain": [
       "               A전자     B화학     D엔터    F소프트\n",
       "2018-12-01  1000.0  2000.0  4000.0  1000.0\n",
       "2018-12-02  1010.0  2010.0  4010.0  1010.0\n",
       "2018-12-03  1020.0  2020.0  4020.0  1020.0\n",
       "2018-12-04     NaN     NaN     NaN  1030.0\n",
       "2018-12-06  1050.0  2050.0  4050.0  1050.0\n",
       "2018-12-07  1060.0  2060.0  4060.0  1060.0"
      ]
     },
     "execution_count": 36,
     "metadata": {},
     "output_type": "execute_result"
    }
   ],
   "source": [
    "df2.drop(['C금융', 'E텔레콤'], axis=1)"
   ]
  },
  {
   "cell_type": "code",
   "execution_count": 37,
   "metadata": {},
   "outputs": [
    {
     "data": {
      "text/html": [
       "<div>\n",
       "<style scoped>\n",
       "    .dataframe tbody tr th:only-of-type {\n",
       "        vertical-align: middle;\n",
       "    }\n",
       "\n",
       "    .dataframe tbody tr th {\n",
       "        vertical-align: top;\n",
       "    }\n",
       "\n",
       "    .dataframe thead th {\n",
       "        text-align: right;\n",
       "    }\n",
       "</style>\n",
       "<table border=\"1\" class=\"dataframe\">\n",
       "  <thead>\n",
       "    <tr style=\"text-align: right;\">\n",
       "      <th></th>\n",
       "      <th>A전자</th>\n",
       "      <th>B화학</th>\n",
       "      <th>C금융</th>\n",
       "      <th>D엔터</th>\n",
       "      <th>E텔레콤</th>\n",
       "      <th>F소프트</th>\n",
       "    </tr>\n",
       "  </thead>\n",
       "  <tbody>\n",
       "    <tr>\n",
       "      <th>2018-12-01</th>\n",
       "      <td>1000.0</td>\n",
       "      <td>2000.0</td>\n",
       "      <td>3000.0</td>\n",
       "      <td>4000.0</td>\n",
       "      <td>1000.0</td>\n",
       "      <td>1000.0</td>\n",
       "    </tr>\n",
       "    <tr>\n",
       "      <th>2018-12-02</th>\n",
       "      <td>1010.0</td>\n",
       "      <td>2010.0</td>\n",
       "      <td>3010.0</td>\n",
       "      <td>4010.0</td>\n",
       "      <td>1010.0</td>\n",
       "      <td>1010.0</td>\n",
       "    </tr>\n",
       "    <tr>\n",
       "      <th>2018-12-03</th>\n",
       "      <td>1020.0</td>\n",
       "      <td>2020.0</td>\n",
       "      <td>3020.0</td>\n",
       "      <td>4020.0</td>\n",
       "      <td>1020.0</td>\n",
       "      <td>1020.0</td>\n",
       "    </tr>\n",
       "    <tr>\n",
       "      <th>2018-12-04</th>\n",
       "      <td>NaN</td>\n",
       "      <td>NaN</td>\n",
       "      <td>NaN</td>\n",
       "      <td>NaN</td>\n",
       "      <td>NaN</td>\n",
       "      <td>1030.0</td>\n",
       "    </tr>\n",
       "    <tr>\n",
       "      <th>2018-12-06</th>\n",
       "      <td>1050.0</td>\n",
       "      <td>2050.0</td>\n",
       "      <td>3050.0</td>\n",
       "      <td>4050.0</td>\n",
       "      <td>1050.0</td>\n",
       "      <td>1050.0</td>\n",
       "    </tr>\n",
       "  </tbody>\n",
       "</table>\n",
       "</div>"
      ],
      "text/plain": [
       "               A전자     B화학     C금융     D엔터    E텔레콤    F소프트\n",
       "2018-12-01  1000.0  2000.0  3000.0  4000.0  1000.0  1000.0\n",
       "2018-12-02  1010.0  2010.0  3010.0  4010.0  1010.0  1010.0\n",
       "2018-12-03  1020.0  2020.0  3020.0  4020.0  1020.0  1020.0\n",
       "2018-12-04     NaN     NaN     NaN     NaN     NaN  1030.0\n",
       "2018-12-06  1050.0  2050.0  3050.0  4050.0  1050.0  1050.0"
      ]
     },
     "execution_count": 37,
     "metadata": {},
     "output_type": "execute_result"
    }
   ],
   "source": [
    "df2.head()     # DataFrame의 최초 5줄 조회"
   ]
  },
  {
   "cell_type": "code",
   "execution_count": 38,
   "metadata": {},
   "outputs": [
    {
     "data": {
      "text/html": [
       "<div>\n",
       "<style scoped>\n",
       "    .dataframe tbody tr th:only-of-type {\n",
       "        vertical-align: middle;\n",
       "    }\n",
       "\n",
       "    .dataframe tbody tr th {\n",
       "        vertical-align: top;\n",
       "    }\n",
       "\n",
       "    .dataframe thead th {\n",
       "        text-align: right;\n",
       "    }\n",
       "</style>\n",
       "<table border=\"1\" class=\"dataframe\">\n",
       "  <thead>\n",
       "    <tr style=\"text-align: right;\">\n",
       "      <th></th>\n",
       "      <th>A전자</th>\n",
       "      <th>B화학</th>\n",
       "      <th>C금융</th>\n",
       "      <th>D엔터</th>\n",
       "      <th>E텔레콤</th>\n",
       "      <th>F소프트</th>\n",
       "    </tr>\n",
       "  </thead>\n",
       "  <tbody>\n",
       "    <tr>\n",
       "      <th>2018-12-04</th>\n",
       "      <td>NaN</td>\n",
       "      <td>NaN</td>\n",
       "      <td>NaN</td>\n",
       "      <td>NaN</td>\n",
       "      <td>NaN</td>\n",
       "      <td>1030.0</td>\n",
       "    </tr>\n",
       "    <tr>\n",
       "      <th>2018-12-06</th>\n",
       "      <td>1050.0</td>\n",
       "      <td>2050.0</td>\n",
       "      <td>3050.0</td>\n",
       "      <td>4050.0</td>\n",
       "      <td>1050.0</td>\n",
       "      <td>1050.0</td>\n",
       "    </tr>\n",
       "    <tr>\n",
       "      <th>2018-12-07</th>\n",
       "      <td>1060.0</td>\n",
       "      <td>2060.0</td>\n",
       "      <td>3060.0</td>\n",
       "      <td>4060.0</td>\n",
       "      <td>1060.0</td>\n",
       "      <td>1060.0</td>\n",
       "    </tr>\n",
       "  </tbody>\n",
       "</table>\n",
       "</div>"
      ],
      "text/plain": [
       "               A전자     B화학     C금융     D엔터    E텔레콤    F소프트\n",
       "2018-12-04     NaN     NaN     NaN     NaN     NaN  1030.0\n",
       "2018-12-06  1050.0  2050.0  3050.0  4050.0  1050.0  1050.0\n",
       "2018-12-07  1060.0  2060.0  3060.0  4060.0  1060.0  1060.0"
      ]
     },
     "execution_count": 38,
     "metadata": {},
     "output_type": "execute_result"
    }
   ],
   "source": [
    "df2.tail(3)     # DataFrame의 마지막 3줄 조회"
   ]
  },
  {
   "cell_type": "code",
   "execution_count": 39,
   "metadata": {},
   "outputs": [
    {
     "data": {
      "text/plain": [
       "A전자     1020.0\n",
       "B화학     2020.0\n",
       "C금융     3020.0\n",
       "D엔터     4020.0\n",
       "E텔레콤    1020.0\n",
       "F소프트    1020.0\n",
       "Name: 2018-12-03 00:00:00, dtype: float64"
      ]
     },
     "execution_count": 39,
     "metadata": {},
     "output_type": "execute_result"
    }
   ],
   "source": [
    "df2.iloc[2]     # 인덱스 위치번호(iloc: Index Location)로 슬라이싱"
   ]
  },
  {
   "cell_type": "code",
   "execution_count": 40,
   "metadata": {},
   "outputs": [
    {
     "data": {
      "text/plain": [
       "A전자     1020.0\n",
       "B화학     2020.0\n",
       "C금융     3020.0\n",
       "D엔터     4020.0\n",
       "E텔레콤    1020.0\n",
       "F소프트    1020.0\n",
       "Name: 2018-12-03 00:00:00, dtype: float64"
      ]
     },
     "execution_count": 40,
     "metadata": {},
     "output_type": "execute_result"
    }
   ],
   "source": [
    "df2.loc['2018-12-03']     # 인덱스 이름으로 슬라이싱 시 iloc 대신 loc 사용"
   ]
  },
  {
   "cell_type": "code",
   "execution_count": 41,
   "metadata": {},
   "outputs": [
    {
     "data": {
      "text/html": [
       "<div>\n",
       "<style scoped>\n",
       "    .dataframe tbody tr th:only-of-type {\n",
       "        vertical-align: middle;\n",
       "    }\n",
       "\n",
       "    .dataframe tbody tr th {\n",
       "        vertical-align: top;\n",
       "    }\n",
       "\n",
       "    .dataframe thead th {\n",
       "        text-align: right;\n",
       "    }\n",
       "</style>\n",
       "<table border=\"1\" class=\"dataframe\">\n",
       "  <thead>\n",
       "    <tr style=\"text-align: right;\">\n",
       "      <th></th>\n",
       "      <th>A전자</th>\n",
       "      <th>B화학</th>\n",
       "      <th>C금융</th>\n",
       "      <th>D엔터</th>\n",
       "      <th>E텔레콤</th>\n",
       "      <th>F소프트</th>\n",
       "    </tr>\n",
       "  </thead>\n",
       "  <tbody>\n",
       "    <tr>\n",
       "      <th>2018-12-02</th>\n",
       "      <td>1010.0</td>\n",
       "      <td>2010.0</td>\n",
       "      <td>3010.0</td>\n",
       "      <td>4010.0</td>\n",
       "      <td>1010.0</td>\n",
       "      <td>1010.0</td>\n",
       "    </tr>\n",
       "    <tr>\n",
       "      <th>2018-12-03</th>\n",
       "      <td>1020.0</td>\n",
       "      <td>2020.0</td>\n",
       "      <td>3020.0</td>\n",
       "      <td>4020.0</td>\n",
       "      <td>1020.0</td>\n",
       "      <td>1020.0</td>\n",
       "    </tr>\n",
       "  </tbody>\n",
       "</table>\n",
       "</div>"
      ],
      "text/plain": [
       "               A전자     B화학     C금융     D엔터    E텔레콤    F소프트\n",
       "2018-12-02  1010.0  2010.0  3010.0  4010.0  1010.0  1010.0\n",
       "2018-12-03  1020.0  2020.0  3020.0  4020.0  1020.0  1020.0"
      ]
     },
     "execution_count": 41,
     "metadata": {},
     "output_type": "execute_result"
    }
   ],
   "source": [
    "df2.iloc[1:3]     # 행 다중 선택"
   ]
  },
  {
   "cell_type": "code",
   "execution_count": 42,
   "metadata": {},
   "outputs": [
    {
     "data": {
      "text/html": [
       "<div>\n",
       "<style scoped>\n",
       "    .dataframe tbody tr th:only-of-type {\n",
       "        vertical-align: middle;\n",
       "    }\n",
       "\n",
       "    .dataframe tbody tr th {\n",
       "        vertical-align: top;\n",
       "    }\n",
       "\n",
       "    .dataframe thead th {\n",
       "        text-align: right;\n",
       "    }\n",
       "</style>\n",
       "<table border=\"1\" class=\"dataframe\">\n",
       "  <thead>\n",
       "    <tr style=\"text-align: right;\">\n",
       "      <th></th>\n",
       "      <th>A전자</th>\n",
       "      <th>B화학</th>\n",
       "      <th>C금융</th>\n",
       "      <th>D엔터</th>\n",
       "      <th>E텔레콤</th>\n",
       "      <th>F소프트</th>\n",
       "    </tr>\n",
       "  </thead>\n",
       "  <tbody>\n",
       "    <tr>\n",
       "      <th>2018-12-02</th>\n",
       "      <td>1010.0</td>\n",
       "      <td>2010.0</td>\n",
       "      <td>3010.0</td>\n",
       "      <td>4010.0</td>\n",
       "      <td>1010.0</td>\n",
       "      <td>1010.0</td>\n",
       "    </tr>\n",
       "    <tr>\n",
       "      <th>2018-12-03</th>\n",
       "      <td>1020.0</td>\n",
       "      <td>2020.0</td>\n",
       "      <td>3020.0</td>\n",
       "      <td>4020.0</td>\n",
       "      <td>1020.0</td>\n",
       "      <td>1020.0</td>\n",
       "    </tr>\n",
       "  </tbody>\n",
       "</table>\n",
       "</div>"
      ],
      "text/plain": [
       "               A전자     B화학     C금융     D엔터    E텔레콤    F소프트\n",
       "2018-12-02  1010.0  2010.0  3010.0  4010.0  1010.0  1010.0\n",
       "2018-12-03  1020.0  2020.0  3020.0  4020.0  1020.0  1020.0"
      ]
     },
     "execution_count": 42,
     "metadata": {},
     "output_type": "execute_result"
    }
   ],
   "source": [
    "df2.loc['2018-12-02':'2018-12-03']     # 행 다중 선택"
   ]
  },
  {
   "cell_type": "code",
   "execution_count": 43,
   "metadata": {},
   "outputs": [
    {
     "data": {
      "text/html": [
       "<div>\n",
       "<style scoped>\n",
       "    .dataframe tbody tr th:only-of-type {\n",
       "        vertical-align: middle;\n",
       "    }\n",
       "\n",
       "    .dataframe tbody tr th {\n",
       "        vertical-align: top;\n",
       "    }\n",
       "\n",
       "    .dataframe thead th {\n",
       "        text-align: right;\n",
       "    }\n",
       "</style>\n",
       "<table border=\"1\" class=\"dataframe\">\n",
       "  <thead>\n",
       "    <tr style=\"text-align: right;\">\n",
       "      <th></th>\n",
       "      <th>A전자</th>\n",
       "      <th>B화학</th>\n",
       "      <th>C금융</th>\n",
       "      <th>D엔터</th>\n",
       "      <th>E텔레콤</th>\n",
       "      <th>F소프트</th>\n",
       "    </tr>\n",
       "  </thead>\n",
       "  <tbody>\n",
       "    <tr>\n",
       "      <th>2018-12-02</th>\n",
       "      <td>1010.0</td>\n",
       "      <td>2010.0</td>\n",
       "      <td>3010.0</td>\n",
       "      <td>4010.0</td>\n",
       "      <td>1010.0</td>\n",
       "      <td>1010.0</td>\n",
       "    </tr>\n",
       "    <tr>\n",
       "      <th>2018-12-03</th>\n",
       "      <td>1020.0</td>\n",
       "      <td>2020.0</td>\n",
       "      <td>3020.0</td>\n",
       "      <td>4020.0</td>\n",
       "      <td>1020.0</td>\n",
       "      <td>1020.0</td>\n",
       "    </tr>\n",
       "  </tbody>\n",
       "</table>\n",
       "</div>"
      ],
      "text/plain": [
       "               A전자     B화학     C금융     D엔터    E텔레콤    F소프트\n",
       "2018-12-02  1010.0  2010.0  3010.0  4010.0  1010.0  1010.0\n",
       "2018-12-03  1020.0  2020.0  3020.0  4020.0  1020.0  1020.0"
      ]
     },
     "execution_count": 43,
     "metadata": {},
     "output_type": "execute_result"
    }
   ],
   "source": [
    "df2[1:3]     # 행 다중 선택 시 NumPy 배열처럼 슬라이싱 가능"
   ]
  },
  {
   "cell_type": "code",
   "execution_count": 44,
   "metadata": {},
   "outputs": [
    {
     "data": {
      "text/plain": [
       "2018-12-01    3000.0\n",
       "2018-12-02    3010.0\n",
       "2018-12-03    3020.0\n",
       "2018-12-04       NaN\n",
       "2018-12-06    3050.0\n",
       "2018-12-07    3060.0\n",
       "Name: C금융, dtype: float64"
      ]
     },
     "execution_count": 44,
     "metadata": {},
     "output_type": "execute_result"
    }
   ],
   "source": [
    "df2['C금융']    # 열 슬라이싱은 열 이름으로 가능"
   ]
  },
  {
   "cell_type": "code",
   "execution_count": 45,
   "metadata": {},
   "outputs": [
    {
     "data": {
      "text/plain": [
       "2018-12-02    3010.0\n",
       "2018-12-03    3020.0\n",
       "Name: C금융, dtype: float64"
      ]
     },
     "execution_count": 45,
     "metadata": {},
     "output_type": "execute_result"
    }
   ],
   "source": [
    "df2.iloc[1:3, 2]     # 위치 번호로 행, 열 선택"
   ]
  },
  {
   "cell_type": "code",
   "execution_count": 46,
   "metadata": {},
   "outputs": [
    {
     "data": {
      "text/plain": [
       "2018-12-02    3010.0\n",
       "2018-12-03    3020.0\n",
       "Name: C금융, dtype: float64"
      ]
     },
     "execution_count": 46,
     "metadata": {},
     "output_type": "execute_result"
    }
   ],
   "source": [
    "df2.loc['2018-12-02':'2018-12-03', 'C금융']    # 이름으로 행, 열 선택"
   ]
  },
  {
   "cell_type": "code",
   "execution_count": 47,
   "metadata": {},
   "outputs": [
    {
     "data": {
      "text/plain": [
       "2018-12-01    10000.0\n",
       "2018-12-02    10100.0\n",
       "2018-12-03    10200.0\n",
       "2018-12-04        NaN\n",
       "2018-12-06    10500.0\n",
       "2018-12-07    10600.0\n",
       "Name: E텔레콤, dtype: float64"
      ]
     },
     "execution_count": 47,
     "metadata": {},
     "output_type": "execute_result"
    }
   ],
   "source": [
    "df2['E텔레콤'] * 10     # DataFrame의 스칼라 연산"
   ]
  },
  {
   "cell_type": "code",
   "execution_count": 48,
   "metadata": {},
   "outputs": [
    {
     "data": {
      "text/plain": [
       "A전자      5140.0\n",
       "B화학     10140.0\n",
       "C금융     15140.0\n",
       "D엔터     20140.0\n",
       "E텔레콤     5140.0\n",
       "F소프트     6170.0\n",
       "dtype: float64"
      ]
     },
     "execution_count": 48,
     "metadata": {},
     "output_type": "execute_result"
    }
   ],
   "source": [
    "df2.sum(axis=0)     # 행간 연산, 즉 열별 합산"
   ]
  },
  {
   "cell_type": "code",
   "execution_count": 49,
   "metadata": {},
   "outputs": [
    {
     "data": {
      "text/plain": [
       "2018-12-01    1500.0\n",
       "2018-12-02    1510.0\n",
       "2018-12-03    1520.0\n",
       "2018-12-04    1030.0\n",
       "2018-12-06    1550.0\n",
       "2018-12-07    1560.0\n",
       "dtype: float64"
      ]
     },
     "execution_count": 49,
     "metadata": {},
     "output_type": "execute_result"
    }
   ],
   "source": [
    "df2.median(axis=1)     # 열간 연산, 즉 행별 합산"
   ]
  },
  {
   "cell_type": "code",
   "execution_count": 50,
   "metadata": {},
   "outputs": [
    {
     "data": {
      "text/html": [
       "<div>\n",
       "<style scoped>\n",
       "    .dataframe tbody tr th:only-of-type {\n",
       "        vertical-align: middle;\n",
       "    }\n",
       "\n",
       "    .dataframe tbody tr th {\n",
       "        vertical-align: top;\n",
       "    }\n",
       "\n",
       "    .dataframe thead th {\n",
       "        text-align: right;\n",
       "    }\n",
       "</style>\n",
       "<table border=\"1\" class=\"dataframe\">\n",
       "  <thead>\n",
       "    <tr style=\"text-align: right;\">\n",
       "      <th></th>\n",
       "      <th>A전자</th>\n",
       "      <th>B화학</th>\n",
       "      <th>C금융</th>\n",
       "      <th>D엔터</th>\n",
       "      <th>E텔레콤</th>\n",
       "      <th>F소프트</th>\n",
       "    </tr>\n",
       "  </thead>\n",
       "  <tbody>\n",
       "    <tr>\n",
       "      <th>count</th>\n",
       "      <td>5.000000</td>\n",
       "      <td>5.000000</td>\n",
       "      <td>5.000000</td>\n",
       "      <td>5.000000</td>\n",
       "      <td>5.000000</td>\n",
       "      <td>6.000000</td>\n",
       "    </tr>\n",
       "    <tr>\n",
       "      <th>mean</th>\n",
       "      <td>1028.000000</td>\n",
       "      <td>2028.000000</td>\n",
       "      <td>3028.000000</td>\n",
       "      <td>4028.000000</td>\n",
       "      <td>1028.000000</td>\n",
       "      <td>1028.333333</td>\n",
       "    </tr>\n",
       "    <tr>\n",
       "      <th>std</th>\n",
       "      <td>25.884358</td>\n",
       "      <td>25.884358</td>\n",
       "      <td>25.884358</td>\n",
       "      <td>25.884358</td>\n",
       "      <td>25.884358</td>\n",
       "      <td>23.166067</td>\n",
       "    </tr>\n",
       "    <tr>\n",
       "      <th>min</th>\n",
       "      <td>1000.000000</td>\n",
       "      <td>2000.000000</td>\n",
       "      <td>3000.000000</td>\n",
       "      <td>4000.000000</td>\n",
       "      <td>1000.000000</td>\n",
       "      <td>1000.000000</td>\n",
       "    </tr>\n",
       "    <tr>\n",
       "      <th>25%</th>\n",
       "      <td>1010.000000</td>\n",
       "      <td>2010.000000</td>\n",
       "      <td>3010.000000</td>\n",
       "      <td>4010.000000</td>\n",
       "      <td>1010.000000</td>\n",
       "      <td>1012.500000</td>\n",
       "    </tr>\n",
       "    <tr>\n",
       "      <th>50%</th>\n",
       "      <td>1020.000000</td>\n",
       "      <td>2020.000000</td>\n",
       "      <td>3020.000000</td>\n",
       "      <td>4020.000000</td>\n",
       "      <td>1020.000000</td>\n",
       "      <td>1025.000000</td>\n",
       "    </tr>\n",
       "    <tr>\n",
       "      <th>75%</th>\n",
       "      <td>1050.000000</td>\n",
       "      <td>2050.000000</td>\n",
       "      <td>3050.000000</td>\n",
       "      <td>4050.000000</td>\n",
       "      <td>1050.000000</td>\n",
       "      <td>1045.000000</td>\n",
       "    </tr>\n",
       "    <tr>\n",
       "      <th>max</th>\n",
       "      <td>1060.000000</td>\n",
       "      <td>2060.000000</td>\n",
       "      <td>3060.000000</td>\n",
       "      <td>4060.000000</td>\n",
       "      <td>1060.000000</td>\n",
       "      <td>1060.000000</td>\n",
       "    </tr>\n",
       "  </tbody>\n",
       "</table>\n",
       "</div>"
      ],
      "text/plain": [
       "               A전자          B화학          C금융          D엔터         E텔레콤  \\\n",
       "count     5.000000     5.000000     5.000000     5.000000     5.000000   \n",
       "mean   1028.000000  2028.000000  3028.000000  4028.000000  1028.000000   \n",
       "std      25.884358    25.884358    25.884358    25.884358    25.884358   \n",
       "min    1000.000000  2000.000000  3000.000000  4000.000000  1000.000000   \n",
       "25%    1010.000000  2010.000000  3010.000000  4010.000000  1010.000000   \n",
       "50%    1020.000000  2020.000000  3020.000000  4020.000000  1020.000000   \n",
       "75%    1050.000000  2050.000000  3050.000000  4050.000000  1050.000000   \n",
       "max    1060.000000  2060.000000  3060.000000  4060.000000  1060.000000   \n",
       "\n",
       "              F소프트  \n",
       "count     6.000000  \n",
       "mean   1028.333333  \n",
       "std      23.166067  \n",
       "min    1000.000000  \n",
       "25%    1012.500000  \n",
       "50%    1025.000000  \n",
       "75%    1045.000000  \n",
       "max    1060.000000  "
      ]
     },
     "execution_count": 50,
     "metadata": {},
     "output_type": "execute_result"
    }
   ],
   "source": [
    "df2.describe()     # 통계 요약"
   ]
  },
  {
   "cell_type": "code",
   "execution_count": 51,
   "metadata": {},
   "outputs": [
    {
     "data": {
      "text/html": [
       "<div>\n",
       "<style scoped>\n",
       "    .dataframe tbody tr th:only-of-type {\n",
       "        vertical-align: middle;\n",
       "    }\n",
       "\n",
       "    .dataframe tbody tr th {\n",
       "        vertical-align: top;\n",
       "    }\n",
       "\n",
       "    .dataframe thead th {\n",
       "        text-align: right;\n",
       "    }\n",
       "</style>\n",
       "<table border=\"1\" class=\"dataframe\">\n",
       "  <thead>\n",
       "    <tr style=\"text-align: right;\">\n",
       "      <th></th>\n",
       "      <th>A전자</th>\n",
       "      <th>B화학</th>\n",
       "      <th>C금융</th>\n",
       "      <th>D엔터</th>\n",
       "      <th>E텔레콤</th>\n",
       "      <th>F소프트</th>\n",
       "    </tr>\n",
       "  </thead>\n",
       "  <tbody>\n",
       "    <tr>\n",
       "      <th>2018-12-01</th>\n",
       "      <td>1000.0</td>\n",
       "      <td>2000.0</td>\n",
       "      <td>3000.0</td>\n",
       "      <td>4000.0</td>\n",
       "      <td>1000.0</td>\n",
       "      <td>1000.0</td>\n",
       "    </tr>\n",
       "    <tr>\n",
       "      <th>2018-12-02</th>\n",
       "      <td>1010.0</td>\n",
       "      <td>2010.0</td>\n",
       "      <td>3010.0</td>\n",
       "      <td>4010.0</td>\n",
       "      <td>1010.0</td>\n",
       "      <td>1010.0</td>\n",
       "    </tr>\n",
       "    <tr>\n",
       "      <th>2018-12-03</th>\n",
       "      <td>1020.0</td>\n",
       "      <td>2020.0</td>\n",
       "      <td>3020.0</td>\n",
       "      <td>4020.0</td>\n",
       "      <td>1020.0</td>\n",
       "      <td>1020.0</td>\n",
       "    </tr>\n",
       "    <tr>\n",
       "      <th>2018-12-04</th>\n",
       "      <td>NaN</td>\n",
       "      <td>NaN</td>\n",
       "      <td>NaN</td>\n",
       "      <td>NaN</td>\n",
       "      <td>NaN</td>\n",
       "      <td>1030.0</td>\n",
       "    </tr>\n",
       "    <tr>\n",
       "      <th>2018-12-06</th>\n",
       "      <td>1050.0</td>\n",
       "      <td>2050.0</td>\n",
       "      <td>3050.0</td>\n",
       "      <td>4050.0</td>\n",
       "      <td>1050.0</td>\n",
       "      <td>1050.0</td>\n",
       "    </tr>\n",
       "    <tr>\n",
       "      <th>2018-12-07</th>\n",
       "      <td>1060.0</td>\n",
       "      <td>2060.0</td>\n",
       "      <td>3060.0</td>\n",
       "      <td>4060.0</td>\n",
       "      <td>1060.0</td>\n",
       "      <td>1060.0</td>\n",
       "    </tr>\n",
       "  </tbody>\n",
       "</table>\n",
       "</div>"
      ],
      "text/plain": [
       "               A전자     B화학     C금융     D엔터    E텔레콤    F소프트\n",
       "2018-12-01  1000.0  2000.0  3000.0  4000.0  1000.0  1000.0\n",
       "2018-12-02  1010.0  2010.0  3010.0  4010.0  1010.0  1010.0\n",
       "2018-12-03  1020.0  2020.0  3020.0  4020.0  1020.0  1020.0\n",
       "2018-12-04     NaN     NaN     NaN     NaN     NaN  1030.0\n",
       "2018-12-06  1050.0  2050.0  3050.0  4050.0  1050.0  1050.0\n",
       "2018-12-07  1060.0  2060.0  3060.0  4060.0  1060.0  1060.0"
      ]
     },
     "execution_count": 51,
     "metadata": {},
     "output_type": "execute_result"
    }
   ],
   "source": [
    "df2"
   ]
  },
  {
   "cell_type": "code",
   "execution_count": 52,
   "metadata": {},
   "outputs": [
    {
     "data": {
      "text/html": [
       "<div>\n",
       "<style scoped>\n",
       "    .dataframe tbody tr th:only-of-type {\n",
       "        vertical-align: middle;\n",
       "    }\n",
       "\n",
       "    .dataframe tbody tr th {\n",
       "        vertical-align: top;\n",
       "    }\n",
       "\n",
       "    .dataframe thead th {\n",
       "        text-align: right;\n",
       "    }\n",
       "</style>\n",
       "<table border=\"1\" class=\"dataframe\">\n",
       "  <thead>\n",
       "    <tr style=\"text-align: right;\">\n",
       "      <th></th>\n",
       "      <th>A전자</th>\n",
       "      <th>B화학</th>\n",
       "      <th>C금융</th>\n",
       "      <th>D엔터</th>\n",
       "      <th>E텔레콤</th>\n",
       "      <th>F소프트</th>\n",
       "    </tr>\n",
       "  </thead>\n",
       "  <tbody>\n",
       "    <tr>\n",
       "      <th>2018-12-01</th>\n",
       "      <td>1000.0</td>\n",
       "      <td>2000.0</td>\n",
       "      <td>3000.0</td>\n",
       "      <td>4000.0</td>\n",
       "      <td>1000.0</td>\n",
       "      <td>1000.0</td>\n",
       "    </tr>\n",
       "    <tr>\n",
       "      <th>2018-12-02</th>\n",
       "      <td>1010.0</td>\n",
       "      <td>2010.0</td>\n",
       "      <td>3010.0</td>\n",
       "      <td>4010.0</td>\n",
       "      <td>1010.0</td>\n",
       "      <td>1010.0</td>\n",
       "    </tr>\n",
       "    <tr>\n",
       "      <th>2018-12-03</th>\n",
       "      <td>1020.0</td>\n",
       "      <td>2020.0</td>\n",
       "      <td>3020.0</td>\n",
       "      <td>4020.0</td>\n",
       "      <td>1020.0</td>\n",
       "      <td>1020.0</td>\n",
       "    </tr>\n",
       "    <tr>\n",
       "      <th>2018-12-06</th>\n",
       "      <td>1050.0</td>\n",
       "      <td>2050.0</td>\n",
       "      <td>3050.0</td>\n",
       "      <td>4050.0</td>\n",
       "      <td>1050.0</td>\n",
       "      <td>1050.0</td>\n",
       "    </tr>\n",
       "    <tr>\n",
       "      <th>2018-12-07</th>\n",
       "      <td>1060.0</td>\n",
       "      <td>2060.0</td>\n",
       "      <td>3060.0</td>\n",
       "      <td>4060.0</td>\n",
       "      <td>1060.0</td>\n",
       "      <td>1060.0</td>\n",
       "    </tr>\n",
       "  </tbody>\n",
       "</table>\n",
       "</div>"
      ],
      "text/plain": [
       "               A전자     B화학     C금융     D엔터    E텔레콤    F소프트\n",
       "2018-12-01  1000.0  2000.0  3000.0  4000.0  1000.0  1000.0\n",
       "2018-12-02  1010.0  2010.0  3010.0  4010.0  1010.0  1010.0\n",
       "2018-12-03  1020.0  2020.0  3020.0  4020.0  1020.0  1020.0\n",
       "2018-12-06  1050.0  2050.0  3050.0  4050.0  1050.0  1050.0\n",
       "2018-12-07  1060.0  2060.0  3060.0  4060.0  1060.0  1060.0"
      ]
     },
     "execution_count": 52,
     "metadata": {},
     "output_type": "execute_result"
    }
   ],
   "source": [
    "df2.dropna()     # NaN 제거"
   ]
  },
  {
   "cell_type": "code",
   "execution_count": 53,
   "metadata": {},
   "outputs": [
    {
     "data": {
      "text/html": [
       "<div>\n",
       "<style scoped>\n",
       "    .dataframe tbody tr th:only-of-type {\n",
       "        vertical-align: middle;\n",
       "    }\n",
       "\n",
       "    .dataframe tbody tr th {\n",
       "        vertical-align: top;\n",
       "    }\n",
       "\n",
       "    .dataframe thead th {\n",
       "        text-align: right;\n",
       "    }\n",
       "</style>\n",
       "<table border=\"1\" class=\"dataframe\">\n",
       "  <thead>\n",
       "    <tr style=\"text-align: right;\">\n",
       "      <th></th>\n",
       "      <th>A전자</th>\n",
       "      <th>B화학</th>\n",
       "      <th>C금융</th>\n",
       "      <th>D엔터</th>\n",
       "      <th>E텔레콤</th>\n",
       "      <th>F소프트</th>\n",
       "    </tr>\n",
       "  </thead>\n",
       "  <tbody>\n",
       "    <tr>\n",
       "      <th>2018-12-01</th>\n",
       "      <td>1000.0</td>\n",
       "      <td>2000.0</td>\n",
       "      <td>3000.0</td>\n",
       "      <td>4000.0</td>\n",
       "      <td>1000.0</td>\n",
       "      <td>1000.0</td>\n",
       "    </tr>\n",
       "    <tr>\n",
       "      <th>2018-12-02</th>\n",
       "      <td>1010.0</td>\n",
       "      <td>2010.0</td>\n",
       "      <td>3010.0</td>\n",
       "      <td>4010.0</td>\n",
       "      <td>1010.0</td>\n",
       "      <td>1010.0</td>\n",
       "    </tr>\n",
       "    <tr>\n",
       "      <th>2018-12-03</th>\n",
       "      <td>1020.0</td>\n",
       "      <td>2020.0</td>\n",
       "      <td>3020.0</td>\n",
       "      <td>4020.0</td>\n",
       "      <td>1020.0</td>\n",
       "      <td>1020.0</td>\n",
       "    </tr>\n",
       "    <tr>\n",
       "      <th>2018-12-04</th>\n",
       "      <td>0.0</td>\n",
       "      <td>0.0</td>\n",
       "      <td>0.0</td>\n",
       "      <td>0.0</td>\n",
       "      <td>0.0</td>\n",
       "      <td>1030.0</td>\n",
       "    </tr>\n",
       "    <tr>\n",
       "      <th>2018-12-06</th>\n",
       "      <td>1050.0</td>\n",
       "      <td>2050.0</td>\n",
       "      <td>3050.0</td>\n",
       "      <td>4050.0</td>\n",
       "      <td>1050.0</td>\n",
       "      <td>1050.0</td>\n",
       "    </tr>\n",
       "    <tr>\n",
       "      <th>2018-12-07</th>\n",
       "      <td>1060.0</td>\n",
       "      <td>2060.0</td>\n",
       "      <td>3060.0</td>\n",
       "      <td>4060.0</td>\n",
       "      <td>1060.0</td>\n",
       "      <td>1060.0</td>\n",
       "    </tr>\n",
       "  </tbody>\n",
       "</table>\n",
       "</div>"
      ],
      "text/plain": [
       "               A전자     B화학     C금융     D엔터    E텔레콤    F소프트\n",
       "2018-12-01  1000.0  2000.0  3000.0  4000.0  1000.0  1000.0\n",
       "2018-12-02  1010.0  2010.0  3010.0  4010.0  1010.0  1010.0\n",
       "2018-12-03  1020.0  2020.0  3020.0  4020.0  1020.0  1020.0\n",
       "2018-12-04     0.0     0.0     0.0     0.0     0.0  1030.0\n",
       "2018-12-06  1050.0  2050.0  3050.0  4050.0  1050.0  1050.0\n",
       "2018-12-07  1060.0  2060.0  3060.0  4060.0  1060.0  1060.0"
      ]
     },
     "execution_count": 53,
     "metadata": {},
     "output_type": "execute_result"
    }
   ],
   "source": [
    "df2.fillna(0)     # NaN을 0으로 바꿈"
   ]
  },
  {
   "cell_type": "code",
   "execution_count": 54,
   "metadata": {},
   "outputs": [
    {
     "data": {
      "text/html": [
       "<div>\n",
       "<style scoped>\n",
       "    .dataframe tbody tr th:only-of-type {\n",
       "        vertical-align: middle;\n",
       "    }\n",
       "\n",
       "    .dataframe tbody tr th {\n",
       "        vertical-align: top;\n",
       "    }\n",
       "\n",
       "    .dataframe thead th {\n",
       "        text-align: right;\n",
       "    }\n",
       "</style>\n",
       "<table border=\"1\" class=\"dataframe\">\n",
       "  <thead>\n",
       "    <tr style=\"text-align: right;\">\n",
       "      <th></th>\n",
       "      <th>A전자</th>\n",
       "      <th>B화학</th>\n",
       "      <th>C금융</th>\n",
       "      <th>D엔터</th>\n",
       "      <th>E텔레콤</th>\n",
       "      <th>F소프트</th>\n",
       "    </tr>\n",
       "  </thead>\n",
       "  <tbody>\n",
       "    <tr>\n",
       "      <th>2018-12-01</th>\n",
       "      <td>1000.0</td>\n",
       "      <td>2000.0</td>\n",
       "      <td>3000.0</td>\n",
       "      <td>4000.0</td>\n",
       "      <td>1000.0</td>\n",
       "      <td>1000.0</td>\n",
       "    </tr>\n",
       "    <tr>\n",
       "      <th>2018-12-02</th>\n",
       "      <td>1010.0</td>\n",
       "      <td>2010.0</td>\n",
       "      <td>3010.0</td>\n",
       "      <td>4010.0</td>\n",
       "      <td>1010.0</td>\n",
       "      <td>1010.0</td>\n",
       "    </tr>\n",
       "    <tr>\n",
       "      <th>2018-12-03</th>\n",
       "      <td>1020.0</td>\n",
       "      <td>2020.0</td>\n",
       "      <td>3020.0</td>\n",
       "      <td>4020.0</td>\n",
       "      <td>1020.0</td>\n",
       "      <td>1020.0</td>\n",
       "    </tr>\n",
       "    <tr>\n",
       "      <th>2018-12-04</th>\n",
       "      <td>1020.0</td>\n",
       "      <td>2020.0</td>\n",
       "      <td>3020.0</td>\n",
       "      <td>4020.0</td>\n",
       "      <td>1020.0</td>\n",
       "      <td>1030.0</td>\n",
       "    </tr>\n",
       "    <tr>\n",
       "      <th>2018-12-06</th>\n",
       "      <td>1050.0</td>\n",
       "      <td>2050.0</td>\n",
       "      <td>3050.0</td>\n",
       "      <td>4050.0</td>\n",
       "      <td>1050.0</td>\n",
       "      <td>1050.0</td>\n",
       "    </tr>\n",
       "    <tr>\n",
       "      <th>2018-12-07</th>\n",
       "      <td>1060.0</td>\n",
       "      <td>2060.0</td>\n",
       "      <td>3060.0</td>\n",
       "      <td>4060.0</td>\n",
       "      <td>1060.0</td>\n",
       "      <td>1060.0</td>\n",
       "    </tr>\n",
       "  </tbody>\n",
       "</table>\n",
       "</div>"
      ],
      "text/plain": [
       "               A전자     B화학     C금융     D엔터    E텔레콤    F소프트\n",
       "2018-12-01  1000.0  2000.0  3000.0  4000.0  1000.0  1000.0\n",
       "2018-12-02  1010.0  2010.0  3010.0  4010.0  1010.0  1010.0\n",
       "2018-12-03  1020.0  2020.0  3020.0  4020.0  1020.0  1020.0\n",
       "2018-12-04  1020.0  2020.0  3020.0  4020.0  1020.0  1030.0\n",
       "2018-12-06  1050.0  2050.0  3050.0  4050.0  1050.0  1050.0\n",
       "2018-12-07  1060.0  2060.0  3060.0  4060.0  1060.0  1060.0"
      ]
     },
     "execution_count": 54,
     "metadata": {},
     "output_type": "execute_result"
    }
   ],
   "source": [
    "df2.fillna(method='ffill')     # NaN을 앞의 값으로 채움"
   ]
  },
  {
   "cell_type": "code",
   "execution_count": 55,
   "metadata": {},
   "outputs": [
    {
     "data": {
      "text/html": [
       "<div>\n",
       "<style scoped>\n",
       "    .dataframe tbody tr th:only-of-type {\n",
       "        vertical-align: middle;\n",
       "    }\n",
       "\n",
       "    .dataframe tbody tr th {\n",
       "        vertical-align: top;\n",
       "    }\n",
       "\n",
       "    .dataframe thead th {\n",
       "        text-align: right;\n",
       "    }\n",
       "</style>\n",
       "<table border=\"1\" class=\"dataframe\">\n",
       "  <thead>\n",
       "    <tr style=\"text-align: right;\">\n",
       "      <th></th>\n",
       "      <th>A전자</th>\n",
       "      <th>B화학</th>\n",
       "      <th>C금융</th>\n",
       "      <th>D엔터</th>\n",
       "      <th>E텔레콤</th>\n",
       "      <th>F소프트</th>\n",
       "    </tr>\n",
       "  </thead>\n",
       "  <tbody>\n",
       "    <tr>\n",
       "      <th>2018-12-01</th>\n",
       "      <td>1000.0</td>\n",
       "      <td>2000.0</td>\n",
       "      <td>3000.0</td>\n",
       "      <td>4000.0</td>\n",
       "      <td>1000.0</td>\n",
       "      <td>1000.0</td>\n",
       "    </tr>\n",
       "    <tr>\n",
       "      <th>2018-12-02</th>\n",
       "      <td>1010.0</td>\n",
       "      <td>2010.0</td>\n",
       "      <td>3010.0</td>\n",
       "      <td>4010.0</td>\n",
       "      <td>1010.0</td>\n",
       "      <td>1010.0</td>\n",
       "    </tr>\n",
       "    <tr>\n",
       "      <th>2018-12-03</th>\n",
       "      <td>1020.0</td>\n",
       "      <td>2020.0</td>\n",
       "      <td>3020.0</td>\n",
       "      <td>4020.0</td>\n",
       "      <td>1020.0</td>\n",
       "      <td>1020.0</td>\n",
       "    </tr>\n",
       "    <tr>\n",
       "      <th>2018-12-04</th>\n",
       "      <td>1050.0</td>\n",
       "      <td>2050.0</td>\n",
       "      <td>3050.0</td>\n",
       "      <td>4050.0</td>\n",
       "      <td>1050.0</td>\n",
       "      <td>1030.0</td>\n",
       "    </tr>\n",
       "    <tr>\n",
       "      <th>2018-12-06</th>\n",
       "      <td>1050.0</td>\n",
       "      <td>2050.0</td>\n",
       "      <td>3050.0</td>\n",
       "      <td>4050.0</td>\n",
       "      <td>1050.0</td>\n",
       "      <td>1050.0</td>\n",
       "    </tr>\n",
       "    <tr>\n",
       "      <th>2018-12-07</th>\n",
       "      <td>1060.0</td>\n",
       "      <td>2060.0</td>\n",
       "      <td>3060.0</td>\n",
       "      <td>4060.0</td>\n",
       "      <td>1060.0</td>\n",
       "      <td>1060.0</td>\n",
       "    </tr>\n",
       "  </tbody>\n",
       "</table>\n",
       "</div>"
      ],
      "text/plain": [
       "               A전자     B화학     C금융     D엔터    E텔레콤    F소프트\n",
       "2018-12-01  1000.0  2000.0  3000.0  4000.0  1000.0  1000.0\n",
       "2018-12-02  1010.0  2010.0  3010.0  4010.0  1010.0  1010.0\n",
       "2018-12-03  1020.0  2020.0  3020.0  4020.0  1020.0  1020.0\n",
       "2018-12-04  1050.0  2050.0  3050.0  4050.0  1050.0  1030.0\n",
       "2018-12-06  1050.0  2050.0  3050.0  4050.0  1050.0  1050.0\n",
       "2018-12-07  1060.0  2060.0  3060.0  4060.0  1060.0  1060.0"
      ]
     },
     "execution_count": 55,
     "metadata": {},
     "output_type": "execute_result"
    }
   ],
   "source": [
    "df2.fillna(method='bfill')     # NaN을 뒤의 값으로 채움"
   ]
  },
  {
   "cell_type": "code",
   "execution_count": null,
   "metadata": {},
   "outputs": [],
   "source": []
  }
 ],
 "metadata": {
  "kernelspec": {
   "display_name": "Python 3",
   "language": "python",
   "name": "python3"
  },
  "language_info": {
   "codemirror_mode": {
    "name": "ipython",
    "version": 3
   },
   "file_extension": ".py",
   "mimetype": "text/x-python",
   "name": "python",
   "nbconvert_exporter": "python",
   "pygments_lexer": "ipython3",
   "version": "3.7.0"
  }
 },
 "nbformat": 4,
 "nbformat_minor": 2
}
