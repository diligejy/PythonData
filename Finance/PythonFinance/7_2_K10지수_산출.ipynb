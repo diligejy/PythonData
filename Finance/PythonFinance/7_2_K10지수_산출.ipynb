{
  "nbformat": 4,
  "nbformat_minor": 0,
  "metadata": {
    "colab": {
      "name": "7.2 K10지수 산출.ipynb",
      "version": "0.3.2",
      "provenance": [],
      "collapsed_sections": []
    },
    "kernelspec": {
      "name": "python3",
      "display_name": "Python 3"
    },
    "accelerator": "GPU"
  },
  "cells": [
    {
      "cell_type": "code",
      "metadata": {
        "id": "ZaDwObLGYL-b",
        "colab_type": "code",
        "colab": {}
      },
      "source": [
        "import re\n",
        "import bs4\n",
        "from urllib.request import urlopen"
      ],
      "execution_count": 0,
      "outputs": []
    },
    {
      "cell_type": "code",
      "metadata": {
        "id": "iqRL89RkZIiW",
        "colab_type": "code",
        "colab": {
          "base_uri": "https://localhost:8080/",
          "height": 34
        },
        "outputId": "5b8f51e2-3205-475e-b77b-c32c69091817"
      },
      "source": [
        "url_float = 'http://companyinfo.stock.naver.com/v1/company/c1010001.aspx?cmp_cd=005930'\n",
        "# Floating ratio from Naver\n",
        "url_float"
      ],
      "execution_count": 2,
      "outputs": [
        {
          "output_type": "execute_result",
          "data": {
            "text/plain": [
              "'http://companyinfo.stock.naver.com/v1/company/c1010001.aspx?cmp_cd=005930'"
            ]
          },
          "metadata": {
            "tags": []
          },
          "execution_count": 2
        }
      ]
    },
    {
      "cell_type": "code",
      "metadata": {
        "id": "PgKQMlmnaafe",
        "colab_type": "code",
        "colab": {}
      },
      "source": [
        "source = urlopen(url_float).read()\n",
        "soup = bs4.BeautifulSoup(source, 'lxml')"
      ],
      "execution_count": 0,
      "outputs": []
    },
    {
      "cell_type": "code",
      "metadata": {
        "id": "u_v8isuqag9J",
        "colab_type": "code",
        "colab": {
          "base_uri": "https://localhost:8080/",
          "height": 34
        },
        "outputId": "0028a566-d599-48dd-ddb0-fef7e0378360"
      },
      "source": [
        "soup.find(id = 'cTB11').find_all('tr')[6].td.text"
      ],
      "execution_count": 4,
      "outputs": [
        {
          "output_type": "execute_result",
          "data": {
            "text/plain": [
              "'\\r\\n\\t\\t\\t\\t\\t\\t\\t\\t\\t\\t\\t\\t\\t\\t\\t5,969,782,550주 / 74.48%\\r\\n\\t\\t\\t\\t\\t\\t\\t\\t\\t\\t\\t\\t\\t\\t'"
            ]
          },
          "metadata": {
            "tags": []
          },
          "execution_count": 4
        }
      ]
    },
    {
      "cell_type": "code",
      "metadata": {
        "id": "v6T9zqhHazRf",
        "colab_type": "code",
        "colab": {
          "base_uri": "https://localhost:8080/",
          "height": 34
        },
        "outputId": "506e9c34-4e33-4f88-b682-c85c47ecbaa4"
      },
      "source": [
        "tmp = soup.find(id = 'cTB11').find_all('tr')[6].td.text\n",
        "tmp = tmp.replace('\\r', '')\n",
        "tmp = tmp.replace('\\n', '')\n",
        "tmp = tmp.replace('\\t', '')\n",
        "tmp"
      ],
      "execution_count": 5,
      "outputs": [
        {
          "output_type": "execute_result",
          "data": {
            "text/plain": [
              "'5,969,782,550주 / 74.48%'"
            ]
          },
          "metadata": {
            "tags": []
          },
          "execution_count": 5
        }
      ]
    },
    {
      "cell_type": "code",
      "metadata": {
        "id": "7MCQsaolbZV4",
        "colab_type": "code",
        "colab": {
          "base_uri": "https://localhost:8080/",
          "height": 34
        },
        "outputId": "f6e3eba8-33fb-47ba-b246-cc7add517bfd"
      },
      "source": [
        "tmp = re.split('/', tmp)\n",
        "tmp"
      ],
      "execution_count": 6,
      "outputs": [
        {
          "output_type": "execute_result",
          "data": {
            "text/plain": [
              "['5,969,782,550주 ', ' 74.48%']"
            ]
          },
          "metadata": {
            "tags": []
          },
          "execution_count": 6
        }
      ]
    },
    {
      "cell_type": "code",
      "metadata": {
        "id": "kYU9sVZAbj13",
        "colab_type": "code",
        "colab": {
          "base_uri": "https://localhost:8080/",
          "height": 34
        },
        "outputId": "16f90c20-d993-4801-d897-e42778f0f6d9"
      },
      "source": [
        "tmp[0]"
      ],
      "execution_count": 7,
      "outputs": [
        {
          "output_type": "execute_result",
          "data": {
            "text/plain": [
              "'5,969,782,550주 '"
            ]
          },
          "metadata": {
            "tags": []
          },
          "execution_count": 7
        }
      ]
    },
    {
      "cell_type": "code",
      "metadata": {
        "id": "icGDkk0vblM9",
        "colab_type": "code",
        "colab": {
          "base_uri": "https://localhost:8080/",
          "height": 34
        },
        "outputId": "9ad195f7-0f6e-42b7-8714-9d33acebafa8"
      },
      "source": [
        "tmp[1]"
      ],
      "execution_count": 8,
      "outputs": [
        {
          "output_type": "execute_result",
          "data": {
            "text/plain": [
              "' 74.48%'"
            ]
          },
          "metadata": {
            "tags": []
          },
          "execution_count": 8
        }
      ]
    },
    {
      "cell_type": "code",
      "metadata": {
        "id": "lzxLtXpObttt",
        "colab_type": "code",
        "colab": {
          "base_uri": "https://localhost:8080/",
          "height": 34
        },
        "outputId": "48505bee-3e5d-4bba-dec9-51581b54216b"
      },
      "source": [
        "outstanding = tmp[0].replace(',', '')\n",
        "outstanding = outstanding.replace('주', '')\n",
        "outstanding = outstanding.replace(' ', '')\n",
        "outstanding"
      ],
      "execution_count": 9,
      "outputs": [
        {
          "output_type": "execute_result",
          "data": {
            "text/plain": [
              "'5969782550'"
            ]
          },
          "metadata": {
            "tags": []
          },
          "execution_count": 9
        }
      ]
    },
    {
      "cell_type": "code",
      "metadata": {
        "id": "9ZpmlYCwb2E2",
        "colab_type": "code",
        "colab": {
          "base_uri": "https://localhost:8080/",
          "height": 34
        },
        "outputId": "fc3b63a0-f2ca-401b-8f5d-64273d9dfab3"
      },
      "source": [
        "floating = tmp[1].replace(' ', '')\n",
        "floating = floating.replace('%', '')\n",
        "floating"
      ],
      "execution_count": 10,
      "outputs": [
        {
          "output_type": "execute_result",
          "data": {
            "text/plain": [
              "'74.48'"
            ]
          },
          "metadata": {
            "tags": []
          },
          "execution_count": 10
        }
      ]
    },
    {
      "cell_type": "code",
      "metadata": {
        "id": "b28r27ySb8u0",
        "colab_type": "code",
        "colab": {
          "base_uri": "https://localhost:8080/",
          "height": 34
        },
        "outputId": "63035488-1a46-4cba-f59b-a0f427bbd3e3"
      },
      "source": [
        "outstanding = int(outstanding)\n",
        "outstanding"
      ],
      "execution_count": 11,
      "outputs": [
        {
          "output_type": "execute_result",
          "data": {
            "text/plain": [
              "5969782550"
            ]
          },
          "metadata": {
            "tags": []
          },
          "execution_count": 11
        }
      ]
    },
    {
      "cell_type": "code",
      "metadata": {
        "id": "76-LDJ8pcAbi",
        "colab_type": "code",
        "colab": {}
      },
      "source": [
        "# 구성종목 기본정보 \n",
        "def stock_info(stock_cd):\n",
        "  url_float = 'http://companyinfo.stock.naver.com/v1/company/c1010001.aspx?cmp_cd=' + stock_cd\n",
        "  source = urlopen(url_float).read()\n",
        "  soup = bs4.BeautifulSoup(source, 'lxml')\n",
        "  \n",
        "  tmp = soup.find(id = 'cTB11').find_all('tr')[6].td.text\n",
        "  tmp = tmp.replace('\\r', '')\n",
        "  tmp = tmp.replace('\\n', '')\n",
        "  tmp = tmp.replace('\\t', '')\n",
        "  \n",
        "  tmp = re.split('/', tmp)\n",
        "  \n",
        "  outstanding = tmp[0].replace(',', '')\n",
        "  outstanding = outstanding.replace('주', '')\n",
        "  outstanding = outstanding.replace(' ', '')\n",
        "  outstanding = int(outstanding)\n",
        "  \n",
        "  floating = tmp[1].replace(' ', '')\n",
        "  floating = floating.replace('%', '')\n",
        "  floating = float(floating)\n",
        "  \n",
        "  name = soup.find(id = 'pArea').find('div').find('div').find('tr').find('td').find('span').text\n",
        "  \n",
        "  k10_outstanding[stock_cd] = outstanding \n",
        "  k10_floating[stock_cd] = floating\n",
        "  k10_name[stock_cd] = name"
      ],
      "execution_count": 0,
      "outputs": []
    },
    {
      "cell_type": "code",
      "metadata": {
        "id": "iHtNgPa6dCwJ",
        "colab_type": "code",
        "colab": {}
      },
      "source": [
        "\"\"\"\n",
        "한국거래소 시가총액 상위 10종목 (2019년 9월 2일 기준)\n",
        "005930 삼성전자\n",
        "000660 SK하이닉스\n",
        "005935 삼성전자우\n",
        "005380 현대차\n",
        "035420 NAVER\n",
        "012330 현대모비스\n",
        "051910 LG화학\n",
        "068270 셀트리온\n",
        "055550 신한지주\n",
        "017670 SK텔레콤\n",
        "\"\"\"\n",
        "\n",
        "k10_component = ['005930', '000660', '005935', '005380', '035420', '012330', '051910', '068270', '055550', '017670']"
      ],
      "execution_count": 0,
      "outputs": []
    },
    {
      "cell_type": "code",
      "metadata": {
        "id": "tHAYong0eN31",
        "colab_type": "code",
        "colab": {}
      },
      "source": [
        "k10_outstanding = dict() # 딕셔너리 초기화\n",
        "k10_floating = dict()\n",
        "k10_name = dict()\n",
        "for stock_cd in k10_component: # 종목을 하나씩 순환하면서\n",
        "  stock_info(stock_cd)"
      ],
      "execution_count": 0,
      "outputs": []
    },
    {
      "cell_type": "code",
      "metadata": {
        "id": "ivrCBUk7eamY",
        "colab_type": "code",
        "colab": {
          "base_uri": "https://localhost:8080/",
          "height": 193
        },
        "outputId": "c5b69663-4a31-4bd8-9523-cd7a33a3fb0e"
      },
      "source": [
        "k10_outstanding"
      ],
      "execution_count": 15,
      "outputs": [
        {
          "output_type": "execute_result",
          "data": {
            "text/plain": [
              "{'000660': 728002365,\n",
              " '005380': 213668187,\n",
              " '005930': 5969782550,\n",
              " '005935': 5969782550,\n",
              " '012330': 95306694,\n",
              " '017670': 80745711,\n",
              " '035420': 164813395,\n",
              " '051910': 70592343,\n",
              " '055550': 474199587,\n",
              " '068270': 128336328}"
            ]
          },
          "metadata": {
            "tags": []
          },
          "execution_count": 15
        }
      ]
    },
    {
      "cell_type": "code",
      "metadata": {
        "id": "RVZ7M2Foegy2",
        "colab_type": "code",
        "colab": {
          "base_uri": "https://localhost:8080/",
          "height": 193
        },
        "outputId": "ae6e8250-0f1f-4ba4-ef76-6c21452af991"
      },
      "source": [
        "k10_floating # 유동 비율"
      ],
      "execution_count": 16,
      "outputs": [
        {
          "output_type": "execute_result",
          "data": {
            "text/plain": [
              "{'000660': 73.53,\n",
              " '005380': 65.62,\n",
              " '005930': 74.48,\n",
              " '005935': 74.48,\n",
              " '012330': 66.41,\n",
              " '017670': 52.57,\n",
              " '035420': 77.72,\n",
              " '051910': 64.28,\n",
              " '055550': 80.02,\n",
              " '068270': 75.83}"
            ]
          },
          "metadata": {
            "tags": []
          },
          "execution_count": 16
        }
      ]
    },
    {
      "cell_type": "code",
      "metadata": {
        "id": "kWke3vg7eiGQ",
        "colab_type": "code",
        "colab": {}
      },
      "source": [
        "import datetime as dt\n",
        "import pandas as pd"
      ],
      "execution_count": 0,
      "outputs": []
    },
    {
      "cell_type": "code",
      "metadata": {
        "id": "7K7BfXpTfaGd",
        "colab_type": "code",
        "colab": {}
      },
      "source": [
        "def date_format(d):\n",
        "    d = str(d).replace('-', '.')\n",
        "    \n",
        "    yyyy = int(d.split('.')[0]) \n",
        "    mm = int(d.split('.')[1])\n",
        "    dd = int(d.split('.')[2])\n",
        "\n",
        "    this_date= dt.date(yyyy, mm, dd)\n",
        "    return this_date"
      ],
      "execution_count": 0,
      "outputs": []
    },
    {
      "cell_type": "code",
      "metadata": {
        "id": "4bz_A93Zflbm",
        "colab_type": "code",
        "colab": {}
      },
      "source": [
        "def historical_stock_naver(stock_cd, start_date = '', end_date = '', page_n = 1, last_page = 0):\n",
        "  \n",
        "  if start_date: # start_date가 있으면\n",
        "    start_date = date_format(start_date) # date 포맷으로 변환\n",
        "  else:  # 없으면\n",
        "    start_date = dt.date.today() # 오늘 날짜를 지정\n",
        "  if end_date: # end_date가 있으면 \n",
        "    end_date = date_format(end_date)\n",
        "  else:\n",
        "    end_date = dt.date.today()\n",
        "  \n",
        "  naver_stock = 'https://finance.naver.com/item/sise_day.nhn?code=' + stock_cd + '&page=' + str(page_n)\n",
        "  \n",
        "  source = urlopen(naver_stock).read()\n",
        "  source = bs4.BeautifulSoup(source, 'lxml')\n",
        "  \n",
        "  dates = source.find_all('span', class_ = 'tah p10 gray03') # 날짜 수집\n",
        "  prices = source.find_all('td', class_ = 'num') # 종가 수집\n",
        "  \n",
        "  for n in range(len(dates)):\n",
        "    if len(dates) > 0 :\n",
        "      \n",
        "      # 날짜 처리\n",
        "      this_date = dates[n].text\n",
        "      this_date = date_format(this_date)\n",
        "      \n",
        "      if this_date <= end_date and this_date >= start_date:\n",
        "        # start_date와 end_date 사이에서 데이터 저장\n",
        "        # 종가 처리\n",
        "        this_close = prices[n*6].text\n",
        "        this_close = this_close.replace(',', '')\n",
        "        this_close = float(this_close)\n",
        "        \n",
        "        # 딕셔너리에 저장\n",
        "        historical_prices[this_date] = this_close\n",
        "        \n",
        "      elif this_date < start_date:\n",
        "        # start_date 이전이면 함수 종료\n",
        "        return historical_prices\n",
        "  # 페이지 내비게이션\n",
        "  if last_page == 0:\n",
        "    last_page = source.find_all('table')[1].find('td', class_ = 'pgRR').find('a')['href']\n",
        "    last_page = last_page.split('&')[1]\n",
        "    last_page = last_page.split('=')[1]\n",
        "    last_page = float(last_page)\n",
        "    \n",
        "  # 다음 페이지 호출\n",
        "  if page_n < last_page:\n",
        "    page_n = page_n + 1\n",
        "    historical_stock_naver(stock_cd, start_date, end_date, page_n, last_page)\n",
        "    \n",
        "  return historical_prices"
      ],
      "execution_count": 0,
      "outputs": []
    },
    {
      "cell_type": "code",
      "metadata": {
        "id": "N-_azKbZiI9l",
        "colab_type": "code",
        "colab": {}
      },
      "source": [
        "k10_historical_prices = dict()\n",
        "\n",
        "for stock_cd in k10_component:\n",
        "  \n",
        "  historical_prices = dict()\n",
        "  start_date = '2017-1-1'\n",
        "  end_date = '2017-12-31'\n",
        "  historical_stock_naver(stock_cd, start_date, end_date)\n",
        "  \n",
        "  k10_historical_prices[stock_cd] = historical_prices"
      ],
      "execution_count": 0,
      "outputs": []
    },
    {
      "cell_type": "code",
      "metadata": {
        "id": "LB1KBs-Dibpr",
        "colab_type": "code",
        "colab": {}
      },
      "source": [
        "k10_historical_price = pd.DataFrame(k10_historical_prices)"
      ],
      "execution_count": 0,
      "outputs": []
    },
    {
      "cell_type": "code",
      "metadata": {
        "id": "e-xJCSHEjQEQ",
        "colab_type": "code",
        "colab": {}
      },
      "source": [
        "k10_historical_price = k10_historical_price.fillna(method = 'ffill') # ffill로 구멍을 채우고\n",
        "if k10_historical_price.isnull().values.any() # 그래도 구멍이 남아 있으면\n",
        "  k10_historical_price = k10_historical_price.fillna(method = 'bfill') # bfill로 채우기\n",
        "k10_historical_price.head(3)"
      ],
      "execution_count": 0,
      "outputs": []
    },
    {
      "cell_type": "code",
      "metadata": {
        "id": "57vzlk5Hjjst",
        "colab_type": "code",
        "colab": {}
      },
      "source": [
        "k10_historical_price['005930'] = k10_historical_price['005930'] / 50 # 삼성전자 액면분할에 따른 수정주가 계산\n",
        "k10_historical_price.head(3)"
      ],
      "execution_count": 0,
      "outputs": []
    },
    {
      "cell_type": "code",
      "metadata": {
        "id": "LK51ZTH1j7yS",
        "colab_type": "code",
        "colab": {}
      },
      "source": [
        "tmp = {'Outstanding' : k10_outstanding, 'Floating': k10_floating, 'Price' : k10_historical_price.iloc[0], 'Name' : k10_name}\n",
        "k10_info = pd.DataFrame(tmp)"
      ],
      "execution_count": 0,
      "outputs": []
    },
    {
      "cell_type": "code",
      "metadata": {
        "id": "4ns8Z4itkRNl",
        "colab_type": "code",
        "colab": {}
      },
      "source": [
        "k10_info['f Market Cap'] = k10_info['Outstanding'] * k10_info['Floating'] * k10_info['Price'] * 0.01\n",
        "k10_info['Market Cap'] = k10_info['Outstanding'] * k10_info['Price'] * 0.01\n",
        "k10_info.head(3)"
      ],
      "execution_count": 0,
      "outputs": []
    },
    {
      "cell_type": "code",
      "metadata": {
        "id": "zLvLs3yqk6hs",
        "colab_type": "code",
        "colab": {}
      },
      "source": [
        "k10_historical_mc = k10_historical_price * k10_info['Outstanding'] * k10_info['Floating'] * 0.01\n",
        "k10_historical_mc.head(3)"
      ],
      "execution_count": 0,
      "outputs": []
    },
    {
      "cell_type": "code",
      "metadata": {
        "id": "BsMSbknZlSf4",
        "colab_type": "code",
        "colab": {}
      },
      "source": [
        "\"\"\"\n",
        "<데이터프레임>.sum()은 각 열의 합(세로 방향)\n",
        "<데이터프레임>.sum(axis = 1)은 각 행의 합(가로 방향)\n",
        "\"\"\"\n",
        "k10_historical_mc.sum(axis = 1) # 일자별 시가 총액 합\n"
      ],
      "execution_count": 0,
      "outputs": []
    },
    {
      "cell_type": "code",
      "metadata": {
        "id": "mdguR2CcmH1D",
        "colab_type": "code",
        "colab": {}
      },
      "source": [
        "k10 = pd.DataFrame() # k10 데이터프레임 초기화\n",
        "k10['K10 Market Cap'] = k10_historical_mc.sum(axis = 1)\n",
        "# 일자별 시가총액 저장\n",
        "k10.head(3)"
      ],
      "execution_count": 0,
      "outputs": []
    },
    {
      "cell_type": "code",
      "metadata": {
        "id": "pL-DVH4YmRsu",
        "colab_type": "code",
        "colab": {}
      },
      "source": [
        "k10['K10'] = k10['K10 Market Cap'] / k10['K10 Market Cap'][0] * 100\n",
        "k10.head(3)"
      ],
      "execution_count": 0,
      "outputs": []
    },
    {
      "cell_type": "code",
      "metadata": {
        "id": "JOUf7-E1maBn",
        "colab_type": "code",
        "colab": {}
      },
      "source": [
        "import matplotlib.pyplot as plt\n",
        "%matplotlib inline"
      ],
      "execution_count": 0,
      "outputs": []
    },
    {
      "cell_type": "code",
      "metadata": {
        "id": "ZlljrlPqmd5n",
        "colab_type": "code",
        "colab": {}
      },
      "source": [
        "plt.figure(figsize = (10, 5))\n",
        "plt.plot(k10['K10'])\n",
        "plt.legend(loc = 0)\n",
        "plt.grid(True, color = '0.7', linestyle= ':', linewidth = 1)"
      ],
      "execution_count": 0,
      "outputs": []
    },
    {
      "cell_type": "code",
      "metadata": {
        "id": "yao1-zkEmmwY",
        "colab_type": "code",
        "colab": {}
      },
      "source": [
        "def historical_index_naver(index_cd, page_n=1, last_page=0):   \n",
        "        \n",
        "    naver_index = 'http://finance.naver.com/sise/sise_index_day.nhn?code=' + index_cd + '&page=' + str(page_n)\n",
        "    \n",
        "    source = urlopen(naver_index).read()   # 지정한 페이지에서 코드 읽기\n",
        "    source = bs4.BeautifulSoup(source, 'lxml')   # 뷰티풀 스프로 태그별로 코드 분류\n",
        "    \n",
        "    dates = source.find_all('td', class_='date')   # <td class=\"date\">태그에서 날짜 수집   \n",
        "    prices = source.find_all('td', class_='number_1')   # <td class=\"number_1\">태그에서 지수 수집\n",
        "    \n",
        "    for n in range(len(dates)):\n",
        "    \n",
        "        if dates[n].text.split('.')[0].isdigit():\n",
        "            \n",
        "            # 날짜 처리\n",
        "            this_date = dates[n].text\n",
        "            this_date= date_format(this_date)\n",
        "            \n",
        "            # 종가 처리\n",
        "            this_close = prices[n*4].text   # prices 중 종가지수인 0,4,8,...번째 데이터 추출\n",
        "            this_close = this_close.replace(',', '')\n",
        "            this_close = float(this_close)\n",
        "\n",
        "            # 딕셔너리에 저장\n",
        "            historical_prices[this_date] = this_close\n",
        "            \n",
        "    # 페이지 네비게이션\n",
        "    if last_page == 0:\n",
        "        last_page = source.find('td', class_='pgRR').find('a')['href']\n",
        "        # 마지막페이지 주소 추출\n",
        "        last_page = last_page.split('&')[1]   # & 뒤의 page=506 부분 추출\n",
        "        last_page = last_page.split('=')[1]   # = 뒤의 페이지번호만 추출\n",
        "        last_page = int(last_page)   # 숫자형 변수로 변환\n",
        "        \n",
        "    # 다음 페이지 호출\n",
        "    if page_n < last_page:   \n",
        "        page_n = page_n + 1   \n",
        "        historical_index_naver(index_cd, start_date, end_date, page_n, last_page)   \n",
        "        \n",
        "    return historical_prices  "
      ],
      "execution_count": 0,
      "outputs": []
    },
    {
      "cell_type": "code",
      "metadata": {
        "id": "BdXEywsTm2zm",
        "colab_type": "code",
        "colab": {}
      },
      "source": [
        "historical_prices = dict() # 딕셔너리 초기화\n",
        "kospi200 = historical_index_naver('KPI200','2017-1-1', '2017-12-31')\n",
        "kospi200"
      ],
      "execution_count": 0,
      "outputs": []
    },
    {
      "cell_type": "code",
      "metadata": {
        "id": "SEbLmKWFnEQJ",
        "colab_type": "code",
        "colab": {}
      },
      "source": [
        "k200 = pd.DataFrame({'K200' : kospi200})\n",
        "k200.head(3)"
      ],
      "execution_count": 0,
      "outputs": []
    },
    {
      "cell_type": "code",
      "metadata": {
        "id": "gllq0LjHnJSK",
        "colab_type": "code",
        "colab": {}
      },
      "source": [
        "plt.figure(figsize = (10, 5))\n",
        "plt.plot(k10['K10'] / k10['K10'][0] * 100)\n",
        "plt.plot(k200['K200'] / k200['K200'][0] * 100)\n",
        "plt.legend(loc = 0)\n",
        "plt.grid(True, color = '0.7', linestyle = ':', linewidth = 1)"
      ],
      "execution_count": 0,
      "outputs": []
    },
    {
      "cell_type": "code",
      "metadata": {
        "id": "Ri9-M1AhnYKe",
        "colab_type": "code",
        "colab": {}
      },
      "source": [
        ""
      ],
      "execution_count": 0,
      "outputs": []
    }
  ]
}