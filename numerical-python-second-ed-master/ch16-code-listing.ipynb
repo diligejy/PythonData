{
 "cells": [
  {
   "cell_type": "markdown",
   "metadata": {},
   "source": [
    "# Chapter 16: Bayesian statistics"
   ]
  },
  {
   "cell_type": "markdown",
   "metadata": {},
   "source": [
    "Robert Johansson\n",
    "\n",
    "Source code listings for [Numerical Python - A Practical Techniques Approach for Industry](http://www.apress.com/9781484205549) (ISBN 978-1-484205-54-9).\n",
    "\n",
    "The source code listings can be downloaded from http://www.apress.com/9781484205549"
   ]
  },
  {
   "cell_type": "code",
   "execution_count": null,
   "metadata": {
    "collapsed": false
   },
   "outputs": [],
   "source": [
    "import pymc3 as mc "
   ]
  },
  {
   "cell_type": "code",
   "execution_count": null,
   "metadata": {
    "collapsed": true
   },
   "outputs": [],
   "source": [
    "import numpy as np"
   ]
  },
  {
   "cell_type": "code",
   "execution_count": null,
   "metadata": {
    "collapsed": true
   },
   "outputs": [],
   "source": [
    "%matplotlib inline\n",
    "%config InlineBackend.figure_format='retina'\n",
    "import matplotlib.pyplot as plt"
   ]
  },
  {
   "cell_type": "code",
   "execution_count": null,
   "metadata": {
    "collapsed": true
   },
   "outputs": [],
   "source": [
    "import seaborn as sns\n",
    "sns.set()"
   ]
  },
  {
   "cell_type": "code",
   "execution_count": null,
   "metadata": {
    "collapsed": true
   },
   "outputs": [],
   "source": [
    "from scipy import stats"
   ]
  },
  {
   "cell_type": "code",
   "execution_count": null,
   "metadata": {
    "collapsed": true
   },
   "outputs": [],
   "source": [
    "import statsmodels.api as sm"
   ]
  },
  {
   "cell_type": "code",
   "execution_count": null,
   "metadata": {
    "collapsed": true
   },
   "outputs": [],
   "source": [
    "import statsmodels.formula.api as smf"
   ]
  },
  {
   "cell_type": "code",
   "execution_count": null,
   "metadata": {
    "collapsed": true
   },
   "outputs": [],
   "source": [
    "import pandas as pd"
   ]
  },
  {
   "cell_type": "markdown",
   "metadata": {},
   "source": [
    "## Changelog:\n",
    "\n",
    "* 160828: The keyword argument `vars` to the functions `mc.traceplot` and `mc.forestplot` was changed to `varnames`."
   ]
  },
  {
   "cell_type": "markdown",
   "metadata": {},
   "source": [
    "# Simple example: Normal distributed random variable"
   ]
  },
  {
   "cell_type": "code",
   "execution_count": null,
   "metadata": {
    "collapsed": false
   },
   "outputs": [],
   "source": [
    "# try this\n",
    "# dir(mc.distributions)"
   ]
  },
  {
   "cell_type": "code",
   "execution_count": null,
   "metadata": {
    "collapsed": true
   },
   "outputs": [],
   "source": [
    "np.random.seed(100)"
   ]
  },
  {
   "cell_type": "code",
   "execution_count": null,
   "metadata": {
    "collapsed": true
   },
   "outputs": [],
   "source": [
    "mu = 4.0"
   ]
  },
  {
   "cell_type": "code",
   "execution_count": null,
   "metadata": {
    "collapsed": true
   },
   "outputs": [],
   "source": [
    "sigma = 2.0"
   ]
  },
  {
   "cell_type": "code",
   "execution_count": null,
   "metadata": {
    "collapsed": true
   },
   "outputs": [],
   "source": [
    "model = mc.Model()"
   ]
  },
  {
   "cell_type": "code",
   "execution_count": null,
   "metadata": {
    "collapsed": true
   },
   "outputs": [],
   "source": [
    "with model:\n",
    "    mc.Normal('X', mu, tau=1/sigma**2)"
   ]
  },
  {
   "cell_type": "code",
   "execution_count": null,
   "metadata": {
    "collapsed": false
   },
   "outputs": [],
   "source": [
    "model.vars"
   ]
  },
  {
   "cell_type": "code",
   "execution_count": null,
   "metadata": {
    "collapsed": true
   },
   "outputs": [],
   "source": [
    "start = dict(X=2)"
   ]
  },
  {
   "cell_type": "code",
   "execution_count": null,
   "metadata": {
    "collapsed": false
   },
   "outputs": [],
   "source": [
    "with model:\n",
    "    step = mc.Metropolis()\n",
    "    trace = mc.sample(10000, step=step, start=start, jobs=1)"
   ]
  },
  {
   "cell_type": "code",
   "execution_count": null,
   "metadata": {
    "collapsed": true
   },
   "outputs": [],
   "source": [
    "x = np.linspace(-4, 12, 1000)"
   ]
  },
  {
   "cell_type": "code",
   "execution_count": null,
   "metadata": {
    "collapsed": false
   },
   "outputs": [],
   "source": [
    "y = stats.norm(mu, sigma).pdf(x)"
   ]
  },
  {
   "cell_type": "code",
   "execution_count": null,
   "metadata": {
    "collapsed": false
   },
   "outputs": [],
   "source": [
    "X = trace.get_values(\"X\")"
   ]
  },
  {
   "cell_type": "code",
   "execution_count": null,
   "metadata": {
    "collapsed": false
   },
   "outputs": [],
   "source": [
    "fig, ax = plt.subplots(figsize=(8, 3))\n",
    "\n",
    "ax.plot(x, y, 'r', lw=2)\n",
    "sns.distplot(X, ax=ax)\n",
    "ax.set_xlim(-4, 12)\n",
    "ax.set_xlabel(\"x\")\n",
    "ax.set_ylabel(\"Probability distribution\")\n",
    "fig.tight_layout()\n",
    "fig.savefig(\"ch16-normal-distribution-sampled.pdf\")"
   ]
  },
  {
   "cell_type": "code",
   "execution_count": null,
   "metadata": {
    "collapsed": false
   },
   "outputs": [],
   "source": [
    "fig, axes = plt.subplots(1, 2, figsize=(12, 4), squeeze=False)\n",
    "mc.traceplot(trace, ax=axes)\n",
    "axes[0,0].plot(x, y, 'r', lw=0.5)\n",
    "fig.tight_layout()\n",
    "fig.savefig(\"ch16-normal-sampling-trace.png\")\n",
    "fig.savefig(\"ch16-normal-sampling-trace.pdf\")"
   ]
  },
  {
   "cell_type": "markdown",
   "metadata": {},
   "source": [
    "## Dependent random variables"
   ]
  },
  {
   "cell_type": "code",
   "execution_count": null,
   "metadata": {
    "collapsed": true
   },
   "outputs": [],
   "source": [
    "model = mc.Model()"
   ]
  },
  {
   "cell_type": "code",
   "execution_count": null,
   "metadata": {
    "collapsed": false
   },
   "outputs": [],
   "source": [
    "with model:\n",
    "    mean = mc.Normal('mean', 3.0)\n",
    "    sigma = mc.HalfNormal('sigma', sd=1.0)\n",
    "    X = mc.Normal('X', mean, tau=sigma)"
   ]
  },
  {
   "cell_type": "code",
   "execution_count": null,
   "metadata": {
    "collapsed": false
   },
   "outputs": [],
   "source": [
    "model.vars"
   ]
  },
  {
   "cell_type": "code",
   "execution_count": null,
   "metadata": {
    "collapsed": false
   },
   "outputs": [],
   "source": [
    "with model:\n",
    "    start = mc.find_MAP()"
   ]
  },
  {
   "cell_type": "code",
   "execution_count": null,
   "metadata": {
    "collapsed": false
   },
   "outputs": [],
   "source": [
    "start"
   ]
  },
  {
   "cell_type": "code",
   "execution_count": null,
   "metadata": {
    "collapsed": false
   },
   "outputs": [],
   "source": [
    "with model:\n",
    "    step = mc.Metropolis()\n",
    "    trace = mc.sample(10000, start=start, step=step)"
   ]
  },
  {
   "cell_type": "code",
   "execution_count": null,
   "metadata": {
    "collapsed": false
   },
   "outputs": [],
   "source": [
    "trace.get_values('sigma').mean()"
   ]
  },
  {
   "cell_type": "code",
   "execution_count": null,
   "metadata": {
    "collapsed": true
   },
   "outputs": [],
   "source": [
    "X = trace.get_values('X')"
   ]
  },
  {
   "cell_type": "code",
   "execution_count": null,
   "metadata": {
    "collapsed": false
   },
   "outputs": [],
   "source": [
    "X.mean()"
   ]
  },
  {
   "cell_type": "code",
   "execution_count": null,
   "metadata": {
    "collapsed": false
   },
   "outputs": [],
   "source": [
    "trace.get_values('X').std()"
   ]
  },
  {
   "cell_type": "code",
   "execution_count": null,
   "metadata": {
    "collapsed": false
   },
   "outputs": [],
   "source": [
    "fig, axes = plt.subplots(3, 2, figsize=(8, 6), squeeze=False)\n",
    "mc.traceplot(trace, varnames=['mean', 'sigma', 'X'], ax=axes)\n",
    "fig.tight_layout()\n",
    "fig.savefig(\"ch16-dependent-rv-sample-trace.png\")\n",
    "fig.savefig(\"ch16-dependent-rv-sample-trace.pdf\")"
   ]
  },
  {
   "cell_type": "markdown",
   "metadata": {},
   "source": [
    "## Posterior distributions"
   ]
  },
  {
   "cell_type": "code",
   "execution_count": null,
   "metadata": {
    "collapsed": true
   },
   "outputs": [],
   "source": [
    "mu = 2.5"
   ]
  },
  {
   "cell_type": "code",
   "execution_count": null,
   "metadata": {
    "collapsed": true
   },
   "outputs": [],
   "source": [
    "s = 1.5"
   ]
  },
  {
   "cell_type": "code",
   "execution_count": null,
   "metadata": {
    "collapsed": false
   },
   "outputs": [],
   "source": [
    "data = stats.norm(mu, s).rvs(100)"
   ]
  },
  {
   "cell_type": "code",
   "execution_count": null,
   "metadata": {
    "collapsed": false
   },
   "outputs": [],
   "source": [
    "with mc.Model() as model:\n",
    "    \n",
    "    mean = mc.Normal('mean', 4.0, tau=1.0) # true 2.5\n",
    "    sigma = mc.HalfNormal('sigma', tau=3.0 * np.sqrt(np.pi/2)) # true 1.5\n",
    "\n",
    "    X = mc.Normal('X', mean, tau=1/sigma**2, observed=data)"
   ]
  },
  {
   "cell_type": "code",
   "execution_count": null,
   "metadata": {
    "collapsed": false
   },
   "outputs": [],
   "source": [
    "model.vars"
   ]
  },
  {
   "cell_type": "code",
   "execution_count": null,
   "metadata": {
    "collapsed": false
   },
   "outputs": [],
   "source": [
    "with model:\n",
    "    start = mc.find_MAP()\n",
    "    step = mc.Metropolis()\n",
    "    trace = mc.sample(10000, start=start, step=step)\n",
    "    #step = mc.NUTS()\n",
    "    #trace = mc.sample(10000, start=start, step=step)"
   ]
  },
  {
   "cell_type": "code",
   "execution_count": null,
   "metadata": {
    "collapsed": false
   },
   "outputs": [],
   "source": [
    "start"
   ]
  },
  {
   "cell_type": "code",
   "execution_count": null,
   "metadata": {
    "collapsed": false
   },
   "outputs": [],
   "source": [
    "model.vars"
   ]
  },
  {
   "cell_type": "code",
   "execution_count": null,
   "metadata": {
    "collapsed": false
   },
   "outputs": [],
   "source": [
    "fig, axes = plt.subplots(2, 2, figsize=(8, 4), squeeze=False)\n",
    "mc.traceplot(trace, varnames=['mean', 'sigma'], ax=axes)\n",
    "fig.tight_layout()\n",
    "fig.savefig(\"ch16-posterior-sample-trace.png\")\n",
    "fig.savefig(\"ch16-posterior-sample-trace.pdf\")"
   ]
  },
  {
   "cell_type": "code",
   "execution_count": null,
   "metadata": {
    "collapsed": false
   },
   "outputs": [],
   "source": [
    "mu, trace.get_values('mean').mean()"
   ]
  },
  {
   "cell_type": "code",
   "execution_count": null,
   "metadata": {
    "collapsed": false
   },
   "outputs": [],
   "source": [
    "s, trace.get_values('sigma').mean()"
   ]
  },
  {
   "cell_type": "code",
   "execution_count": null,
   "metadata": {
    "collapsed": false
   },
   "outputs": [],
   "source": [
    "gs = mc.forestplot(trace, varnames=['mean', 'sigma'])\n",
    "plt.savefig(\"ch16-forestplot.pdf\")"
   ]
  },
  {
   "cell_type": "code",
   "execution_count": null,
   "metadata": {
    "collapsed": false
   },
   "outputs": [],
   "source": [
    "help(mc.summary)"
   ]
  },
  {
   "cell_type": "code",
   "execution_count": null,
   "metadata": {
    "collapsed": false
   },
   "outputs": [],
   "source": [
    "mc.summary(trace, varnames=['mean', 'sigma'])"
   ]
  },
  {
   "cell_type": "markdown",
   "metadata": {},
   "source": [
    "## Linear regression"
   ]
  },
  {
   "cell_type": "code",
   "execution_count": null,
   "metadata": {
    "collapsed": false
   },
   "outputs": [],
   "source": [
    "dataset = sm.datasets.get_rdataset(\"Davis\", \"carData\")"
   ]
  },
  {
   "cell_type": "code",
   "execution_count": null,
   "metadata": {
    "collapsed": false
   },
   "outputs": [],
   "source": [
    "data = dataset.data[dataset.data.sex == 'M']"
   ]
  },
  {
   "cell_type": "code",
   "execution_count": null,
   "metadata": {
    "collapsed": true
   },
   "outputs": [],
   "source": [
    "data = data[data.weight < 110]"
   ]
  },
  {
   "cell_type": "code",
   "execution_count": null,
   "metadata": {
    "collapsed": false
   },
   "outputs": [],
   "source": [
    "data.head(3)"
   ]
  },
  {
   "cell_type": "code",
   "execution_count": null,
   "metadata": {
    "collapsed": false
   },
   "outputs": [],
   "source": [
    "model = smf.ols(\"height ~ weight\", data=data)"
   ]
  },
  {
   "cell_type": "code",
   "execution_count": null,
   "metadata": {
    "collapsed": false
   },
   "outputs": [],
   "source": [
    "result = model.fit()"
   ]
  },
  {
   "cell_type": "code",
   "execution_count": null,
   "metadata": {
    "collapsed": false
   },
   "outputs": [],
   "source": [
    "print(result.summary())"
   ]
  },
  {
   "cell_type": "code",
   "execution_count": null,
   "metadata": {
    "collapsed": true
   },
   "outputs": [],
   "source": [
    "x = np.linspace(50, 110, 25)"
   ]
  },
  {
   "cell_type": "code",
   "execution_count": null,
   "metadata": {
    "collapsed": true
   },
   "outputs": [],
   "source": [
    "y = result.predict({\"weight\": x})"
   ]
  },
  {
   "cell_type": "code",
   "execution_count": null,
   "metadata": {
    "collapsed": false
   },
   "outputs": [],
   "source": [
    "fig, ax = plt.subplots(1, 1, figsize=(8, 3))\n",
    "ax.plot(data.weight, data.height, 'o')\n",
    "ax.plot(x, y, color=\"blue\")\n",
    "ax.set_xlabel(\"weight\")\n",
    "ax.set_ylabel(\"height\")\n",
    "fig.tight_layout()\n",
    "fig.savefig(\"ch16-linear-ols-fit.pdf\")"
   ]
  },
  {
   "cell_type": "code",
   "execution_count": null,
   "metadata": {
    "collapsed": false
   },
   "outputs": [],
   "source": [
    "with mc.Model() as model:\n",
    "    sigma = mc.Uniform('sigma', 0, 10)\n",
    "    intercept = mc.Normal('intercept', 125, sd=30)\n",
    "    beta = mc.Normal('beta', 0, sd=5)\n",
    "    \n",
    "    height_mu = intercept + beta * data.weight\n",
    "\n",
    "    # likelihood function\n",
    "    mc.Normal('height', mu=height_mu, sd=sigma, observed=data.height)\n",
    "\n",
    "    # predict\n",
    "    predict_height = mc.Normal('predict_height', mu=intercept + beta * x, sd=sigma, shape=len(x)) "
   ]
  },
  {
   "cell_type": "code",
   "execution_count": null,
   "metadata": {
    "collapsed": false
   },
   "outputs": [],
   "source": [
    "model.vars"
   ]
  },
  {
   "cell_type": "code",
   "execution_count": null,
   "metadata": {},
   "outputs": [],
   "source": [
    "# help(mc.NUTS)"
   ]
  },
  {
   "cell_type": "code",
   "execution_count": null,
   "metadata": {
    "collapsed": false
   },
   "outputs": [],
   "source": [
    "with model:\n",
    "    start = mc.find_MAP()\n",
    "    step = mc.NUTS()\n",
    "    trace = mc.sample(10000, step, start=start)"
   ]
  },
  {
   "cell_type": "code",
   "execution_count": null,
   "metadata": {
    "collapsed": false
   },
   "outputs": [],
   "source": [
    "model.vars"
   ]
  },
  {
   "cell_type": "code",
   "execution_count": null,
   "metadata": {
    "collapsed": false
   },
   "outputs": [],
   "source": [
    "fig, axes = plt.subplots(2, 2, figsize=(8, 4), squeeze=False)\n",
    "mc.traceplot(trace, varnames=['intercept', 'beta'], ax=axes)\n",
    "fig.savefig(\"ch16-linear-model-sample-trace.pdf\")\n",
    "fig.savefig(\"ch16-linear-model-sample-trace.png\")"
   ]
  },
  {
   "cell_type": "code",
   "execution_count": null,
   "metadata": {
    "collapsed": false
   },
   "outputs": [],
   "source": [
    "intercept = trace.get_values(\"intercept\").mean()\n",
    "intercept"
   ]
  },
  {
   "cell_type": "code",
   "execution_count": null,
   "metadata": {
    "collapsed": false
   },
   "outputs": [],
   "source": [
    "beta = trace.get_values(\"beta\").mean()\n",
    "beta"
   ]
  },
  {
   "cell_type": "code",
   "execution_count": null,
   "metadata": {
    "collapsed": false
   },
   "outputs": [],
   "source": [
    "result.params"
   ]
  },
  {
   "cell_type": "code",
   "execution_count": null,
   "metadata": {
    "collapsed": false
   },
   "outputs": [],
   "source": [
    "result.predict({\"weight\": 90})"
   ]
  },
  {
   "cell_type": "code",
   "execution_count": null,
   "metadata": {
    "collapsed": true
   },
   "outputs": [],
   "source": [
    "weight_index = np.where(x == 90)[0][0]"
   ]
  },
  {
   "cell_type": "code",
   "execution_count": null,
   "metadata": {
    "collapsed": false
   },
   "outputs": [],
   "source": [
    "trace.get_values(\"predict_height\")[:, weight_index].mean()"
   ]
  },
  {
   "cell_type": "code",
   "execution_count": null,
   "metadata": {
    "collapsed": false
   },
   "outputs": [],
   "source": [
    "fig, ax = plt.subplots(figsize=(8, 3))\n",
    "\n",
    "sns.distplot(trace.get_values(\"predict_height\")[:, weight_index], ax=ax)\n",
    "ax.set_xlim(150, 210)\n",
    "ax.set_xlabel(\"height\")\n",
    "ax.set_ylabel(\"Probability distribution\")\n",
    "fig.tight_layout()\n",
    "fig.savefig(\"ch16-linear-model-predict-cut.pdf\")"
   ]
  },
  {
   "cell_type": "code",
   "execution_count": null,
   "metadata": {
    "collapsed": false
   },
   "outputs": [],
   "source": [
    "fig, ax = plt.subplots(1, 1, figsize=(12, 4))\n",
    "\n",
    "for n in range(500, 2000, 1):\n",
    "    intercept = trace.get_values(\"intercept\")[n]\n",
    "    beta = trace.get_values(\"beta\")[n]\n",
    "    ax.plot(x, intercept + beta * x, color='red', lw=0.25, alpha=0.05)\n",
    "\n",
    "intercept = trace.get_values(\"intercept\").mean()\n",
    "beta = trace.get_values(\"beta\").mean()\n",
    "ax.plot(x, intercept + beta * x, color='k', label=\"Mean Bayesian prediction\")\n",
    "\n",
    "ax.plot(data.weight, data.height, 'o')\n",
    "ax.plot(x, y, '--', color=\"blue\", label=\"OLS prediction\")\n",
    "ax.set_xlabel(\"weight\")\n",
    "ax.set_ylabel(\"height\")\n",
    "ax.legend(loc=0)\n",
    "fig.tight_layout()\n",
    "fig.savefig(\"ch16-linear-model-fit.pdf\")\n",
    "fig.savefig(\"ch16-linear-model-fit.png\")"
   ]
  },
  {
   "cell_type": "code",
   "execution_count": null,
   "metadata": {
    "collapsed": false
   },
   "outputs": [],
   "source": [
    "with mc.Model() as model:\n",
    "    mc.glm.GLM.from_formula('height ~ weight', data)\n",
    "    step = mc.NUTS()\n",
    "    trace = mc.sample(2000, step)"
   ]
  },
  {
   "cell_type": "code",
   "execution_count": null,
   "metadata": {
    "collapsed": false,
    "scrolled": false
   },
   "outputs": [],
   "source": [
    "fig, axes = plt.subplots(3, 2, figsize=(8, 6), squeeze=False)\n",
    "mc.traceplot(trace, varnames=['Intercept', 'weight', 'sd'], ax=axes)\n",
    "fig.tight_layout()\n",
    "fig.savefig(\"ch16-glm-sample-trace.pdf\")\n",
    "fig.savefig(\"ch16-glm-sample-trace.png\")"
   ]
  },
  {
   "cell_type": "markdown",
   "metadata": {},
   "source": [
    "## Multilevel model"
   ]
  },
  {
   "cell_type": "code",
   "execution_count": null,
   "metadata": {
    "collapsed": true
   },
   "outputs": [],
   "source": [
    "dataset = sm.datasets.get_rdataset(\"Davis\", \"carData\")"
   ]
  },
  {
   "cell_type": "code",
   "execution_count": null,
   "metadata": {
    "collapsed": true
   },
   "outputs": [],
   "source": [
    "data = dataset.data.copy()\n",
    "data = data[data.weight < 110]"
   ]
  },
  {
   "cell_type": "code",
   "execution_count": null,
   "metadata": {
    "collapsed": false
   },
   "outputs": [],
   "source": [
    "data[\"sex\"] = data[\"sex\"].apply(lambda x: 1 if x == \"F\" else 0)"
   ]
  },
  {
   "cell_type": "code",
   "execution_count": null,
   "metadata": {
    "collapsed": false
   },
   "outputs": [],
   "source": [
    "data.head()"
   ]
  },
  {
   "cell_type": "code",
   "execution_count": null,
   "metadata": {
    "collapsed": false
   },
   "outputs": [],
   "source": [
    "with mc.Model() as model:\n",
    "\n",
    "    # heirarchical model: hyper priors\n",
    "    #intercept_mu = mc.Normal(\"intercept_mu\", 125)\n",
    "    #intercept_sigma = 30.0 #mc.Uniform('intercept_sigma', lower=0, upper=50)\n",
    "    #beta_mu = mc.Normal(\"beta_mu\", 0.0)\n",
    "    #beta_sigma = 5.0 #mc.Uniform('beta_sigma', lower=0, upper=10)\n",
    "    \n",
    "    # multilevel model: prior parameters\n",
    "    intercept_mu, intercept_sigma = 125, 30\n",
    "    beta_mu, beta_sigma = 0.0, 5.0\n",
    "    \n",
    "    # priors\n",
    "    intercept = mc.Normal('intercept', intercept_mu, sd=intercept_sigma, shape=2)\n",
    "    beta = mc.Normal('beta', beta_mu, sd=beta_sigma, shape=2)\n",
    "    error = mc.Uniform('error', 0, 10)\n",
    "\n",
    "    # model equation\n",
    "    sex_idx = data.sex.values\n",
    "    height_mu = intercept[sex_idx] + beta[sex_idx] * data.weight\n",
    "\n",
    "    mc.Normal('height', mu=height_mu, sd=error, observed=data.height)"
   ]
  },
  {
   "cell_type": "code",
   "execution_count": null,
   "metadata": {
    "collapsed": false
   },
   "outputs": [],
   "source": [
    "model.vars"
   ]
  },
  {
   "cell_type": "code",
   "execution_count": null,
   "metadata": {
    "collapsed": false
   },
   "outputs": [],
   "source": [
    "with model:\n",
    "    start = mc.find_MAP()\n",
    "    # hessian = mc.find_hessian(start)\n",
    "    step = mc.NUTS()\n",
    "    trace = mc.sample(5000, step, start=start)"
   ]
  },
  {
   "cell_type": "code",
   "execution_count": null,
   "metadata": {
    "collapsed": false
   },
   "outputs": [],
   "source": [
    "fig, axes = plt.subplots(3, 2, figsize=(8, 6), squeeze=False)\n",
    "mc.traceplot(trace, varnames=['intercept', 'beta', 'error'], ax=axes)\n",
    "fig.tight_layout()\n",
    "fig.savefig(\"ch16-multilevel-sample-trace.pdf\")\n",
    "fig.savefig(\"ch16-multilevel-sample-trace.png\")"
   ]
  },
  {
   "cell_type": "code",
   "execution_count": null,
   "metadata": {
    "collapsed": false
   },
   "outputs": [],
   "source": [
    "intercept_m, intercept_f = trace.get_values('intercept').mean(axis=0)"
   ]
  },
  {
   "cell_type": "code",
   "execution_count": null,
   "metadata": {
    "collapsed": true
   },
   "outputs": [],
   "source": [
    "intercept = trace.get_values('intercept').mean()"
   ]
  },
  {
   "cell_type": "code",
   "execution_count": null,
   "metadata": {
    "collapsed": true
   },
   "outputs": [],
   "source": [
    "beta_m, beta_f = trace.get_values('beta').mean(axis=0)"
   ]
  },
  {
   "cell_type": "code",
   "execution_count": null,
   "metadata": {
    "collapsed": true
   },
   "outputs": [],
   "source": [
    "beta = trace.get_values('beta').mean()"
   ]
  },
  {
   "cell_type": "code",
   "execution_count": null,
   "metadata": {
    "collapsed": false
   },
   "outputs": [],
   "source": [
    "fig, ax = plt.subplots(1, 1, figsize=(8, 3))\n",
    "\n",
    "mask_m = data.sex == 0\n",
    "mask_f = data.sex == 1\n",
    "\n",
    "ax.plot(data.weight[mask_m], data.height[mask_m], 'o', color=\"steelblue\", label=\"male\", alpha=0.5)\n",
    "ax.plot(data.weight[mask_f], data.height[mask_f], 'o', color=\"green\", label=\"female\", alpha=0.5)\n",
    "\n",
    "x = np.linspace(35, 110, 50)\n",
    "ax.plot(x, intercept_m + x * beta_m, color=\"steelblue\", label=\"model male group\")\n",
    "ax.plot(x, intercept_f + x * beta_f, color=\"green\", label=\"model female group\")\n",
    "ax.plot(x, intercept + x * beta, color=\"black\", label=\"model both groups\")\n",
    "\n",
    "ax.set_xlabel(\"weight\")\n",
    "ax.set_ylabel(\"height\")\n",
    "ax.legend(loc=0)\n",
    "fig.tight_layout()\n",
    "fig.savefig(\"ch16-multilevel-linear-model-fit.pdf\")\n",
    "fig.savefig(\"ch16-multilevel-linear-model-fit.png\")"
   ]
  },
  {
   "cell_type": "code",
   "execution_count": null,
   "metadata": {
    "collapsed": false
   },
   "outputs": [],
   "source": [
    "trace.get_values('error').mean()"
   ]
  },
  {
   "cell_type": "markdown",
   "metadata": {},
   "source": [
    "# Version"
   ]
  },
  {
   "cell_type": "code",
   "execution_count": null,
   "metadata": {
    "collapsed": true
   },
   "outputs": [],
   "source": [
    "%reload_ext version_information"
   ]
  },
  {
   "cell_type": "code",
   "execution_count": null,
   "metadata": {
    "collapsed": false
   },
   "outputs": [],
   "source": [
    "%version_information numpy, pandas, matplotlib, statsmodels, pymc3"
   ]
  }
 ],
 "metadata": {
  "kernelspec": {
   "display_name": "Python 3.6 (NPM ed2)",
   "language": "python",
   "name": "py3.6-npm-e2"
  },
  "language_info": {
   "codemirror_mode": {
    "name": "ipython",
    "version": 3
   },
   "file_extension": ".py",
   "mimetype": "text/x-python",
   "name": "python",
   "nbconvert_exporter": "python",
   "pygments_lexer": "ipython3",
   "version": "3.6.6"
  }
 },
 "nbformat": 4,
 "nbformat_minor": 2
}
